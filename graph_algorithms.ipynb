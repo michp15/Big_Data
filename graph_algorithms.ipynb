{
  "metadata": {
    "kernelspec": {
      "name": "python3",
      "display_name": "Python 3"
    },
    "language_info": {
      "name": "python",
      "version": "3.11.11",
      "mimetype": "text/x-python",
      "codemirror_mode": {
        "name": "ipython",
        "version": 3
      },
      "pygments_lexer": "ipython3",
      "nbconvert_exporter": "python",
      "file_extension": ".py"
    },
    "colab": {
      "provenance": [],
      "collapsed_sections": [
        "krGB021n7Fz9",
        "Pnt_JDrpPAuF",
        "4U6AMoW9PiBC",
        "odTUclKTTeJR"
      ]
    },
    "kaggle": {
      "accelerator": "none",
      "dataSources": [
        {
          "sourceId": 3316532,
          "sourceType": "datasetVersion",
          "datasetId": 10100
        }
      ],
      "dockerImageVersionId": 31040,
      "isInternetEnabled": true,
      "language": "python",
      "sourceType": "notebook",
      "isGpuEnabled": false
    }
  },
  "nbformat_minor": 0,
  "nbformat": 4,
  "cells": [
    {
      "cell_type": "markdown",
      "source": [
        "# Graph Analysis"
      ],
      "metadata": {
        "id": "0LtPWKc37C3g"
      }
    },
    {
      "cell_type": "markdown",
      "source": [
        "## If you already saw \"graphs-setup-and-plot.ipynb\", you can skip parts 1-4 and move onto part 5"
      ],
      "metadata": {
        "id": "z1uqyetbRNNW"
      }
    },
    {
      "cell_type": "markdown",
      "source": [
        "## 1. Project Setup & Environment"
      ],
      "metadata": {
        "id": "krGB021n7Fz9"
      }
    },
    {
      "cell_type": "code",
      "source": [
        "# Install & configure dependencies\n",
        "!pip install pyspark\n",
        "!pip install graphframes"
      ],
      "metadata": {
        "id": "GPRRuQFy6-zk",
        "trusted": true,
        "execution": {
          "iopub.status.busy": "2025-05-13T16:51:50.959559Z",
          "iopub.execute_input": "2025-05-13T16:51:50.959897Z",
          "iopub.status.idle": "2025-05-13T16:51:57.591505Z",
          "shell.execute_reply.started": "2025-05-13T16:51:50.959871Z",
          "shell.execute_reply": "2025-05-13T16:51:57.590587Z"
        },
        "colab": {
          "base_uri": "https://localhost:8080/"
        },
        "outputId": "37b8bf70-6739-4199-a05e-432bfc99794f"
      },
      "outputs": [
        {
          "output_type": "stream",
          "name": "stdout",
          "text": [
            "Requirement already satisfied: pyspark in /usr/local/lib/python3.11/dist-packages (3.5.1)\n",
            "Requirement already satisfied: py4j==0.10.9.7 in /usr/local/lib/python3.11/dist-packages (from pyspark) (0.10.9.7)\n",
            "Requirement already satisfied: graphframes in /usr/local/lib/python3.11/dist-packages (0.6)\n",
            "Requirement already satisfied: numpy in /usr/local/lib/python3.11/dist-packages (from graphframes) (2.0.2)\n",
            "Requirement already satisfied: nose in /usr/local/lib/python3.11/dist-packages (from graphframes) (1.3.7)\n"
          ]
        }
      ],
      "execution_count": null
    },
    {
      "cell_type": "code",
      "source": [
        "# spark functionality\n",
        "from pyspark.sql import SparkSession\n",
        "from pyspark.sql.functions import col, sum, avg, count, lit, year, month, split, explode, size, regexp_replace, trim, row_number, rand, broadcast\n",
        "from pyspark.ml.feature import StringIndexer # incoding strings\n",
        "from pyspark.ml.evaluation import RegressionEvaluator # for evaluation\n",
        "from graphframes import GraphFrame # for graphs\n",
        "from pyspark.sql.window import Window\n",
        "\n",
        "# for visualizations\n",
        "import pandas as pd\n",
        "import matplotlib.pyplot as plt\n",
        "import seaborn as sns\n",
        "import networkx as nx\n",
        "\n",
        "from networkx.algorithms import bipartite # for bipartite\n",
        "\n",
        "from google.colab import drive\n",
        "from pyspark.sql import Row"
      ],
      "metadata": {
        "id": "cUW6_2H_7XWm",
        "trusted": true,
        "execution": {
          "iopub.status.busy": "2025-05-13T16:53:31.191511Z",
          "iopub.execute_input": "2025-05-13T16:53:31.194073Z",
          "iopub.status.idle": "2025-05-13T16:53:31.203964Z",
          "shell.execute_reply.started": "2025-05-13T16:53:31.193996Z",
          "shell.execute_reply": "2025-05-13T16:53:31.203060Z"
        }
      },
      "outputs": [],
      "execution_count": null
    },
    {
      "cell_type": "code",
      "source": [
        "# initialize SparkSession with GraphFrames support\n",
        "spark = SparkSession.builder \\\n",
        "    .appName(\"YelpEDA_GraphAnalysis\") \\\n",
        "    .config(\"spark.jars.packages\", \"graphframes:graphframes:0.8.2-spark3.1-s_2.12\") \\\n",
        "    .config(\"spark.driver.memory\", \"10g\") \\\n",
        "    .config(\"spark.executor.memory\", \"10g\") \\\n",
        "    .getOrCreate()\n",
        "\n",
        "# verify the session\n",
        "spark"
      ],
      "metadata": {
        "id": "I55A4gL37ZVK",
        "trusted": true,
        "execution": {
          "iopub.status.busy": "2025-05-13T16:52:21.865493Z",
          "iopub.execute_input": "2025-05-13T16:52:21.865842Z",
          "iopub.status.idle": "2025-05-13T16:52:21.882141Z",
          "shell.execute_reply.started": "2025-05-13T16:52:21.865819Z",
          "shell.execute_reply": "2025-05-13T16:52:21.881264Z"
        },
        "colab": {
          "base_uri": "https://localhost:8080/",
          "height": 219
        },
        "outputId": "eddc4714-b291-4e52-cca1-3ea68c56f4e0"
      },
      "outputs": [
        {
          "output_type": "execute_result",
          "data": {
            "text/plain": [
              "<pyspark.sql.session.SparkSession at 0x7effab3b2890>"
            ],
            "text/html": [
              "\n",
              "            <div>\n",
              "                <p><b>SparkSession - in-memory</b></p>\n",
              "                \n",
              "        <div>\n",
              "            <p><b>SparkContext</b></p>\n",
              "\n",
              "            <p><a href=\"http://64b719d5c969:4040\">Spark UI</a></p>\n",
              "\n",
              "            <dl>\n",
              "              <dt>Version</dt>\n",
              "                <dd><code>v3.5.1</code></dd>\n",
              "              <dt>Master</dt>\n",
              "                <dd><code>local[*]</code></dd>\n",
              "              <dt>AppName</dt>\n",
              "                <dd><code>YelpEDA_GraphAnalysis</code></dd>\n",
              "            </dl>\n",
              "        </div>\n",
              "        \n",
              "            </div>\n",
              "        "
            ]
          },
          "metadata": {},
          "execution_count": 37
        }
      ],
      "execution_count": null
    },
    {
      "cell_type": "markdown",
      "source": [
        "## 2. Data Ingestion"
      ],
      "metadata": {
        "id": "Pnt_JDrpPAuF"
      }
    },
    {
      "cell_type": "code",
      "source": [
        "business_df = spark.read.json(\"/kaggle/input/yelp-dataset/yelp_academic_dataset_business.json\") \\\n",
        "    .select(\"business_id\", \"name\", \"categories\")\n",
        "user_df = spark.read.json(\"/kaggle/input/yelp-dataset/yelp_academic_dataset_user.json\") \\\n",
        "    .select(\"user_id\", \"name\", \"review_count\", \"average_stars\", \"friends\")\n",
        "review_df = spark.read.json(\"/kaggle/input/yelp-dataset/yelp_academic_dataset_review.json\") \\\n",
        "    .select(\"user_id\", \"business_id\", \"stars\", \"date\")"
      ],
      "metadata": {
        "id": "xbuKoKHRPDcG",
        "trusted": true,
        "execution": {
          "iopub.status.busy": "2025-05-13T16:52:26.150290Z",
          "iopub.execute_input": "2025-05-13T16:52:26.151063Z",
          "iopub.status.idle": "2025-05-13T16:53:15.964650Z",
          "shell.execute_reply.started": "2025-05-13T16:52:26.151005Z",
          "shell.execute_reply": "2025-05-13T16:53:15.963616Z"
        },
        "outputId": "afe32696-c5c2-44d2-8032-e3bfacbdfea9",
        "colab": {
          "base_uri": "https://localhost:8080/",
          "height": 356
        }
      },
      "outputs": [
        {
          "output_type": "error",
          "ename": "AnalysisException",
          "evalue": "[PATH_NOT_FOUND] Path does not exist: file:/kaggle/input/yelp-dataset/yelp_academic_dataset_business.json.",
          "traceback": [
            "\u001b[0;31m---------------------------------------------------------------------------\u001b[0m",
            "\u001b[0;31mAnalysisException\u001b[0m                         Traceback (most recent call last)",
            "\u001b[0;32m<ipython-input-38-add2ff3b5544>\u001b[0m in \u001b[0;36m<cell line: 0>\u001b[0;34m()\u001b[0m\n\u001b[0;32m----> 1\u001b[0;31m \u001b[0mbusiness_df\u001b[0m \u001b[0;34m=\u001b[0m \u001b[0mspark\u001b[0m\u001b[0;34m.\u001b[0m\u001b[0mread\u001b[0m\u001b[0;34m.\u001b[0m\u001b[0mjson\u001b[0m\u001b[0;34m(\u001b[0m\u001b[0;34m\"/kaggle/input/yelp-dataset/yelp_academic_dataset_business.json\"\u001b[0m\u001b[0;34m)\u001b[0m\u001b[0;31m \u001b[0m\u001b[0;31m\\\u001b[0m\u001b[0;34m\u001b[0m\u001b[0;34m\u001b[0m\u001b[0m\n\u001b[0m\u001b[1;32m      2\u001b[0m     \u001b[0;34m.\u001b[0m\u001b[0mselect\u001b[0m\u001b[0;34m(\u001b[0m\u001b[0;34m\"business_id\"\u001b[0m\u001b[0;34m,\u001b[0m \u001b[0;34m\"name\"\u001b[0m\u001b[0;34m,\u001b[0m \u001b[0;34m\"categories\"\u001b[0m\u001b[0;34m)\u001b[0m\u001b[0;34m\u001b[0m\u001b[0;34m\u001b[0m\u001b[0m\n\u001b[1;32m      3\u001b[0m \u001b[0muser_df\u001b[0m \u001b[0;34m=\u001b[0m \u001b[0mspark\u001b[0m\u001b[0;34m.\u001b[0m\u001b[0mread\u001b[0m\u001b[0;34m.\u001b[0m\u001b[0mjson\u001b[0m\u001b[0;34m(\u001b[0m\u001b[0;34m\"/kaggle/input/yelp-dataset/yelp_academic_dataset_user.json\"\u001b[0m\u001b[0;34m)\u001b[0m\u001b[0;31m \u001b[0m\u001b[0;31m\\\u001b[0m\u001b[0;34m\u001b[0m\u001b[0;34m\u001b[0m\u001b[0m\n\u001b[1;32m      4\u001b[0m     \u001b[0;34m.\u001b[0m\u001b[0mselect\u001b[0m\u001b[0;34m(\u001b[0m\u001b[0;34m\"user_id\"\u001b[0m\u001b[0;34m,\u001b[0m \u001b[0;34m\"name\"\u001b[0m\u001b[0;34m,\u001b[0m \u001b[0;34m\"review_count\"\u001b[0m\u001b[0;34m,\u001b[0m \u001b[0;34m\"average_stars\"\u001b[0m\u001b[0;34m,\u001b[0m \u001b[0;34m\"friends\"\u001b[0m\u001b[0;34m)\u001b[0m\u001b[0;34m\u001b[0m\u001b[0;34m\u001b[0m\u001b[0m\n\u001b[1;32m      5\u001b[0m \u001b[0mreview_df\u001b[0m \u001b[0;34m=\u001b[0m \u001b[0mspark\u001b[0m\u001b[0;34m.\u001b[0m\u001b[0mread\u001b[0m\u001b[0;34m.\u001b[0m\u001b[0mjson\u001b[0m\u001b[0;34m(\u001b[0m\u001b[0;34m\"/kaggle/input/yelp-dataset/yelp_academic_dataset_review.json\"\u001b[0m\u001b[0;34m)\u001b[0m\u001b[0;31m \u001b[0m\u001b[0;31m\\\u001b[0m\u001b[0;34m\u001b[0m\u001b[0;34m\u001b[0m\u001b[0m\n",
            "\u001b[0;32m/usr/local/lib/python3.11/dist-packages/pyspark/sql/readwriter.py\u001b[0m in \u001b[0;36mjson\u001b[0;34m(self, path, schema, primitivesAsString, prefersDecimal, allowComments, allowUnquotedFieldNames, allowSingleQuotes, allowNumericLeadingZero, allowBackslashEscapingAnyCharacter, mode, columnNameOfCorruptRecord, dateFormat, timestampFormat, multiLine, allowUnquotedControlChars, lineSep, samplingRatio, dropFieldIfAllNull, encoding, locale, pathGlobFilter, recursiveFileLookup, modifiedBefore, modifiedAfter, allowNonNumericNumbers)\u001b[0m\n\u001b[1;32m    423\u001b[0m         \u001b[0;32mif\u001b[0m \u001b[0mtype\u001b[0m\u001b[0;34m(\u001b[0m\u001b[0mpath\u001b[0m\u001b[0;34m)\u001b[0m \u001b[0;34m==\u001b[0m \u001b[0mlist\u001b[0m\u001b[0;34m:\u001b[0m\u001b[0;34m\u001b[0m\u001b[0;34m\u001b[0m\u001b[0m\n\u001b[1;32m    424\u001b[0m             \u001b[0;32massert\u001b[0m \u001b[0mself\u001b[0m\u001b[0;34m.\u001b[0m\u001b[0m_spark\u001b[0m\u001b[0;34m.\u001b[0m\u001b[0m_sc\u001b[0m\u001b[0;34m.\u001b[0m\u001b[0m_jvm\u001b[0m \u001b[0;32mis\u001b[0m \u001b[0;32mnot\u001b[0m \u001b[0;32mNone\u001b[0m\u001b[0;34m\u001b[0m\u001b[0;34m\u001b[0m\u001b[0m\n\u001b[0;32m--> 425\u001b[0;31m             \u001b[0;32mreturn\u001b[0m \u001b[0mself\u001b[0m\u001b[0;34m.\u001b[0m\u001b[0m_df\u001b[0m\u001b[0;34m(\u001b[0m\u001b[0mself\u001b[0m\u001b[0;34m.\u001b[0m\u001b[0m_jreader\u001b[0m\u001b[0;34m.\u001b[0m\u001b[0mjson\u001b[0m\u001b[0;34m(\u001b[0m\u001b[0mself\u001b[0m\u001b[0;34m.\u001b[0m\u001b[0m_spark\u001b[0m\u001b[0;34m.\u001b[0m\u001b[0m_sc\u001b[0m\u001b[0;34m.\u001b[0m\u001b[0m_jvm\u001b[0m\u001b[0;34m.\u001b[0m\u001b[0mPythonUtils\u001b[0m\u001b[0;34m.\u001b[0m\u001b[0mtoSeq\u001b[0m\u001b[0;34m(\u001b[0m\u001b[0mpath\u001b[0m\u001b[0;34m)\u001b[0m\u001b[0;34m)\u001b[0m\u001b[0;34m)\u001b[0m\u001b[0;34m\u001b[0m\u001b[0;34m\u001b[0m\u001b[0m\n\u001b[0m\u001b[1;32m    426\u001b[0m         \u001b[0;32melif\u001b[0m \u001b[0misinstance\u001b[0m\u001b[0;34m(\u001b[0m\u001b[0mpath\u001b[0m\u001b[0;34m,\u001b[0m \u001b[0mRDD\u001b[0m\u001b[0;34m)\u001b[0m\u001b[0;34m:\u001b[0m\u001b[0;34m\u001b[0m\u001b[0;34m\u001b[0m\u001b[0m\n\u001b[1;32m    427\u001b[0m \u001b[0;34m\u001b[0m\u001b[0m\n",
            "\u001b[0;32m/usr/local/lib/python3.11/dist-packages/py4j/java_gateway.py\u001b[0m in \u001b[0;36m__call__\u001b[0;34m(self, *args)\u001b[0m\n\u001b[1;32m   1320\u001b[0m \u001b[0;34m\u001b[0m\u001b[0m\n\u001b[1;32m   1321\u001b[0m         \u001b[0manswer\u001b[0m \u001b[0;34m=\u001b[0m \u001b[0mself\u001b[0m\u001b[0;34m.\u001b[0m\u001b[0mgateway_client\u001b[0m\u001b[0;34m.\u001b[0m\u001b[0msend_command\u001b[0m\u001b[0;34m(\u001b[0m\u001b[0mcommand\u001b[0m\u001b[0;34m)\u001b[0m\u001b[0;34m\u001b[0m\u001b[0;34m\u001b[0m\u001b[0m\n\u001b[0;32m-> 1322\u001b[0;31m         return_value = get_return_value(\n\u001b[0m\u001b[1;32m   1323\u001b[0m             answer, self.gateway_client, self.target_id, self.name)\n\u001b[1;32m   1324\u001b[0m \u001b[0;34m\u001b[0m\u001b[0m\n",
            "\u001b[0;32m/usr/local/lib/python3.11/dist-packages/pyspark/errors/exceptions/captured.py\u001b[0m in \u001b[0;36mdeco\u001b[0;34m(*a, **kw)\u001b[0m\n\u001b[1;32m    183\u001b[0m                 \u001b[0;31m# Hide where the exception came from that shows a non-Pythonic\u001b[0m\u001b[0;34m\u001b[0m\u001b[0;34m\u001b[0m\u001b[0m\n\u001b[1;32m    184\u001b[0m                 \u001b[0;31m# JVM exception message.\u001b[0m\u001b[0;34m\u001b[0m\u001b[0;34m\u001b[0m\u001b[0m\n\u001b[0;32m--> 185\u001b[0;31m                 \u001b[0;32mraise\u001b[0m \u001b[0mconverted\u001b[0m \u001b[0;32mfrom\u001b[0m \u001b[0;32mNone\u001b[0m\u001b[0;34m\u001b[0m\u001b[0;34m\u001b[0m\u001b[0m\n\u001b[0m\u001b[1;32m    186\u001b[0m             \u001b[0;32melse\u001b[0m\u001b[0;34m:\u001b[0m\u001b[0;34m\u001b[0m\u001b[0;34m\u001b[0m\u001b[0m\n\u001b[1;32m    187\u001b[0m                 \u001b[0;32mraise\u001b[0m\u001b[0;34m\u001b[0m\u001b[0;34m\u001b[0m\u001b[0m\n",
            "\u001b[0;31mAnalysisException\u001b[0m: [PATH_NOT_FOUND] Path does not exist: file:/kaggle/input/yelp-dataset/yelp_academic_dataset_business.json."
          ]
        }
      ],
      "execution_count": null
    },
    {
      "cell_type": "markdown",
      "source": [
        "## 3. Graph Creation"
      ],
      "metadata": {
        "id": "4U6AMoW9PiBC"
      }
    },
    {
      "cell_type": "code",
      "source": [
        "# create vertices for the graphs\n",
        "\n",
        "# User vertices for friendship graph\n",
        "target_user_cols = [\"user_id\", \"name\", \"review_count\", \"average_stars\"]\n",
        "user_vertices = user_df.selectExpr(\n",
        "    \"user_id as id\",\n",
        "    \"name\",\n",
        "    \"review_count\",\n",
        "    \"average_stars\"\n",
        ")\n",
        "\n",
        "# Business vertices for review graph\n",
        "business_vertices = business_df.selectExpr(\n",
        "    \"business_id as id\",\n",
        "    \"name\",\n",
        "    \"categories\"\n",
        ")"
      ],
      "metadata": {
        "id": "43bDl_TePhca",
        "trusted": true,
        "execution": {
          "iopub.status.busy": "2025-05-13T16:53:15.966282Z",
          "iopub.execute_input": "2025-05-13T16:53:15.966601Z",
          "iopub.status.idle": "2025-05-13T16:53:16.049973Z",
          "shell.execute_reply.started": "2025-05-13T16:53:15.966580Z",
          "shell.execute_reply": "2025-05-13T16:53:16.049064Z"
        }
      },
      "outputs": [],
      "execution_count": null
    },
    {
      "cell_type": "code",
      "source": [
        "# combine vertices for the bipartite graph\n",
        "\n",
        "# we can reuse user_vertices and business_vertices, adding missing columns\n",
        "u_verts = user_vertices.withColumn(\"categories\", lit(None).cast(\"string\"))\n",
        "b_verts = business_vertices.withColumn(\"review_count\", lit(None).cast(\"int\")) \\\n",
        "                          .withColumn(\"average_stars\", lit(None).cast(\"double\"))\n",
        "bipartite_vertices = u_verts.unionByName(b_verts)"
      ],
      "metadata": {
        "trusted": true,
        "execution": {
          "iopub.status.busy": "2025-05-13T16:53:16.050944Z",
          "iopub.execute_input": "2025-05-13T16:53:16.051273Z",
          "iopub.status.idle": "2025-05-13T16:53:16.142349Z",
          "shell.execute_reply.started": "2025-05-13T16:53:16.051246Z",
          "shell.execute_reply": "2025-05-13T16:53:16.141724Z"
        },
        "id": "zA_DCY2Y7GlU"
      },
      "outputs": [],
      "execution_count": null
    },
    {
      "cell_type": "code",
      "source": [
        "# create edges:\n",
        "\n",
        "# create Friend edges by explode friends of each user after splitting them (User <-> User)\n",
        "friend_edges = user_df.select(\n",
        "    col(\"user_id\").alias(\"src\"),\n",
        "    explode(\n",
        "        split(trim(col(\"friends\")), \", *\")\n",
        "    ).alias(\"dst\")\n",
        ").filter(col(\"dst\") != \"\")\n",
        "\n",
        "# review edges (User -> Business)\n",
        "review_edges = review_df.selectExpr(\n",
        "    \"user_id as src\",\n",
        "    \"business_id as dst\",\n",
        "    \"stars as rating\",\n",
        "    \"date\"\n",
        ")"
      ],
      "metadata": {
        "id": "m0-sDvhcPd-W",
        "trusted": true,
        "execution": {
          "iopub.status.busy": "2025-05-13T16:53:16.143654Z",
          "iopub.execute_input": "2025-05-13T16:53:16.143882Z",
          "iopub.status.idle": "2025-05-13T16:53:16.252541Z",
          "shell.execute_reply.started": "2025-05-13T16:53:16.143865Z",
          "shell.execute_reply": "2025-05-13T16:53:16.251621Z"
        }
      },
      "outputs": [],
      "execution_count": null
    },
    {
      "cell_type": "code",
      "source": [
        "# build the graphs\n",
        "\n",
        "g_friend = GraphFrame(user_vertices, friend_edges)\n",
        "g_review = GraphFrame(business_vertices, review_edges)\n",
        "g_bi = GraphFrame(bipartite_vertices, review_edges)"
      ],
      "metadata": {
        "id": "hXvzk60yTTVG",
        "trusted": true,
        "execution": {
          "iopub.status.busy": "2025-05-13T16:53:16.253331Z",
          "iopub.execute_input": "2025-05-13T16:53:16.253660Z",
          "iopub.status.idle": "2025-05-13T16:53:16.340093Z",
          "shell.execute_reply.started": "2025-05-13T16:53:16.253631Z",
          "shell.execute_reply": "2025-05-13T16:53:16.338837Z"
        }
      },
      "outputs": [],
      "execution_count": null
    },
    {
      "cell_type": "markdown",
      "source": [
        "## 4. Graph Visulaization"
      ],
      "metadata": {
        "id": "odTUclKTTeJR"
      }
    },
    {
      "cell_type": "markdown",
      "source": [
        "### 4.1 Plot a Small Subset of the User-Friends Graph"
      ],
      "metadata": {
        "id": "jk4zGuUfTlXq"
      }
    },
    {
      "cell_type": "code",
      "source": [
        "# pick 5 low-degree users as seeds for better visuals\n",
        "low_degree = friend_edges.groupBy(\"src\") \\\n",
        "    .count().withColumnRenamed(\"count\",\"friend_count\") \\\n",
        "    .filter(col(\"friend_count\") <= 10)\n",
        "\n",
        "seed_users = low_degree.select(\"src\").distinct().limit(10)\n",
        "\n",
        "# for each seed, take 10 of their friends\n",
        "one_hop = friend_edges.join(seed_users, \"src\")\n",
        "w = Window.partitionBy(\"src\").orderBy(rand())\n",
        "sample_one_hop = (\n",
        "    one_hop\n",
        "    .withColumn(\"rn\", row_number().over(w))\n",
        "    .filter(col(\"rn\") <= 10)\n",
        "    .select(\"src\",\"dst\")\n",
        ")\n",
        "\n",
        "# build the induced vertex set (seeds + those friends)\n",
        "vertices = (\n",
        "    sample_one_hop.select(col(\"src\").alias(\"id\"))\n",
        "    .union(sample_one_hop.select(col(\"dst\").alias(\"id\")))\n",
        "    .distinct()\n",
        ")\n",
        "\n",
        "# pull in any edges among that vertex set (including friend <-> friend)\n",
        "sub_edges = (\n",
        "    friend_edges\n",
        "    .join(vertices.withColumnRenamed(\"id\",\"v1\"), friend_edges.src == col(\"v1\"))\n",
        "    .join(vertices.withColumnRenamed(\"id\",\"v2\"), friend_edges.dst == col(\"v2\"))\n",
        "    .select(\"src\",\"dst\")\n",
        ")\n",
        "\n",
        "# map IDs -> names\n",
        "user_names = user_df.select(col(\"user_id\").alias(\"id\"), col(\"name\"))\n",
        "named = (\n",
        "    sub_edges\n",
        "    .join(user_names, sub_edges.src == user_names.id)\n",
        "    .select(\"src\",\"dst\", col(\"name\").alias(\"src_name\"))\n",
        "    .join(\n",
        "      user_names.withColumnRenamed(\"id\",\"dst_id\")\n",
        "                .withColumnRenamed(\"name\",\"dst_name\"),\n",
        "      sub_edges.dst == col(\"dst_id\")\n",
        "    )\n",
        "    .select(\"src_name\",\"dst_name\")\n",
        ")\n",
        "\n",
        "# collect just this tiny subgraph and plot\n",
        "pdf = named.toPandas()\n",
        "Gf = nx.from_pandas_edgelist(pdf, \"src_name\", \"dst_name\")"
      ],
      "metadata": {
        "trusted": true,
        "execution": {
          "iopub.status.busy": "2025-05-13T17:07:16.562385Z",
          "iopub.execute_input": "2025-05-13T17:07:16.563018Z",
          "iopub.status.idle": "2025-05-13T17:10:41.680234Z",
          "shell.execute_reply.started": "2025-05-13T17:07:16.562994Z",
          "shell.execute_reply": "2025-05-13T17:10:41.679298Z"
        },
        "id": "mOjSpiSr7GlU"
      },
      "outputs": [],
      "execution_count": null
    },
    {
      "cell_type": "code",
      "source": [
        "pos = nx.spring_layout(Gf, k=0.8, iterations=10, seed=2)\n",
        "plt.figure(figsize=(12,6))\n",
        "nx.draw_networkx_nodes(Gf, pos, node_size=900)\n",
        "nx.draw_networkx_edges(Gf, pos, alpha=0.7)\n",
        "nx.draw_networkx_labels(Gf, pos, font_size=9)\n",
        "plt.title(\"10 users + 10 Friends Each + Mutual Edges\")\n",
        "plt.axis(\"off\")\n",
        "plt.show()"
      ],
      "metadata": {
        "trusted": true,
        "execution": {
          "iopub.status.busy": "2025-05-13T17:17:29.521762Z",
          "iopub.execute_input": "2025-05-13T17:17:29.522153Z",
          "iopub.status.idle": "2025-05-13T17:17:29.698882Z",
          "shell.execute_reply.started": "2025-05-13T17:17:29.522128Z",
          "shell.execute_reply": "2025-05-13T17:17:29.697989Z"
        },
        "id": "uHX3lb237GlV"
      },
      "outputs": [],
      "execution_count": null
    },
    {
      "cell_type": "markdown",
      "source": [
        "### 4.2 Bipartite Plot for Users and Businesses"
      ],
      "metadata": {
        "id": "BffeLqfpUCFU"
      }
    },
    {
      "cell_type": "code",
      "source": [
        "# pick 5 businesses with more than 2 reviews\n",
        "biz_pop = (\n",
        "    review_df.groupBy(\"business_id\").count()\n",
        "             .filter(col(\"count\") >= 2)\n",
        "             .orderBy(rand())\n",
        "             .select(col(\"business_id\"))\n",
        "             .limit(5)\n",
        ")\n",
        "\n",
        "# for each business, sample up to 5 distinct users who reviewed it\n",
        "rev = review_edges.select(col(\"src\").alias(\"user_id\"), col(\"dst\").alias(\"business_id\"))\n",
        "biz_window = Window.partitionBy(\"business_id\").orderBy(rand())\n",
        "sample_ub = (\n",
        "    rev.join(biz_pop, \"business_id\")\n",
        "       .withColumn(\"rn\", row_number().over(biz_window))\n",
        "       .filter(col(\"rn\") <= 5)\n",
        "       .select(\"user_id\", \"business_id\")\n",
        "       .distinct()\n",
        ")\n",
        "\n",
        "# build vertex set (users + businesses)\n",
        "vb = (\n",
        "    sample_ub.select(col(\"user_id\").alias(\"id\"))\n",
        "             .union(sample_ub.select(col(\"business_id\").alias(\"id\")))\n",
        "             .distinct()\n",
        ")\n",
        "\n",
        "# pull in any edges among that vertex set (ensure user–biz edges)\n",
        "sub_edges = (\n",
        "    rev.join(vb.withColumnRenamed(\"id\",\"u\"), rev.user_id == col(\"u\"))\n",
        "       .join(vb.withColumnRenamed(\"id\",\"b\"), rev.business_id == col(\"b\"))\n",
        "       .select(col(\"user_id\"), col(\"business_id\"))\n",
        ")\n",
        "\n",
        "# map IDs → names\n",
        "users = user_df.select(col(\"user_id\").alias(\"user_id\"), col(\"name\").alias(\"user_name\"))\n",
        "bizs  = business_df.select(col(\"business_id\"), col(\"name\"))\n",
        "\n",
        "named = (\n",
        "    sub_edges\n",
        "      .join(users, \"user_id\")\n",
        "      .join(bizs, \"business_id\")\n",
        "      .select(\"user_name\", \"name\")\n",
        ")\n",
        "\n",
        "# also bring the rating into pandas dataframe\n",
        "small_rev = (\n",
        "    review_df\n",
        "      .join(sub_edges, [\"user_id\",\"business_id\"])\n",
        "      .select(\"user_id\",\"business_id\",\"stars\")\n",
        ")\n",
        "\n",
        "# map IDs -> names in Spark\n",
        "named = (\n",
        "    small_rev\n",
        "    .join(user_df.select(\"user_id\", col(\"name\").alias(\"user_name\")), \"user_id\")\n",
        "    .join(business_df.select(\"business_id\", col(\"name\")), \"business_id\")\n",
        "    .select(\"user_name\",\"name\",\"stars\")\n",
        ")\n",
        "\n",
        "# now collect\n",
        "pdf = named.toPandas()\n",
        "\n",
        "B = nx.Graph()\n",
        "B.add_nodes_from(pdf[\"user_name\"].unique(), bipartite=0)\n",
        "B.add_nodes_from(pdf[\"name\"].unique(), bipartite=1)\n",
        "B.add_edges_from(list(zip(pdf[\"user_name\"], pdf[\"name\"])))"
      ],
      "metadata": {
        "trusted": true,
        "execution": {
          "iopub.status.busy": "2025-05-13T18:01:25.084198Z",
          "iopub.execute_input": "2025-05-13T18:01:25.085049Z",
          "iopub.status.idle": "2025-05-13T18:03:04.221641Z",
          "shell.execute_reply.started": "2025-05-13T18:01:25.084999Z",
          "shell.execute_reply": "2025-05-13T18:03:04.219858Z"
        },
        "id": "2OuD1zcZ7GlV"
      },
      "outputs": [],
      "execution_count": null
    },
    {
      "cell_type": "code",
      "source": [
        "users = pdf['user_name'].unique().tolist()\n",
        "business = pdf['name'].unique().tolist()\n",
        "\n",
        "pos = {\n",
        "    u: (0, 1 - idx/(len(users)-1))\n",
        "    for idx, u in enumerate(users)\n",
        "}\n",
        "pos.update({\n",
        "    b: (1, 1 - idx/(len(business)-1))\n",
        "    for idx, b in enumerate(business)\n",
        "})\n",
        "\n",
        "edge_labels = {\n",
        "    (row.user_name, row['name']): row.stars\n",
        "    for _, row in pdf.iterrows()\n",
        "}\n",
        "\n",
        "plt.figure(figsize=(18,12))\n",
        "nx.draw_networkx_nodes(B, pos, nodelist=users,    node_size=300)\n",
        "nx.draw_networkx_nodes(B, pos, nodelist=business, node_shape='s', node_size=2000)\n",
        "nx.draw_networkx_edges(B, pos, alpha=0.6)\n",
        "nx.draw_networkx_labels(B, pos, font_size=9)\n",
        "nx.draw_networkx_edge_labels(B, pos, edge_labels=edge_labels, font_size=8)\n",
        "plt.title(\"Bipartite plot\")\n",
        "plt.axis('off')\n",
        "plt.show()"
      ],
      "metadata": {
        "trusted": true,
        "execution": {
          "iopub.status.busy": "2025-05-13T18:16:27.413263Z",
          "iopub.execute_input": "2025-05-13T18:16:27.413572Z",
          "iopub.status.idle": "2025-05-13T18:16:27.820815Z",
          "shell.execute_reply.started": "2025-05-13T18:16:27.413550Z",
          "shell.execute_reply": "2025-05-13T18:16:27.819858Z"
        },
        "id": "KZJCyUL27GlV"
      },
      "outputs": [],
      "execution_count": null
    },
    {
      "cell_type": "markdown",
      "source": [
        "# 5. Graph Algorithms"
      ],
      "metadata": {
        "id": "eOuzTxj7RZ9G"
      }
    },
    {
      "cell_type": "markdown",
      "source": [
        "## PageRank"
      ],
      "metadata": {
        "id": "UovmlN_H7hpr"
      }
    },
    {
      "cell_type": "code",
      "source": [
        "from google.colab import drive\n",
        "drive.mount('/content/drive')"
      ],
      "metadata": {
        "id": "S6hRvPsd7mYt"
      },
      "execution_count": null,
      "outputs": []
    },
    {
      "cell_type": "code",
      "source": [
        "user = spark.read.parquet(\"/content/drive/MyDrive/Big_Data_Analytics_Good/user.parquet\")"
      ],
      "metadata": {
        "id": "p1cf_DRw7jq-"
      },
      "execution_count": null,
      "outputs": []
    },
    {
      "cell_type": "code",
      "source": [
        "user.printSchema()"
      ],
      "metadata": {
        "id": "xX6nEe808IxF"
      },
      "execution_count": null,
      "outputs": []
    },
    {
      "cell_type": "code",
      "source": [
        "user.show(5, truncate = False)"
      ],
      "metadata": {
        "id": "eYxoogF18MXC"
      },
      "execution_count": null,
      "outputs": []
    },
    {
      "cell_type": "code",
      "source": [
        "vertices = user.selectExpr(\"user_id as id\").distinct() #choose distinct userIDs and rename the column to id"
      ],
      "metadata": {
        "id": "EAGFeqhV8Mlj"
      },
      "execution_count": null,
      "outputs": []
    },
    {
      "cell_type": "code",
      "source": [
        "#creates edges by splitting the friends column into individual friend IDs, trimming spaces and renaming columns to src and std\n",
        "edges = user.select(\"user_id\", \"friends\") \\\n",
        "    .withColumn(\"friend\", explode(split(\"friends\", \",\"))) \\\n",
        "    .withColumn(\"friend\", trim(\"friend\")) \\\n",
        "    .selectExpr(\"user_id as src\", \"friend as dst\") \\\n",
        "    .filter(\"dst != ''\")"
      ],
      "metadata": {
        "id": "OJCzuia28OHv"
      },
      "execution_count": null,
      "outputs": []
    },
    {
      "cell_type": "code",
      "source": [
        "g = GraphFrame(vertices, edges)"
      ],
      "metadata": {
        "id": "upUpFrBF8PQi"
      },
      "execution_count": null,
      "outputs": []
    },
    {
      "cell_type": "code",
      "source": [
        "#user.count() doesn't need to run this because it takes a while, 1987897"
      ],
      "metadata": {
        "id": "3uggZ89j8QgF"
      },
      "execution_count": null,
      "outputs": []
    },
    {
      "cell_type": "markdown",
      "source": [
        "### Taking a sample of 50k since 2m rows are too many even for collab"
      ],
      "metadata": {
        "id": "i80qkXz98aGs"
      }
    },
    {
      "cell_type": "code",
      "source": [
        "duplicates = user.groupBy(\"user_id\") \\\n",
        "    .agg(count(\"*\").alias(\"count\")) \\\n",
        "    .filter(\"count > 1\")\n",
        "\n",
        "duplicates.show()"
      ],
      "metadata": {
        "id": "VEc0ytYyivUE"
      },
      "execution_count": null,
      "outputs": []
    },
    {
      "cell_type": "code",
      "source": [
        "#select 50k users with 5-100 friends and orders them by number of friends\n",
        "sampled_users = user \\\n",
        "    .withColumn(\"friend_list\", split(\"friends\", \",\")) \\\n",
        "    .withColumn(\"degree\", size(\"friend_list\")) \\\n",
        "    .filter(size(split(\"friends\", \",\")) >= 5) \\\n",
        "    .filter(size(split(\"friends\", \",\")) <= 100) \\\n",
        "    .orderBy(\"degree\", ascending=False) \\\n",
        "    .limit(50000) \\\n",
        "    .select(\"user_id\", \"friends\")\n",
        "    #sampled vertices\n",
        "sample_vertices = sampled_users.selectExpr(\"user_id as id\")\n",
        "\n",
        "#creates edges from sampled users\n",
        "sample_edges = sampled_users \\\n",
        "    .withColumn(\"friend\", explode(split(\"friends\", \",\"))) \\\n",
        "    .withColumn(\"friend\", trim(\"friend\")) \\\n",
        "    .selectExpr(\"user_id as src\", \"friend as dst\") \\\n",
        "    .filter(\"dst != ''\")\n",
        "\n",
        "#keeps only the edges where both src and dst are in the sampled vertices\n",
        "sample_edges = sample_edges.join(\n",
        "    broadcast(sample_vertices),\n",
        "    sample_edges[\"dst\"] == sample_vertices[\"id\"],\n",
        "    \"inner\"\n",
        ").select(\"src\", \"dst\")\n",
        "\n",
        "#repartitioning for better parallel processing\n",
        "sample_edges = sample_edges.repartition(200, \"src\")\n",
        "sample_vertices = sample_vertices.repartition(200)\n",
        "\n",
        "#cache to speed up repeated access\n",
        "sample_edges.cache()\n",
        "sample_vertices.cache()\n",
        "\n",
        "#creating the sample graph\n",
        "sample_g = GraphFrame(sample_vertices, sample_edges)"
      ],
      "metadata": {
        "id": "1JBkbgYz8W8_"
      },
      "execution_count": null,
      "outputs": []
    },
    {
      "cell_type": "code",
      "source": [
        "pagerank_result = sample_g.pageRank(resetProbability=0.15, maxIter=2)"
      ],
      "metadata": {
        "id": "W6AmWfyd8ZiH"
      },
      "execution_count": null,
      "outputs": []
    },
    {
      "cell_type": "code",
      "source": [
        "pagerank_result.vertices.select(\"id\", \"pagerank\").orderBy(\"pagerank\", ascending=False).show(5, truncate = False)"
      ],
      "metadata": {
        "id": "8WZ6ggWn8lB7"
      },
      "execution_count": null,
      "outputs": []
    },
    {
      "cell_type": "code",
      "source": [
        "communities = sample_g.labelPropagation(maxIter=5)"
      ],
      "metadata": {
        "id": "DNSbdxbA8qdr"
      },
      "execution_count": null,
      "outputs": []
    },
    {
      "cell_type": "code",
      "source": [
        "communities.select(\"id\", \"label\").orderBy(\"label\").show()"
      ],
      "metadata": {
        "id": "T0wvIZiQ8lYg"
      },
      "execution_count": null,
      "outputs": []
    },
    {
      "cell_type": "code",
      "source": [
        "spark.sparkContext.setCheckpointDir(\"/tmp/graphframes-checkpoint\")"
      ],
      "metadata": {
        "id": "Wi7oTRORm1MN"
      },
      "execution_count": null,
      "outputs": []
    },
    {
      "cell_type": "code",
      "source": [
        "connected_components = sample_g.connectedComponents()"
      ],
      "metadata": {
        "id": "CZ1QJB7X8lgD"
      },
      "execution_count": null,
      "outputs": []
    },
    {
      "cell_type": "code",
      "source": [
        "connected_components.select(\"id\", \"component\").show(5)"
      ],
      "metadata": {
        "id": "AAWVH-zB8mCF"
      },
      "execution_count": null,
      "outputs": []
    },
    {
      "cell_type": "code",
      "source": [
        "sample_vertices.select(\"id\").show(5, truncate=False)"
      ],
      "metadata": {
        "id": "YgbJ9co-okea"
      },
      "execution_count": null,
      "outputs": []
    },
    {
      "cell_type": "code",
      "source": [
        "shortest_paths = sample_g.shortestPaths(landmarks=[\"vaQPHmzVAxOGNEtG3YLqjQ\", \"DdKfYau2SVM9boInOM4tYg\"])"
      ],
      "metadata": {
        "id": "vRD_l-ZX8mHH"
      },
      "execution_count": null,
      "outputs": []
    },
    {
      "cell_type": "code",
      "source": [
        "shortest_paths.select(\"id\", \"distances\").show(5)"
      ],
      "metadata": {
        "id": "U-tybhNY8mLw"
      },
      "execution_count": null,
      "outputs": []
    },
    {
      "cell_type": "code",
      "source": [
        "motifs = sample_g.find(\"(v)-[e]->(u); (u)-[f]->(w)\")"
      ],
      "metadata": {
        "id": "EBYib1M58mP6"
      },
      "execution_count": null,
      "outputs": []
    },
    {
      "cell_type": "code",
      "source": [
        "motifs.show(5)"
      ],
      "metadata": {
        "id": "NVCo73_G8vV5"
      },
      "execution_count": null,
      "outputs": []
    },
    {
      "cell_type": "code",
      "source": [
        "bfs_result = sample_g.bfs(fromExpr=\"id = 'user1'\", toExpr=\"id = 'user2'\")"
      ],
      "metadata": {
        "id": "niPcS2BX8vhD"
      },
      "execution_count": null,
      "outputs": []
    },
    {
      "cell_type": "code",
      "source": [
        "bfs_result.show(10)"
      ],
      "metadata": {
        "id": "K2lm21pD8xAG"
      },
      "execution_count": null,
      "outputs": []
    }
  ]
}