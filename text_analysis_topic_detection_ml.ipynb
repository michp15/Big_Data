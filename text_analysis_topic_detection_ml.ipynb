{
  "cells": [
    {
      "cell_type": "markdown",
      "metadata": {
        "id": "view-in-github",
        "colab_type": "text"
      },
      "source": [
        "<a href=\"https://colab.research.google.com/github/michp15/Big_Data/blob/main/text_analysis_topic_detection_ml.ipynb\" target=\"_parent\"><img src=\"https://colab.research.google.com/assets/colab-badge.svg\" alt=\"Open In Colab\"/></a>"
      ]
    },
    {
      "cell_type": "markdown",
      "source": [
        "# Big Data Project"
      ],
      "metadata": {
        "id": "tY7mdL8XWp-v"
      },
      "id": "tY7mdL8XWp-v"
    },
    {
      "cell_type": "markdown",
      "source": [
        "## Install Libraries"
      ],
      "metadata": {
        "id": "ACPvCN89P9bM"
      },
      "id": "ACPvCN89P9bM"
    },
    {
      "cell_type": "code",
      "source": [
        "!pip install -q pyspark"
      ],
      "metadata": {
        "id": "8fHkI3hgva2o",
        "colab": {
          "base_uri": "https://localhost:8080/"
        },
        "outputId": "562dee33-ab5a-4d8f-f505-fd6b08d6293f"
      },
      "id": "8fHkI3hgva2o",
      "execution_count": 1,
      "outputs": [
        {
          "output_type": "stream",
          "name": "stdout",
          "text": [
            "\u001b[?25l     \u001b[90m━━━━━━━━━━━━━━━━━━━━━━━━━━━━━━━━━━━━━━━━\u001b[0m \u001b[32m0.0/42.3 kB\u001b[0m \u001b[31m?\u001b[0m eta \u001b[36m-:--:--\u001b[0m\r\u001b[2K     \u001b[90m━━━━━━━━━━━━━━━━━━━━━━━━━━━━━━━━━━━━━━━━\u001b[0m \u001b[32m42.3/42.3 kB\u001b[0m \u001b[31m1.0 MB/s\u001b[0m eta \u001b[36m0:00:00\u001b[0m\n",
            "\u001b[?25h  Installing build dependencies ... \u001b[?25l\u001b[?25hdone\n",
            "  Getting requirements to build wheel ... \u001b[?25l\u001b[?25hdone\n",
            "  Preparing metadata (pyproject.toml) ... \u001b[?25l\u001b[?25hdone\n",
            "\u001b[2K   \u001b[90m━━━━━━━━━━━━━━━━━━━━━━━━━━━━━━━━━━━━━━━━\u001b[0m \u001b[32m635.7/635.7 kB\u001b[0m \u001b[31m11.6 MB/s\u001b[0m eta \u001b[36m0:00:00\u001b[0m\n",
            "\u001b[?25h  Building wheel for Word2Vec (pyproject.toml) ... \u001b[?25l\u001b[?25hdone\n"
          ]
        }
      ]
    },
    {
      "cell_type": "markdown",
      "source": [
        "## Import Libraries"
      ],
      "metadata": {
        "id": "kA1ALRvcSQuf"
      },
      "id": "kA1ALRvcSQuf"
    },
    {
      "cell_type": "code",
      "execution_count": 57,
      "metadata": {
        "id": "82b341dc-0056-4ad0-b04c-9ab30c15f5ff",
        "colab": {
          "base_uri": "https://localhost:8080/"
        },
        "outputId": "5563c4c5-904e-4038-8238-98f7fcea4441"
      },
      "outputs": [
        {
          "output_type": "stream",
          "name": "stderr",
          "text": [
            "[nltk_data] Downloading package wordnet to /root/nltk_data...\n",
            "[nltk_data]   Package wordnet is already up-to-date!\n",
            "[nltk_data] Downloading package omw-1.4 to /root/nltk_data...\n",
            "[nltk_data]   Package omw-1.4 is already up-to-date!\n"
          ]
        }
      ],
      "source": [
        "# PySpark Core\n",
        "from pyspark.sql import SparkSession\n",
        "from pyspark.sql.functions import col, count, lit, udf, when\n",
        "from pyspark.sql.types import ArrayType, DoubleType, IntegerType, StringType, StructType, StructField\n",
        "from pyspark.ml import Pipeline, PipelineModel\n",
        "from pyspark.ml.classification import (\n",
        "    DecisionTreeClassifier, GBTClassifier, LinearSVC,\n",
        "    LogisticRegression, NaiveBayes, RandomForestClassifier,\n",
        "    FMClassifier, LogisticRegressionModel\n",
        ")\n",
        "from pyspark.ml.clustering import KMeans, LDA\n",
        "from pyspark.ml.evaluation import MulticlassClassificationEvaluator\n",
        "from pyspark.ml.feature import (\n",
        "    CountVectorizer, HashingTF, IDF, StopWordsRemover,\n",
        "    RegexTokenizer\n",
        ")\n",
        "from pyspark.ml.linalg import VectorUDT\n",
        "from pyspark.ml.stat import Summarizer\n",
        "from pyspark.ml.tuning import CrossValidator, ParamGridBuilder\n",
        "\n",
        "# Python standard libraries\n",
        "import time\n",
        "import os\n",
        "\n",
        "# NLTK for lemmatization\n",
        "import nltk\n",
        "from nltk.stem import WordNetLemmatizer\n",
        "nltk.download('wordnet')\n",
        "nltk.download('omw-1.4')\n",
        "\n",
        "# NumPy\n",
        "import numpy as np"
      ],
      "id": "82b341dc-0056-4ad0-b04c-9ab30c15f5ff"
    },
    {
      "cell_type": "code",
      "source": [
        "from google.colab import drive\n",
        "drive.mount('/content/drive')"
      ],
      "metadata": {
        "colab": {
          "base_uri": "https://localhost:8080/"
        },
        "id": "uOPlGMpUT5JU",
        "outputId": "6e1dcec5-7321-4a57-b7cb-0783564d6e5d"
      },
      "id": "uOPlGMpUT5JU",
      "execution_count": 3,
      "outputs": [
        {
          "output_type": "stream",
          "name": "stdout",
          "text": [
            "Mounted at /content/drive\n"
          ]
        }
      ]
    },
    {
      "cell_type": "markdown",
      "source": [
        "## Initialize Spark session"
      ],
      "metadata": {
        "id": "Qpr6Fd0pSUPO"
      },
      "id": "Qpr6Fd0pSUPO"
    },
    {
      "cell_type": "code",
      "source": [
        "# Set adequate amount of RAM\n",
        "\n",
        "spark = SparkSession.builder \\\n",
        "    .appName(\"App\") \\\n",
        "    .master(\"local[*]\") \\\n",
        "    .config(\"spark.driver.memory\", \"32g\") \\\n",
        "    .config(\"spark.executor.memory\", \"32g\") \\\n",
        "    .config(\"spark.driver.maxResultSize\", \"4g\") \\\n",
        "    .getOrCreate()"
      ],
      "metadata": {
        "id": "1RZGItSVCjwm"
      },
      "id": "1RZGItSVCjwm",
      "execution_count": 4,
      "outputs": []
    },
    {
      "cell_type": "code",
      "source": [
        "#.config(\"spark.jars.packages\", \"com.johnsnowlabs.nlp:spark-nlp_2.12:5.5.3\") \\\n",
        "#.config(\"spark.jars.packages\", \"graphframes:graphframes:0.8.3-spark3.4-s_2.12\")\\"
      ],
      "metadata": {
        "id": "SZvPtgEMGj0j"
      },
      "id": "SZvPtgEMGj0j",
      "execution_count": 5,
      "outputs": []
    },
    {
      "cell_type": "markdown",
      "source": [
        "## Sentiment Analysis"
      ],
      "metadata": {
        "id": "wzTGBSrQVjlI"
      },
      "id": "wzTGBSrQVjlI"
    },
    {
      "cell_type": "code",
      "source": [
        "# Define Schema for review dataset\n",
        "\n",
        "review_schema = StructType([\n",
        "    StructField('stars', DoubleType(), True),\n",
        "    StructField('text', StringType(), True)\n",
        "])"
      ],
      "metadata": {
        "id": "ZLFEtugRVt3O"
      },
      "id": "ZLFEtugRVt3O",
      "execution_count": null,
      "outputs": []
    },
    {
      "cell_type": "code",
      "source": [
        "# Read review dataset\n",
        "\n",
        "review = spark.read.schema(review_schema).parquet(\"/content/drive/MyDrive/2nd semester msc/Big Data/project/review.parquet\")"
      ],
      "metadata": {
        "id": "JGG0FA1KC2tE"
      },
      "id": "JGG0FA1KC2tE",
      "execution_count": null,
      "outputs": []
    },
    {
      "cell_type": "code",
      "source": [
        "# Inspect dataset\n",
        "\n",
        "review.show(5)"
      ],
      "metadata": {
        "colab": {
          "base_uri": "https://localhost:8080/"
        },
        "id": "ANY6mBz0C6XL",
        "outputId": "715e89ab-a7d8-4628-a4c9-14ea6bf57aff"
      },
      "id": "ANY6mBz0C6XL",
      "execution_count": null,
      "outputs": [
        {
          "output_type": "stream",
          "name": "stdout",
          "text": [
            "+-----+--------------------+\n",
            "|stars|                text|\n",
            "+-----+--------------------+\n",
            "|  5.0|Great little spot...|\n",
            "|  5.0|James was super k...|\n",
            "|  5.0|By far the best i...|\n",
            "|  5.0|I thought that th...|\n",
            "|  5.0|Aside from the re...|\n",
            "+-----+--------------------+\n",
            "only showing top 5 rows\n",
            "\n"
          ]
        }
      ]
    },
    {
      "cell_type": "code",
      "source": [
        "# Print shape\n",
        "\n",
        "(review.count(), len(review.columns))"
      ],
      "metadata": {
        "colab": {
          "base_uri": "https://localhost:8080/"
        },
        "id": "NK1sVdsvepHg",
        "outputId": "96440792-f5ad-4b86-cee7-8fbc7bd67622"
      },
      "id": "NK1sVdsvepHg",
      "execution_count": null,
      "outputs": [
        {
          "output_type": "execute_result",
          "data": {
            "text/plain": [
              "(6990280, 2)"
            ]
          },
          "metadata": {},
          "execution_count": 8
        }
      ]
    },
    {
      "cell_type": "code",
      "source": [
        "# View star (rating) distribution\n",
        "\n",
        "review.groupby('stars').count().toPandas().sort_values(by='stars').plot(kind='bar', x='stars', y='count', title='Star Distribution', xlabel='Stars', ylabel='Star Count', legend=False)"
      ],
      "metadata": {
        "colab": {
          "base_uri": "https://localhost:8080/",
          "height": 498
        },
        "id": "7FtHdwv5d4lj",
        "outputId": "f42ac2de-42c3-4b16-c3c9-e209c84fbfff"
      },
      "id": "7FtHdwv5d4lj",
      "execution_count": null,
      "outputs": [
        {
          "output_type": "execute_result",
          "data": {
            "text/plain": [
              "<Axes: title={'center': 'Star Distribution'}, xlabel='Stars', ylabel='Star Count'>"
            ]
          },
          "metadata": {},
          "execution_count": 9
        },
        {
          "output_type": "display_data",
          "data": {
            "text/plain": [
              "<Figure size 640x480 with 1 Axes>"
            ],
            "image/png": "[encoded data removed]"
          },
          "metadata": {}
        }
      ]
    },
    {
      "cell_type": "code",
      "source": [
        "# Filter out neutral reviews (stars=3), to avoid introducing noise and map stars to postive and negative sentiment (1, 0). Also remove stars column to preserve memory.\n",
        "\n",
        "review = review.filter(col('stars') != 3).withColumn('sentiment', when(col('stars') >= 3, 1).otherwise(0)).select('text', 'sentiment')"
      ],
      "metadata": {
        "id": "oJUIAsf7QKK1"
      },
      "id": "oJUIAsf7QKK1",
      "execution_count": null,
      "outputs": []
    },
    {
      "cell_type": "code",
      "source": [
        "# Print shape\n",
        "\n",
        "(review.count(), len(review.columns))"
      ],
      "metadata": {
        "colab": {
          "base_uri": "https://localhost:8080/"
        },
        "id": "U0nTJKbpeunp",
        "outputId": "e7a990fc-aa3e-4a35-f710-c610b64f475a"
      },
      "id": "U0nTJKbpeunp",
      "execution_count": null,
      "outputs": [
        {
          "output_type": "execute_result",
          "data": {
            "text/plain": [
              "(6298346, 2)"
            ]
          },
          "metadata": {},
          "execution_count": 11
        }
      ]
    },
    {
      "cell_type": "code",
      "source": [
        "# View sentiment distribution\n",
        "\n",
        "review.groupby('sentiment').count().toPandas().sort_values(by='sentiment').plot(kind='bar', x='sentiment', y='count', title='Sentiment Distribution', xlabel='Sentiment', ylabel='Sentiment Count', legend=False)"
      ],
      "metadata": {
        "colab": {
          "base_uri": "https://localhost:8080/",
          "height": 485
        },
        "id": "AsmtWUiievQQ",
        "outputId": "de5348d6-f9ab-4910-9963-5bbac0056365"
      },
      "id": "AsmtWUiievQQ",
      "execution_count": null,
      "outputs": [
        {
          "output_type": "execute_result",
          "data": {
            "text/plain": [
              "<Axes: title={'center': 'Sentiment Distribution'}, xlabel='Sentiment', ylabel='Sentiment Count'>"
            ]
          },
          "metadata": {},
          "execution_count": 12
        },
        {
          "output_type": "display_data",
          "data": {
            "text/plain": [
              "<Figure size 640x480 with 1 Axes>"
            ],
            "image/png": "[encoded data removed]"
          },
          "metadata": {}
        }
      ]
    },
    {
      "cell_type": "code",
      "source": [
        "# Stratified sampling\n",
        "\n",
        "ratios = [0.8, 0.2]\n",
        "\n",
        "train_pos, test_pos = review.filter(col('sentiment')==1).randomSplit(ratios, seed=42)\n",
        "train_neg, test_neg = review.filter(col('sentiment')==0).randomSplit(ratios, seed=42)\n",
        "\n",
        "train, test = train_pos.union(train_neg), test_pos.union(test_neg)"
      ],
      "metadata": {
        "id": "UtTYLI_B0TML"
      },
      "id": "UtTYLI_B0TML",
      "execution_count": null,
      "outputs": []
    },
    {
      "cell_type": "code",
      "source": [
        "# View train set sentiment distribution\n",
        "\n",
        "train.groupby('sentiment').count().toPandas().sort_values(by='sentiment').plot(kind='bar', x='sentiment', y='count', title='Train Sentiment Distribution', xlabel='Sentiment', ylabel='Sentiment Count', legend=False)"
      ],
      "metadata": {
        "colab": {
          "base_uri": "https://localhost:8080/",
          "height": 485
        },
        "id": "JnYTnOK83KEZ",
        "outputId": "36215355-ce8b-4145-b9af-14fdf80eaba4"
      },
      "id": "JnYTnOK83KEZ",
      "execution_count": null,
      "outputs": [
        {
          "output_type": "execute_result",
          "data": {
            "text/plain": [
              "<Axes: title={'center': 'Train Sentiment Distribution'}, xlabel='Sentiment', ylabel='Sentiment Count'>"
            ]
          },
          "metadata": {},
          "execution_count": 14
        },
        {
          "output_type": "display_data",
          "data": {
            "text/plain": [
              "<Figure size 640x480 with 1 Axes>"
            ],
            "image/png": "[encoded data removed]"
          },
          "metadata": {}
        }
      ]
    },
    {
      "cell_type": "code",
      "source": [
        "# Get the number of entries in train dataset\n",
        "\n",
        "train.count()"
      ],
      "metadata": {
        "colab": {
          "base_uri": "https://localhost:8080/"
        },
        "id": "J0JqMwDt4DK3",
        "outputId": "07bf55fe-912d-4872-e4d9-468e1c88d1b8"
      },
      "id": "J0JqMwDt4DK3",
      "execution_count": null,
      "outputs": [
        {
          "output_type": "execute_result",
          "data": {
            "text/plain": [
              "5035688"
            ]
          },
          "metadata": {},
          "execution_count": 15
        }
      ]
    },
    {
      "cell_type": "code",
      "source": [
        "# View test set sentiment distribution\n",
        "\n",
        "test.groupby('sentiment').count().toPandas().sort_values(by='sentiment').plot(kind='bar', x='sentiment', y='count', title='Test Sentiment Distribution', xlabel='Sentiment', ylabel='Sentiment Count', legend=False)"
      ],
      "metadata": {
        "colab": {
          "base_uri": "https://localhost:8080/",
          "height": 485
        },
        "id": "mUJ9gdzQ3RnE",
        "outputId": "f1e84baf-70b5-49fd-96f2-cef778ce4bec"
      },
      "id": "mUJ9gdzQ3RnE",
      "execution_count": null,
      "outputs": [
        {
          "output_type": "execute_result",
          "data": {
            "text/plain": [
              "<Axes: title={'center': 'Test Sentiment Distribution'}, xlabel='Sentiment', ylabel='Sentiment Count'>"
            ]
          },
          "metadata": {},
          "execution_count": 16
        },
        {
          "output_type": "display_data",
          "data": {
            "text/plain": [
              "<Figure size 640x480 with 1 Axes>"
            ],
            "image/png": "[encoded data removed]"
          },
          "metadata": {}
        }
      ]
    },
    {
      "cell_type": "code",
      "source": [
        "# Get the number of entries in the test dataset\n",
        "\n",
        "test.count()"
      ],
      "metadata": {
        "colab": {
          "base_uri": "https://localhost:8080/"
        },
        "id": "WOKRs6fG4GuP",
        "outputId": "09bc9f44-849c-4644-e43a-a0f50880ce4b"
      },
      "id": "WOKRs6fG4GuP",
      "execution_count": null,
      "outputs": [
        {
          "output_type": "execute_result",
          "data": {
            "text/plain": [
              "1262658"
            ]
          },
          "metadata": {},
          "execution_count": 17
        }
      ]
    },
    {
      "cell_type": "code",
      "source": [
        "# Add weight column for the algorithms\n",
        "\n",
        "weights = train.groupBy('sentiment').agg((lit(train.count()) / count('*')).alias('weight'))\n",
        "train = train.join(weights, on='sentiment', how='left')"
      ],
      "metadata": {
        "id": "BrzaYwC86RSA"
      },
      "id": "BrzaYwC86RSA",
      "execution_count": null,
      "outputs": []
    },
    {
      "cell_type": "code",
      "source": [
        "# Inspect train dataset\n",
        "\n",
        "train.show(5)"
      ],
      "metadata": {
        "colab": {
          "base_uri": "https://localhost:8080/"
        },
        "id": "wNNOcHKH7AyX",
        "outputId": "b079ba7f-9caa-4bd7-9028-f619e7d19c38"
      },
      "id": "wNNOcHKH7AyX",
      "execution_count": null,
      "outputs": [
        {
          "output_type": "stream",
          "name": "stdout",
          "text": [
            "+---------+--------------------+------------------+\n",
            "|sentiment|                text|            weight|\n",
            "+---------+--------------------+------------------+\n",
            "|        1|!!Chicagoan Alert...|1.3443479161583225|\n",
            "|        1|!!VEGAN OPTIONS!!...|1.3443479161583225|\n",
            "|        1|!st of all, why a...|1.3443479161583225|\n",
            "|        1|\" That's A Robber...|1.3443479161583225|\n",
            "|        1|\"... I lived a fe...|1.3443479161583225|\n",
            "+---------+--------------------+------------------+\n",
            "only showing top 5 rows\n",
            "\n"
          ]
        }
      ]
    },
    {
      "cell_type": "code",
      "source": [
        "# Save train and test\n",
        "\n",
        "#train.write.parquet('/content/drive/MyDrive/2nd semester msc/Big Data/project/train.parquet')\n",
        "#test.write.parquet('/content/drive/MyDrive/2nd semester msc/Big Data/project/test.parquet')"
      ],
      "metadata": {
        "id": "8hC6JLaL7QDu"
      },
      "id": "8hC6JLaL7QDu",
      "execution_count": null,
      "outputs": []
    },
    {
      "cell_type": "code",
      "source": [
        "# Load train and test (new runtime)\n",
        "\n",
        "train_schema = StructType([\n",
        "    StructField('text', StringType(), True),\n",
        "    StructField('sentiment', IntegerType(), True),\n",
        "    StructField('weight', DoubleType(), True)\n",
        "])\n",
        "\n",
        "test_schema = StructType([\n",
        "    StructField('text', StringType(), True),\n",
        "    StructField('sentiment', IntegerType(), True),\n",
        "    StructField('weight', DoubleType(), True)\n",
        "])\n",
        "\n",
        "train = spark.read.schema(train_schema).parquet('/content/drive/MyDrive/2nd semester msc/Big Data/project/train.parquet')\n",
        "test = spark.read.schema(test_schema).parquet('/content/drive/MyDrive/2nd semester msc/Big Data/project/test.parquet')"
      ],
      "metadata": {
        "id": "QV8UQdIO8WHz"
      },
      "id": "QV8UQdIO8WHz",
      "execution_count": null,
      "outputs": []
    },
    {
      "cell_type": "code",
      "source": [
        "# Regex pattern (from slides with added segments for emojis)\n",
        "\n",
        "pattern = r\"(?:[A-Z]\\.)+|\\d+(?:\\.\\d+)?%?|\\w+(?:[-']\\w+)*|[+/\\\\\\-@&*]|(?:#\\w+)|(?:@\\w+)|(?:\\u00a9|\\u00ae|[\\u2000-\\u3300]|\\ud83c[\\ud000-\\udfff]|\\ud83d[\\ud000-\\udfff]|\\ud83e[\\ud000-\\udfff])\"\n",
        "\n",
        "# Regex tokenizer\n",
        "\n",
        "regex_tokenizer = RegexTokenizer(\n",
        "    inputCol='text',\n",
        "    outputCol='tokens',\n",
        "    pattern=pattern,\n",
        "    gaps=False,\n",
        "    toLowercase=True\n",
        ")\n",
        "\n",
        "# Lemmatizer UDF (applied after tokenization)\n",
        "\n",
        "lemmatizer = WordNetLemmatizer()\n",
        "\n",
        "@udf(ArrayType(StringType()))\n",
        "def lemmatize_tokens(tokens):\n",
        "    return [lemmatizer.lemmatize(token) for token in tokens]\n",
        "\n",
        "# Stopword remover\n",
        "\n",
        "stopwords_remover = StopWordsRemover(\n",
        "    inputCol='lemma',\n",
        "    outputCol='clean_tokens'\n",
        ")\n",
        "\n",
        "# TF-IDF\n",
        "\n",
        "hashing_tf = HashingTF(inputCol='clean_tokens', outputCol='raw_features', numFeatures=10000)\n",
        "idf = IDF(inputCol='raw_features', outputCol='features')\n",
        "\n",
        "# Pipeline (without UDF stage, applied manually)\n",
        "\n",
        "pipeline = Pipeline(stages=[\n",
        "    regex_tokenizer,\n",
        "    stopwords_remover,\n",
        "    hashing_tf,\n",
        "    idf\n",
        "])"
      ],
      "metadata": {
        "id": "hsIiI40MrGh6"
      },
      "id": "hsIiI40MrGh6",
      "execution_count": null,
      "outputs": []
    },
    {
      "cell_type": "code",
      "source": [
        "# Tokenize train\n",
        "tokenizer_model = Pipeline(stages=[regex_tokenizer]).fit(train)\n",
        "train_tokenized = tokenizer_model.transform(train)\n",
        "\n",
        "# Lemmatize train\n",
        "train_tokenized = train_tokenized.withColumn('lemma', lemmatize_tokens('tokens'))\n",
        "\n",
        "# Apply stopword removal + TF-IDF\n",
        "rest_pipeline = Pipeline(stages=[\n",
        "    stopwords_remover,\n",
        "    hashing_tf,\n",
        "    idf\n",
        "])\n",
        "rest_model = rest_pipeline.fit(train_tokenized)\n",
        "train_transformed = rest_model.transform(train_tokenized)\n",
        "\n",
        "# Tokenize test\n",
        "test_tokenized = tokenizer_model.transform(test)\n",
        "\n",
        "# Lemmatize test\n",
        "test_tokenized = test_tokenized.withColumn('lemma', lemmatize_tokens('tokens'))\n",
        "\n",
        "# Transform test\n",
        "test_transformed = rest_model.transform(test_tokenized)"
      ],
      "metadata": {
        "id": "1sROlW15vN1X"
      },
      "id": "1sROlW15vN1X",
      "execution_count": null,
      "outputs": []
    },
    {
      "cell_type": "code",
      "source": [
        "# Save train_transformed and test_transformed\n",
        "\n",
        "#train_transformed.write.parquet('/content/drive/MyDrive/2nd semester msc/Big Data/project/train_transformed.parquet')\n",
        "#test_transformed.write.parquet('/content/drive/MyDrive/2nd semester msc/Big Data/project/test_transformed.parquet')"
      ],
      "metadata": {
        "id": "wNeHknCm9aCB"
      },
      "id": "wNeHknCm9aCB",
      "execution_count": null,
      "outputs": []
    },
    {
      "cell_type": "code",
      "source": [
        "# Load train_transformed and test_transformed\n",
        "\n",
        "train_schema = StructType([\n",
        "    StructField('features', VectorUDT(), True),\n",
        "    StructField('sentiment', IntegerType(), True),\n",
        "    StructField('weight', DoubleType(), True)\n",
        "])\n",
        "\n",
        "test_schema = StructType([\n",
        "    StructField('features', VectorUDT(), True),\n",
        "    StructField('sentiment', IntegerType(), True)\n",
        "])\n",
        "\n",
        "train_transformed = spark.read.schema(train_schema).parquet('/content/drive/MyDrive/2nd semester msc/Big Data/project/train_transformed.parquet')\n",
        "test_transformed = spark.read.schema(test_schema).parquet('/content/drive/MyDrive/2nd semester msc/Big Data/project/test_transformed.parquet')"
      ],
      "metadata": {
        "id": "tuYNVg-eGzAE"
      },
      "id": "tuYNVg-eGzAE",
      "execution_count": null,
      "outputs": []
    },
    {
      "cell_type": "code",
      "source": [
        "# Inspect train_transformed\n",
        "\n",
        "train_transformed.show(5)"
      ],
      "metadata": {
        "colab": {
          "base_uri": "https://localhost:8080/"
        },
        "id": "RsNJHTiKMwUC",
        "outputId": "6af23341-b1b1-4d06-85d0-3629551b2c5f"
      },
      "id": "RsNJHTiKMwUC",
      "execution_count": null,
      "outputs": [
        {
          "output_type": "stream",
          "name": "stdout",
          "text": [
            "+--------------------+---------+-----------------+\n",
            "|            features|sentiment|           weight|\n",
            "+--------------------+---------+-----------------+\n",
            "|(10000,[18,94,129...|        0|3.904039644428181|\n",
            "|(10000,[332,468,4...|        0|3.904039644428181|\n",
            "|(10000,[1,87,196,...|        0|3.904039644428181|\n",
            "|(10000,[55,387,48...|        0|3.904039644428181|\n",
            "|(10000,[1154,1369...|        0|3.904039644428181|\n",
            "+--------------------+---------+-----------------+\n",
            "only showing top 5 rows\n",
            "\n"
          ]
        }
      ]
    },
    {
      "cell_type": "code",
      "source": [
        "# Inspect train_transformed sentiment counts\n",
        "\n",
        "train_transformed.groupBy('sentiment').count().show()"
      ],
      "metadata": {
        "colab": {
          "base_uri": "https://localhost:8080/"
        },
        "id": "tLGmccAJN2fo",
        "outputId": "403bc654-fdf3-4f1e-b6b2-dfbef43bd8ce"
      },
      "id": "tLGmccAJN2fo",
      "execution_count": null,
      "outputs": [
        {
          "output_type": "stream",
          "name": "stdout",
          "text": [
            "+---------+-------+\n",
            "|sentiment|  count|\n",
            "+---------+-------+\n",
            "|        0| 978878|\n",
            "|        1|3745822|\n",
            "+---------+-------+\n",
            "\n"
          ]
        }
      ]
    },
    {
      "cell_type": "code",
      "source": [
        "# Inspect test_transformed\n",
        "\n",
        "test_transformed.show(5)"
      ],
      "metadata": {
        "colab": {
          "base_uri": "https://localhost:8080/"
        },
        "id": "8dI1jSiGMxdP",
        "outputId": "b94b689c-4eb3-470f-fabd-0f1fe5282a2a"
      },
      "id": "8dI1jSiGMxdP",
      "execution_count": null,
      "outputs": [
        {
          "output_type": "stream",
          "name": "stdout",
          "text": [
            "+--------------------+---------+\n",
            "|            features|sentiment|\n",
            "+--------------------+---------+\n",
            "|(10000,[80,182,32...|        0|\n",
            "|(10000,[86,349,35...|        0|\n",
            "|(10000,[298,1738,...|        0|\n",
            "|(10000,[258,527,8...|        0|\n",
            "|(10000,[157,694,8...|        0|\n",
            "+--------------------+---------+\n",
            "only showing top 5 rows\n",
            "\n"
          ]
        }
      ]
    },
    {
      "cell_type": "code",
      "source": [
        "# Inspect test_transformed sentiment counts\n",
        "\n",
        "test_transformed.groupBy('sentiment').count().show()"
      ],
      "metadata": {
        "colab": {
          "base_uri": "https://localhost:8080/"
        },
        "id": "-eLQKW8RNGw5",
        "outputId": "f9a5b85c-c76b-45e3-a037-bb81c8ce2b5b"
      },
      "id": "-eLQKW8RNGw5",
      "execution_count": null,
      "outputs": [
        {
          "output_type": "stream",
          "name": "stdout",
          "text": [
            "+---------+------+\n",
            "|sentiment| count|\n",
            "+---------+------+\n",
            "|        0|323935|\n",
            "|        1|938723|\n",
            "+---------+------+\n",
            "\n"
          ]
        }
      ]
    },
    {
      "cell_type": "code",
      "source": [
        "# Training and testing phase\n",
        "\n",
        "# Evaluator for binary F1 score\n",
        "evaluator = MulticlassClassificationEvaluator(\n",
        "    labelCol='sentiment',\n",
        "    predictionCol='prediction',\n",
        "    metricName='f1'\n",
        ")\n",
        "\n",
        "# Directory to save models and predictions\n",
        "base_path = '/content/drive/MyDrive/2nd semester msc/Big Data/project/models'\n",
        "\n",
        "# Define models\n",
        "models = {\n",
        "    'Logistic Regression': LogisticRegression(featuresCol='features', labelCol='sentiment', weightCol='weight'),\n",
        "    'Decision Tree': DecisionTreeClassifier(featuresCol='features', labelCol='sentiment', weightCol='weight'),\n",
        "    'Random Forest': RandomForestClassifier(featuresCol='features', labelCol='sentiment', weightCol='weight'),\n",
        "    'Gradient Boosted Trees': GBTClassifier(featuresCol='features', labelCol='sentiment', weightCol='weight'),\n",
        "    'Linear SVM': LinearSVC(featuresCol='features', labelCol='sentiment', weightCol='weight'),\n",
        "    'Naive Bayes': NaiveBayes(featuresCol='features', labelCol='sentiment', weightCol='weight'),\n",
        "    'Factorization Machines': FMClassifier(featuresCol='features', labelCol='sentiment')\n",
        "}\n",
        "\n",
        "# Train, predict, and evaluate\n",
        "results = {}\n",
        "\n",
        "for name, clf in models.items():\n",
        "  try:\n",
        "      print(f'\\nTraining: {name}')\n",
        "\n",
        "      # Create pipeline and train\n",
        "      pipeline = Pipeline(stages=[clf])\n",
        "      model = pipeline.fit(train_transformed)\n",
        "\n",
        "      # Save the model\n",
        "      model_path = os.path.join(base_path, f'{name}_model')\n",
        "      model.write().overwrite().save(model_path)\n",
        "\n",
        "      # Predict\n",
        "      predictions = model.transform(test_transformed)\n",
        "\n",
        "      # Save predictions\n",
        "      predictions_path = os.path.join(base_path, f'{name}_predictions')\n",
        "      predictions.select('sentiment', 'prediction', 'probability', 'features') \\\n",
        "                  .write.mode('overwrite').parquet(predictions_path)\n",
        "\n",
        "      # Evaluate\n",
        "      f1 = evaluator.evaluate(predictions)\n",
        "      results[name] = round(f1, 4)\n",
        "      print(f'F1 Score: {f1:.4f}')\n",
        "\n",
        "  except Exception as e:\n",
        "      results[name] = f'Failed: {str(e)}'\n",
        "      print(f'{name} failed: {e}')\n",
        "\n",
        "# Final summary\n",
        "print('\\n=== F1 Score Summary ===')\n",
        "for name, score in results.items():\n",
        "    print(f'{name}: {score}')"
      ],
      "metadata": {
        "id": "Hm7OA1rBR4iJ",
        "colab": {
          "base_uri": "https://localhost:8080/"
        },
        "outputId": "c765a14c-8e00-4814-ef81-e045989cc088"
      },
      "id": "Hm7OA1rBR4iJ",
      "execution_count": null,
      "outputs": [
        {
          "output_type": "stream",
          "name": "stdout",
          "text": [
            "\n",
            "Training: Logistic Regression\n",
            "F1 Score: 0.9488\n",
            "\n",
            "Training: Decision Tree\n",
            "F1 Score: 0.7159\n",
            "\n",
            "Training: Random Forest\n",
            "F1 Score: 0.7595\n",
            "\n",
            "Training: Gradient Boosted Trees\n",
            "F1 Score: 0.8505\n",
            "\n",
            "Training: Linear SVM\n",
            "Linear SVM failed: [UNRESOLVED_COLUMN.WITH_SUGGESTION] A column or function parameter with name `probability` cannot be resolved. Did you mean one of the following? [`features`, `prediction`, `sentiment`, `rawPrediction`].;\n",
            "'Project [sentiment#7, prediction#631, 'probability, features#6]\n",
            "+- Project [features#6, sentiment#7, rawPrediction#624, UDF(rawPrediction#624) AS prediction#631]\n",
            "   +- Project [features#6, sentiment#7, UDF(features#6) AS rawPrediction#624]\n",
            "      +- Relation [features#6,sentiment#7] parquet\n",
            "\n",
            "\n",
            "Training: Naive Bayes\n",
            "F1 Score: 0.8810\n",
            "\n",
            "Training: Factorization Machines\n",
            "F1 Score: 0.9220\n",
            "\n",
            "=== F1 Score Summary ===\n",
            "Logistic Regression: 0.9488\n",
            "Decision Tree: 0.7159\n",
            "Random Forest: 0.7595\n",
            "Gradient Boosted Trees: 0.8505\n",
            "Linear SVM: Failed: [UNRESOLVED_COLUMN.WITH_SUGGESTION] A column or function parameter with name `probability` cannot be resolved. Did you mean one of the following? [`features`, `prediction`, `sentiment`, `rawPrediction`].;\n",
            "'Project [sentiment#7, prediction#631, 'probability, features#6]\n",
            "+- Project [features#6, sentiment#7, rawPrediction#624, UDF(rawPrediction#624) AS prediction#631]\n",
            "   +- Project [features#6, sentiment#7, UDF(features#6) AS rawPrediction#624]\n",
            "      +- Relation [features#6,sentiment#7] parquet\n",
            "\n",
            "Naive Bayes: 0.881\n",
            "Factorization Machines: 0.922\n"
          ]
        }
      ]
    },
    {
      "cell_type": "code",
      "source": [
        "# Training and testing linear SVM again to overcome error\n",
        "\n",
        "# Evaluator for binary F1 score\n",
        "evaluator = MulticlassClassificationEvaluator(\n",
        "    labelCol='sentiment',\n",
        "    predictionCol='prediction',\n",
        "    metricName='f1'\n",
        ")\n",
        "\n",
        "# Directory to save models and predictions\n",
        "base_path = '/content/drive/MyDrive/2nd semester msc/Big Data/project/models'\n",
        "\n",
        "# Define models\n",
        "models_svm = {\n",
        "    'Linear SVM': LinearSVC(featuresCol='features', labelCol='sentiment', weightCol='weight'),\n",
        "}\n",
        "\n",
        "# Train, predict, and evaluate\n",
        "results_svm = {}\n",
        "\n",
        "for name, clf in models_svm.items():\n",
        "  try:\n",
        "      print(f'\\nTraining: {name}')\n",
        "\n",
        "      # Create pipeline and train\n",
        "      pipeline = Pipeline(stages=[clf])\n",
        "      model = pipeline.fit(train_transformed)\n",
        "\n",
        "      # Save the model\n",
        "      model_path = os.path.join(base_path, f'{name}_model')\n",
        "      model.write().overwrite().save(model_path)\n",
        "\n",
        "      # Predict\n",
        "      predictions = model.transform(test_transformed)\n",
        "\n",
        "      # Save predictions\n",
        "      predictions_path = os.path.join(base_path, f'{name}_predictions')\n",
        "      predictions.select('sentiment', 'prediction', 'features') \\\n",
        "                  .write.mode('overwrite').parquet(predictions_path)\n",
        "\n",
        "      # Evaluate\n",
        "      f1 = evaluator.evaluate(predictions)\n",
        "      results_svm[name] = round(f1, 4)\n",
        "      print(f'F1 Score: {f1:.4f}')\n",
        "\n",
        "  except Exception as e:\n",
        "      results_svm[name] = f'Failed: {str(e)}'\n",
        "      print(f'{name} failed: {e}')\n",
        "\n",
        "# Final summary\n",
        "print('\\n=== F1 Score Summary ===')\n",
        "for name, score in results_svm.items():\n",
        "    print(f'{name}: {score}')"
      ],
      "metadata": {
        "colab": {
          "base_uri": "https://localhost:8080/"
        },
        "id": "SWOEy1ewHRkk",
        "outputId": "a0eda6b9-ce00-42ad-d9d2-0449ccf30c0c"
      },
      "id": "SWOEy1ewHRkk",
      "execution_count": null,
      "outputs": [
        {
          "output_type": "stream",
          "name": "stdout",
          "text": [
            "\n",
            "Training: Linear SVM\n",
            "F1 Score: 0.9487\n",
            "\n",
            "=== F1 Score Summary ===\n",
            "Linear SVM: 0.9487\n"
          ]
        }
      ]
    },
    {
      "cell_type": "code",
      "source": [
        "# Logistic regression and Linear SVM are the winners (virtually the same performace)\n",
        "# Logistic regression is preferred to the benefits of added probabilities column  and better interpretability\n",
        "# Logistic Regression, Linear SVM, Naive Bayes were really fast\n",
        "# FM Classifier was also fast"
      ],
      "metadata": {
        "id": "7FIkWzyw6hC6"
      },
      "id": "7FIkWzyw6hC6",
      "execution_count": null,
      "outputs": []
    },
    {
      "cell_type": "code",
      "source": [
        "# Finetune selected best model (Logistic Regression)\n",
        "\n",
        "lr = LogisticRegression(\n",
        "    featuresCol='features',\n",
        "    labelCol='sentiment',\n",
        "    weightCol='weight',\n",
        "    predictionCol='prediction',\n",
        "    probabilityCol='probability'\n",
        ")\n",
        "\n",
        "evaluator = MulticlassClassificationEvaluator(\n",
        "    labelCol='sentiment',\n",
        "    predictionCol='prediction',\n",
        "    metricName='f1'\n",
        ")\n",
        "\n",
        "# Parameters to test\n",
        "param_grid = ParamGridBuilder() \\\n",
        "    .addGrid(lr.regParam, [0.001, 0.01, 0.1]) \\\n",
        "    .addGrid(lr.elasticNetParam, [0.0, 0.5, 1.0]) \\\n",
        "    .addGrid(lr.threshold, [0.3, 0.4, 0.5, 0.6, 0.7]) \\\n",
        "    .build()\n",
        "\n",
        "# CrossValidator setup\n",
        "cv = CrossValidator(\n",
        "    estimator=lr,\n",
        "    estimatorParamMaps=param_grid,\n",
        "    evaluator=evaluator,\n",
        "    numFolds=3,\n",
        "    parallelism=2\n",
        ")\n",
        "\n",
        "# Fit on training data\n",
        "cv_model = cv.fit(train_transformed)\n",
        "\n",
        "# Predict on test data\n",
        "predictions = cv_model.transform(test_transformed)\n",
        "\n",
        "# Evaluate on test data\n",
        "f1_score = evaluator.evaluate(predictions)\n",
        "print(f'Final Test F1 Score: {f1_score:.4f}')\n",
        "\n",
        "# Extract best model\n",
        "best_model = cv_model.bestModel\n",
        "\n",
        "print('\\nBest Model Hyperparameters:')\n",
        "print(f'  regParam:         {best_model._java_obj.getRegParam()}')\n",
        "print(f'  elasticNetParam:  {best_model._java_obj.getElasticNetParam()}')\n",
        "print(f'  threshold:        {best_model._java_obj.getThreshold()}')"
      ],
      "metadata": {
        "colab": {
          "base_uri": "https://localhost:8080/"
        },
        "id": "npKgrzA27kEL",
        "outputId": "f7e45d4f-eb14-434a-e7bb-7eee69aa62ee"
      },
      "id": "npKgrzA27kEL",
      "execution_count": null,
      "outputs": [
        {
          "output_type": "stream",
          "name": "stdout",
          "text": [
            "Final Test F1 Score: 0.9494\n",
            "\n",
            "Best Model Hyperparameters:\n",
            "  regParam:         0.01\n",
            "  elasticNetParam:  0.0\n",
            "  threshold:        0.4\n"
          ]
        }
      ]
    },
    {
      "cell_type": "code",
      "source": [
        "# Save paths\n",
        "model_path = '/content/drive/MyDrive/2nd semester msc/Big Data/project/best_model/model'\n",
        "pred_path = '/content/drive/MyDrive/2nd semester msc/Big Data/project/best_model/predictions'\n",
        "\n",
        "# Save best model\n",
        "best_model.write().overwrite().save(model_path)\n",
        "print(f'\\nBest model saved to: {model_path}')\n",
        "\n",
        "# Save best model predictions\n",
        "predictions.select('sentiment', 'prediction', 'probability', 'features') \\\n",
        "    .write.mode('overwrite').parquet(pred_path)\n",
        "print(f'Predictions saved to: {pred_path}')"
      ],
      "metadata": {
        "colab": {
          "base_uri": "https://localhost:8080/"
        },
        "id": "t9PX6t1BADuD",
        "outputId": "46ecc001-82d1-485f-afc9-2d273dea7e3c"
      },
      "id": "t9PX6t1BADuD",
      "execution_count": null,
      "outputs": [
        {
          "output_type": "stream",
          "name": "stdout",
          "text": [
            "\n",
            "Best model saved to: /content/drive/MyDrive/2nd semester msc/Big Data/project/best_model/model\n",
            "Predictions saved to: /content/drive/MyDrive/2nd semester msc/Big Data/project/best_model/predictions\n"
          ]
        }
      ]
    },
    {
      "cell_type": "markdown",
      "source": [
        "## Inference Time and Throughput"
      ],
      "metadata": {
        "id": "ghAV0Sj2cBTj"
      },
      "id": "ghAV0Sj2cBTj"
    },
    {
      "cell_type": "code",
      "source": [
        "# Load data and models for inference\n",
        "\n",
        "# Load test_transformed (new runtime)\n",
        "\n",
        "test_schema = StructType([\n",
        "    StructField('features', VectorUDT(), True),\n",
        "])\n",
        "\n",
        "test_transformed = spark.read.schema(test_schema).parquet('/content/drive/MyDrive/2nd semester msc/Big Data/project/test_transformed.parquet')\n",
        "\n",
        "# Load models\n",
        "\n",
        "lr_best = LogisticRegressionModel.load('/content/drive/MyDrive/2nd semester msc/Big Data/project/best_model/model')\n",
        "lr = PipelineModel.load('/content/drive/MyDrive/2nd semester msc/Big Data/project/models/Logistic Regression_model')\n",
        "rf = PipelineModel.load('/content/drive/MyDrive/2nd semester msc/Big Data/project/models/Random Forest_model')\n",
        "nb = PipelineModel.load('/content/drive/MyDrive/2nd semester msc/Big Data/project/models/Naive Bayes_model')\n",
        "svc = PipelineModel.load('/content/drive/MyDrive/2nd semester msc/Big Data/project/models/Linear SVM_model')\n",
        "gbt = PipelineModel.load('/content/drive/MyDrive/2nd semester msc/Big Data/project/models/Gradient Boosted Trees_model')\n",
        "fm = PipelineModel.load('/content/drive/MyDrive/2nd semester msc/Big Data/project/models/Factorization Machines_model')\n",
        "dt = PipelineModel.load('/content/drive/MyDrive/2nd semester msc/Big Data/project/models/Decision Tree_model')\n",
        "\n",
        "# Store models in a list with their names\n",
        "\n",
        "models = [('lr_best', lr_best), ('lr', lr), ('rf', rf), ('nb', nb), ('svc', svc), ('gbt', gbt), ('fm', fm), ('dt', dt)]"
      ],
      "metadata": {
        "id": "zWf_z2T7cDOs"
      },
      "id": "zWf_z2T7cDOs",
      "execution_count": 44,
      "outputs": []
    },
    {
      "cell_type": "code",
      "source": [
        "# Calculate inference times and throughputs\n",
        "\n",
        "inference_times = {}\n",
        "n_runs = 5  # Number of runs for averaging\n",
        "\n",
        "# Compute once outside the loop to avoid recomputing\n",
        "num_samples = test_transformed.count()\n",
        "\n",
        "for model_name, model_object in models:\n",
        "    total_duration = 0.0\n",
        "    for _ in range(n_runs):\n",
        "        start_time = time.time()\n",
        "        model_object.transform(test_transformed).count()  # trigger execution\n",
        "        end_time = time.time()\n",
        "        total_duration += (end_time - start_time)\n",
        "\n",
        "    avg_duration = total_duration / n_runs\n",
        "    inference_times[model_name] = avg_duration\n",
        "\n",
        "# Print inference times and throughput\n",
        "for model_name, duration in inference_times.items():\n",
        "  samples_per_sec = num_samples / duration\n",
        "  print(f'{model_name}: {duration:.4f} sec avg total, {duration/num_samples:.10f} sec/sample, {samples_per_sec:.2f} samples/sec')"
      ],
      "metadata": {
        "colab": {
          "base_uri": "https://localhost:8080/"
        },
        "id": "AHIfdxjFeAgM",
        "outputId": "30fab116-26a0-4dd2-abf5-d9deb5fc947b"
      },
      "id": "AHIfdxjFeAgM",
      "execution_count": 56,
      "outputs": [
        {
          "output_type": "stream",
          "name": "stdout",
          "text": [
            "lr_best: 0.2617 sec avg total, 0.0000002072 sec/sample, 4825716.96 samples/sec\n",
            "lr: 0.2589 sec avg total, 0.0000002051 sec/sample, 4876533.98 samples/sec\n",
            "rf: 0.2551 sec avg total, 0.0000002020 sec/sample, 4950146.36 samples/sec\n",
            "nb: 0.2635 sec avg total, 0.0000002087 sec/sample, 4792187.95 samples/sec\n",
            "svc: 0.2434 sec avg total, 0.0000001928 sec/sample, 5187973.46 samples/sec\n",
            "gbt: 0.2585 sec avg total, 0.0000002047 sec/sample, 4884657.00 samples/sec\n",
            "fm: 0.2506 sec avg total, 0.0000001985 sec/sample, 5037967.13 samples/sec\n",
            "dt: 0.2593 sec avg total, 0.0000002053 sec/sample, 4869745.11 samples/sec\n"
          ]
        }
      ]
    },
    {
      "cell_type": "markdown",
      "source": [
        "## Topic Detection"
      ],
      "metadata": {
        "id": "ZtbV2kdZXeEl"
      },
      "id": "ZtbV2kdZXeEl"
    },
    {
      "cell_type": "code",
      "source": [
        "# Load train_transformed and test_transformed (new runtime)\n",
        "\n",
        "train_schema = StructType([\n",
        "    StructField('clean_tokens', ArrayType(StringType()), True),\n",
        "    StructField('sentiment', IntegerType(), True)\n",
        "])\n",
        "\n",
        "test_schema = StructType([\n",
        "    StructField('clean_tokens', ArrayType(StringType()), True),\n",
        "    StructField('sentiment', IntegerType(), True)\n",
        "])\n",
        "\n",
        "train_transformed = spark.read.schema(train_schema).parquet('/content/drive/MyDrive/2nd semester msc/Big Data/project/train_transformed.parquet')\n",
        "test_transformed = spark.read.schema(test_schema).parquet('/content/drive/MyDrive/2nd semester msc/Big Data/project/test_transformed.parquet')"
      ],
      "metadata": {
        "id": "RPeeAYbiyLTX"
      },
      "id": "RPeeAYbiyLTX",
      "execution_count": 8,
      "outputs": []
    },
    {
      "cell_type": "code",
      "source": [
        "# Inspect train_transformed\n",
        "\n",
        "train_transformed.show(5)"
      ],
      "metadata": {
        "colab": {
          "base_uri": "https://localhost:8080/"
        },
        "id": "pgn98Gal08Fw",
        "outputId": "01af983e-e408-4260-db1a-63d72c98bd66"
      },
      "id": "pgn98Gal08Fw",
      "execution_count": 9,
      "outputs": [
        {
          "output_type": "stream",
          "name": "stdout",
          "text": [
            "+--------------------+---------+\n",
            "|        clean_tokens|sentiment|\n",
            "+--------------------+---------+\n",
            "|[nooooo, mouth, f...|        0|\n",
            "|[buyer, beware, a...|        0|\n",
            "|[dealer, people, ...|        0|\n",
            "|[amusement, park,...|        0|\n",
            "|[chicken, giant, ...|        0|\n",
            "+--------------------+---------+\n",
            "only showing top 5 rows\n",
            "\n"
          ]
        }
      ]
    },
    {
      "cell_type": "code",
      "source": [
        "# Get train_transformed shape\n",
        "\n",
        "(train_transformed.count(), len(train_transformed.columns))"
      ],
      "metadata": {
        "colab": {
          "base_uri": "https://localhost:8080/"
        },
        "id": "2PObzzcX1yhO",
        "outputId": "aa8c1192-ba3e-4aed-a45f-317ca0d8c7ec"
      },
      "id": "2PObzzcX1yhO",
      "execution_count": 10,
      "outputs": [
        {
          "output_type": "execute_result",
          "data": {
            "text/plain": [
              "(4724700, 2)"
            ]
          },
          "metadata": {},
          "execution_count": 10
        }
      ]
    },
    {
      "cell_type": "code",
      "source": [
        "# Inspect test_transformed\n",
        "\n",
        "test_transformed.show(5)"
      ],
      "metadata": {
        "colab": {
          "base_uri": "https://localhost:8080/"
        },
        "id": "6C8IxBAV1BWD",
        "outputId": "ca731d2b-e396-4fb0-9829-66f251ec0e2e"
      },
      "id": "6C8IxBAV1BWD",
      "execution_count": 11,
      "outputs": [
        {
          "output_type": "stream",
          "name": "stdout",
          "text": [
            "+--------------------+---------+\n",
            "|        clean_tokens|sentiment|\n",
            "+--------------------+---------+\n",
            "|[0, star, f, plac...|        0|\n",
            "|[30, -, 35, min, ...|        0|\n",
            "|[discount, liquor...|        0|\n",
            "|[fast, curbside, ...|        0|\n",
            "|[grilled, chicken...|        0|\n",
            "+--------------------+---------+\n",
            "only showing top 5 rows\n",
            "\n"
          ]
        }
      ]
    },
    {
      "cell_type": "code",
      "source": [
        "# Get test_transformed shape\n",
        "\n",
        "(test_transformed.count(), len(test_transformed.columns))"
      ],
      "metadata": {
        "colab": {
          "base_uri": "https://localhost:8080/"
        },
        "id": "0-yI-e4d12vi",
        "outputId": "2ecc7d22-c3ab-4017-9f65-4d145672ea66"
      },
      "id": "0-yI-e4d12vi",
      "execution_count": 12,
      "outputs": [
        {
          "output_type": "execute_result",
          "data": {
            "text/plain": [
              "(1262658, 2)"
            ]
          },
          "metadata": {},
          "execution_count": 12
        }
      ]
    },
    {
      "cell_type": "code",
      "source": [
        "# Merge datasets into one\n",
        "\n",
        "combined_df = train_transformed.union(test_transformed)"
      ],
      "metadata": {
        "id": "Cyhxj_Am1Cry"
      },
      "id": "Cyhxj_Am1Cry",
      "execution_count": 13,
      "outputs": []
    },
    {
      "cell_type": "code",
      "source": [
        "# Inspect combined_df\n",
        "\n",
        "combined_df.show(5)"
      ],
      "metadata": {
        "colab": {
          "base_uri": "https://localhost:8080/"
        },
        "id": "IgVjGD-817VS",
        "outputId": "bb8d9f61-15fc-442e-d79a-4388eac3c962"
      },
      "id": "IgVjGD-817VS",
      "execution_count": 14,
      "outputs": [
        {
          "output_type": "stream",
          "name": "stdout",
          "text": [
            "+--------------------+---------+\n",
            "|        clean_tokens|sentiment|\n",
            "+--------------------+---------+\n",
            "|[nooooo, mouth, f...|        0|\n",
            "|[buyer, beware, a...|        0|\n",
            "|[dealer, people, ...|        0|\n",
            "|[amusement, park,...|        0|\n",
            "|[chicken, giant, ...|        0|\n",
            "+--------------------+---------+\n",
            "only showing top 5 rows\n",
            "\n"
          ]
        }
      ]
    },
    {
      "cell_type": "code",
      "source": [
        "# Get combined_df shape\n",
        "\n",
        "(combined_df.count(), len(combined_df.columns))"
      ],
      "metadata": {
        "colab": {
          "base_uri": "https://localhost:8080/"
        },
        "id": "6NydgZ7t1pGb",
        "outputId": "06b1c081-6549-4e60-ed7d-ea1c2746490e"
      },
      "id": "6NydgZ7t1pGb",
      "execution_count": 15,
      "outputs": [
        {
          "output_type": "execute_result",
          "data": {
            "text/plain": [
              "(5987358, 2)"
            ]
          },
          "metadata": {},
          "execution_count": 15
        }
      ]
    },
    {
      "cell_type": "code",
      "source": [
        "# Add weight column for the algorithms\n",
        "\n",
        "weights = combined_df.groupBy('sentiment').agg((lit(combined_df.count()) / count('*')).alias('weight'))\n",
        "combined_df = combined_df.join(weights, on='sentiment', how='left')"
      ],
      "metadata": {
        "id": "-k2LhwrxXf0H"
      },
      "id": "-k2LhwrxXf0H",
      "execution_count": 16,
      "outputs": []
    },
    {
      "cell_type": "code",
      "source": [
        "# Inspecdt combined_df\n",
        "\n",
        "combined_df.show(5)"
      ],
      "metadata": {
        "colab": {
          "base_uri": "https://localhost:8080/"
        },
        "id": "D_-kb3pB2GAo",
        "outputId": "de4c6da1-6898-476e-8b92-83cbba378c42"
      },
      "id": "D_-kb3pB2GAo",
      "execution_count": 17,
      "outputs": [
        {
          "output_type": "stream",
          "name": "stdout",
          "text": [
            "+---------+--------------------+-----------------+\n",
            "|sentiment|        clean_tokens|           weight|\n",
            "+---------+--------------------+-----------------+\n",
            "|        0|[nooooo, mouth, f...|4.595715578521246|\n",
            "|        0|[buyer, beware, a...|4.595715578521246|\n",
            "|        0|[dealer, people, ...|4.595715578521246|\n",
            "|        0|[amusement, park,...|4.595715578521246|\n",
            "|        0|[chicken, giant, ...|4.595715578521246|\n",
            "+---------+--------------------+-----------------+\n",
            "only showing top 5 rows\n",
            "\n"
          ]
        }
      ]
    },
    {
      "cell_type": "code",
      "source": [
        "# Define a count vectorizer to create a feature vector from the filtered text\n",
        "vectorizer = CountVectorizer() \\\n",
        ".setInputCol(\"clean_tokens\") \\\n",
        ".setOutputCol(\"features\") \\\n",
        ".setVocabSize(10000) \\\n",
        ".setMinDF(5) \\\n",
        ".fit(combined_df)"
      ],
      "metadata": {
        "id": "FpicCC7kVlrh"
      },
      "id": "FpicCC7kVlrh",
      "execution_count": 18,
      "outputs": []
    },
    {
      "cell_type": "code",
      "source": [
        "# Transform to get vectors\n",
        "\n",
        "combined_df = vectorizer.transform(combined_df)"
      ],
      "metadata": {
        "id": "dDUJLg5GWauw"
      },
      "id": "dDUJLg5GWauw",
      "execution_count": 19,
      "outputs": []
    },
    {
      "cell_type": "code",
      "source": [
        "# Inspect combined_df\n",
        "\n",
        "combined_df.show(5)"
      ],
      "metadata": {
        "colab": {
          "base_uri": "https://localhost:8080/"
        },
        "id": "pmSSAupkW261",
        "outputId": "c2e8f7d6-ef9c-40ff-8ee4-074a517ab05c"
      },
      "id": "pmSSAupkW261",
      "execution_count": 21,
      "outputs": [
        {
          "output_type": "stream",
          "name": "stdout",
          "text": [
            "+---------+--------------------+-----------------+--------------------+\n",
            "|sentiment|        clean_tokens|           weight|            features|\n",
            "+---------+--------------------+-----------------+--------------------+\n",
            "|        0|[nooooo, mouth, f...|4.595715578521246|(10000,[0,1,3,5,8...|\n",
            "|        0|[buyer, beware, a...|4.595715578521246|(10000,[4,7,8,10,...|\n",
            "|        0|[dealer, people, ...|4.595715578521246|(10000,[0,2,5,8,9...|\n",
            "|        0|[amusement, park,...|4.595715578521246|(10000,[0,1,5,6,3...|\n",
            "|        0|[chicken, giant, ...|4.595715578521246|(10000,[42,181,24...|\n",
            "+---------+--------------------+-----------------+--------------------+\n",
            "only showing top 5 rows\n",
            "\n"
          ]
        }
      ]
    },
    {
      "cell_type": "code",
      "source": [
        "# Get vocabulary list\n",
        "\n",
        "vocab_list = vectorizer.vocabulary"
      ],
      "metadata": {
        "id": "SOYRpYwmWLAw"
      },
      "id": "SOYRpYwmWLAw",
      "execution_count": 22,
      "outputs": []
    },
    {
      "cell_type": "code",
      "source": [
        "# Apply Kmeans for topic detection\n",
        "\n",
        "# Set up KMeans\n",
        "kmeans = KMeans(k=10, featuresCol='features', predictionCol='topic', weightCol='weight', seed=42)\n",
        "model = kmeans.fit(combined_df)\n",
        "\n",
        "# Predict clusters (topics)\n",
        "combined_df = model.transform(combined_df)"
      ],
      "metadata": {
        "id": "-L_ytIm02JyO"
      },
      "id": "-L_ytIm02JyO",
      "execution_count": 23,
      "outputs": []
    },
    {
      "cell_type": "code",
      "source": [
        "# Rename topic column to kmeans_topic\n",
        "\n",
        "combined_df = combined_df.withColumnRenamed('topic', 'kmeans_topic')"
      ],
      "metadata": {
        "id": "Ra0W4n_sYdUu"
      },
      "id": "Ra0W4n_sYdUu",
      "execution_count": 25,
      "outputs": []
    },
    {
      "cell_type": "code",
      "source": [
        "# See topics\n",
        "\n",
        "topics = combined_df.groupBy(\"kmeans_topic\").\\\n",
        "                    agg(Summarizer.mean(combined_df.features)).\\\n",
        "                    select([\"kmeans_topic\",\"mean(features)\"]).collect()\n",
        "\n",
        "topics = [(i[\"kmeans_topic\"], i[\"mean(features)\"]) for i in topics]\n",
        "\n",
        "for topic in topics:\n",
        "  print(\"Topic ID:\" + str(topic[0]))\n",
        "  top_k = np.partition(topic[1], -5)[-5:]\n",
        "  for term in range(len(topic[1])):\n",
        "    if topic[1][term] in top_k:\n",
        "      print(vocab_list[round(term)])\n",
        "  print(\"------------------\")"
      ],
      "metadata": {
        "id": "-AgU4u4B3W3z",
        "colab": {
          "base_uri": "https://localhost:8080/"
        },
        "outputId": "8a90a447-f309-475d-fca1-3c62e3098cdc"
      },
      "id": "-AgU4u4B3W3z",
      "execution_count": 26,
      "outputs": [
        {
          "output_type": "stream",
          "name": "stdout",
          "text": [
            "Topic ID:1\n",
            "wa\n",
            "food\n",
            "place\n",
            "great\n",
            "good\n",
            "------------------\n",
            "Topic ID:6\n",
            "wa\n",
            "time\n",
            "get\n",
            "one\n",
            "like\n",
            "------------------\n",
            "Topic ID:3\n",
            "wa\n",
            "food\n",
            "time\n",
            "u\n",
            "order\n",
            "------------------\n",
            "Topic ID:5\n",
            "wa\n",
            "food\n",
            "place\n",
            "time\n",
            "get\n",
            "------------------\n",
            "Topic ID:9\n",
            "wa\n",
            "time\n",
            "get\n",
            "back\n",
            "told\n",
            "------------------\n",
            "Topic ID:4\n",
            "wa\n",
            "food\n",
            "place\n",
            "good\n",
            "-\n",
            "------------------\n",
            "Topic ID:8\n",
            "wa\n",
            "time\n",
            "-\n",
            "one\n",
            "/\n",
            "------------------\n",
            "Topic ID:7\n",
            "wa\n",
            "good\n",
            "-\n",
            "one\n",
            "like\n",
            "------------------\n",
            "Topic ID:2\n",
            "wa\n",
            "food\n",
            "place\n",
            "good\n",
            "like\n",
            "------------------\n",
            "Topic ID:0\n",
            "wa\n",
            "food\n",
            "place\n",
            "great\n",
            "good\n",
            "------------------\n"
          ]
        }
      ]
    },
    {
      "cell_type": "code",
      "source": [
        "topics = combined_df.groupBy(\"kmeans_topic\").\\\n",
        "                    agg(Summarizer.mean(combined_df.features)).\\\n",
        "                    select([\"kmeans_topic\",\"mean(features)\"]).collect()\n",
        "\n",
        "topics = [(i[\"kmeans_topic\"], i[\"mean(features)\"]) for i in topics]\n",
        "\n",
        "for topic in topics:\n",
        "  print(\"Topic ID:\" + str(topic[0]))\n",
        "  top_k = np.partition(topic[1], -20)[-20:]\n",
        "  for term in range(len(topic[1])):\n",
        "    if topic[1][term] in top_k:\n",
        "      print(vocab_list[round(term)])\n",
        "  print(\"------------------\")"
      ],
      "metadata": {
        "colab": {
          "base_uri": "https://localhost:8080/"
        },
        "id": "EqhvmOVbieRF",
        "outputId": "be9f0d09-1e96-4eb6-9271-54d7d7beae8c"
      },
      "id": "EqhvmOVbieRF",
      "execution_count": 59,
      "outputs": [
        {
          "output_type": "stream",
          "name": "stdout",
          "text": [
            "Topic ID:1\n",
            "wa\n",
            "food\n",
            "place\n",
            "great\n",
            "good\n",
            "time\n",
            "service\n",
            "get\n",
            "one\n",
            "like\n",
            "back\n",
            "go\n",
            "really\n",
            "also\n",
            "u\n",
            "got\n",
            "restaurant\n",
            "nice\n",
            "delicious\n",
            "ordered\n",
            "------------------\n",
            "Topic ID:6\n",
            "wa\n",
            "food\n",
            "place\n",
            "good\n",
            "time\n",
            "-\n",
            "service\n",
            "get\n",
            "one\n",
            "like\n",
            "back\n",
            "go\n",
            "really\n",
            "also\n",
            "u\n",
            "got\n",
            "even\n",
            "came\n",
            "said\n",
            "told\n",
            "------------------\n",
            "Topic ID:3\n",
            "wa\n",
            "food\n",
            "place\n",
            "good\n",
            "time\n",
            "service\n",
            "get\n",
            "one\n",
            "like\n",
            "back\n",
            "go\n",
            "u\n",
            "got\n",
            "restaurant\n",
            "order\n",
            "ordered\n",
            "came\n",
            "drink\n",
            "table\n",
            "minute\n",
            "------------------\n",
            "Topic ID:5\n",
            "wa\n",
            "food\n",
            "place\n",
            "great\n",
            "good\n",
            "time\n",
            "-\n",
            "service\n",
            "get\n",
            "one\n",
            "like\n",
            "back\n",
            "go\n",
            "really\n",
            "also\n",
            "even\n",
            "order\n",
            "ha\n",
            "always\n",
            "make\n",
            "------------------\n",
            "Topic ID:9\n",
            "wa\n",
            "time\n",
            "service\n",
            "get\n",
            "one\n",
            "like\n",
            "back\n",
            "go\n",
            "u\n",
            "got\n",
            "even\n",
            "day\n",
            "never\n",
            "said\n",
            "customer\n",
            "told\n",
            "asked\n",
            "car\n",
            "called\n",
            "call\n",
            "------------------\n",
            "Topic ID:4\n",
            "wa\n",
            "food\n",
            "place\n",
            "great\n",
            "good\n",
            "time\n",
            "-\n",
            "service\n",
            "get\n",
            "one\n",
            "like\n",
            "back\n",
            "go\n",
            "really\n",
            "also\n",
            "even\n",
            "restaurant\n",
            "well\n",
            "ha\n",
            "/\n",
            "------------------\n",
            "Topic ID:8\n",
            "wa\n",
            "food\n",
            "place\n",
            "great\n",
            "good\n",
            "time\n",
            "-\n",
            "service\n",
            "get\n",
            "one\n",
            "like\n",
            "back\n",
            "really\n",
            "also\n",
            "order\n",
            "day\n",
            "/\n",
            "2\n",
            "review\n",
            "*\n",
            "------------------\n",
            "Topic ID:7\n",
            "wa\n",
            "food\n",
            "place\n",
            "great\n",
            "good\n",
            "time\n",
            "-\n",
            "service\n",
            "get\n",
            "one\n",
            "like\n",
            "back\n",
            "go\n",
            "really\n",
            "also\n",
            "u\n",
            "even\n",
            "restaurant\n",
            "/\n",
            "5\n",
            "------------------\n",
            "Topic ID:2\n",
            "wa\n",
            "food\n",
            "place\n",
            "great\n",
            "good\n",
            "time\n",
            "-\n",
            "service\n",
            "get\n",
            "one\n",
            "like\n",
            "back\n",
            "really\n",
            "also\n",
            "u\n",
            "got\n",
            "restaurant\n",
            "nice\n",
            "ordered\n",
            "came\n",
            "------------------\n",
            "Topic ID:0\n",
            "wa\n",
            "food\n",
            "place\n",
            "great\n",
            "good\n",
            "time\n",
            "service\n",
            "get\n",
            "one\n",
            "like\n",
            "back\n",
            "go\n",
            "really\n",
            "best\n",
            "staff\n",
            "love\n",
            "delicious\n",
            "always\n",
            "friendly\n",
            "amazing\n",
            "------------------\n"
          ]
        }
      ]
    },
    {
      "cell_type": "code",
      "source": [
        "# Inspect combined_df\n",
        "\n",
        "combined_df.show(5)"
      ],
      "metadata": {
        "colab": {
          "base_uri": "https://localhost:8080/"
        },
        "id": "z7q_URNgZTuN",
        "outputId": "2950ac0e-add0-4c16-996b-e66de484ca41"
      },
      "id": "z7q_URNgZTuN",
      "execution_count": 27,
      "outputs": [
        {
          "output_type": "stream",
          "name": "stdout",
          "text": [
            "+---------+--------------------+-----------------+--------------------+------------+\n",
            "|sentiment|        clean_tokens|           weight|            features|kmeans_topic|\n",
            "+---------+--------------------+-----------------+--------------------+------------+\n",
            "|        0|[nooooo, mouth, f...|4.595715578521246|(10000,[0,1,3,5,8...|           3|\n",
            "|        0|[buyer, beware, a...|4.595715578521246|(10000,[4,7,8,10,...|           5|\n",
            "|        0|[dealer, people, ...|4.595715578521246|(10000,[0,2,5,8,9...|           6|\n",
            "|        0|[amusement, park,...|4.595715578521246|(10000,[0,1,5,6,3...|           2|\n",
            "|        0|[chicken, giant, ...|4.595715578521246|(10000,[42,181,24...|           0|\n",
            "+---------+--------------------+-----------------+--------------------+------------+\n",
            "only showing top 5 rows\n",
            "\n"
          ]
        }
      ]
    },
    {
      "cell_type": "code",
      "source": [
        "# Do LDA now\n",
        "\n",
        "# Select the features vector\n",
        "count_vectors = combined_df.select(\"features\")\n",
        "\n",
        "# Define LDA model with 10 topics\n",
        "lda = LDA(k=10, seed=42)\n",
        "\n",
        "# Fit the LDA model\n",
        "lda_model = lda.fit(count_vectors)\n",
        "\n",
        "# Print the results\n",
        "\n",
        "# Take topic vectors\n",
        "topicIndices = lda_model.describeTopics(maxTermsPerTopic = 5)\n",
        "\n",
        "# Print the final topics\n",
        "for topic in topicIndices.collect():\n",
        "  print(\"Topic ID:\" + str(topic[\"topic\"]))\n",
        "  for term in topic[\"termIndices\"]:\n",
        "    print(vocab_list[term])\n",
        "  print(\"------------------\")"
      ],
      "metadata": {
        "colab": {
          "base_uri": "https://localhost:8080/"
        },
        "id": "oNH_DFFKXL8E",
        "outputId": "7a41a338-e9fc-4380-c6b1-5da43d15cf21"
      },
      "id": "oNH_DFFKXL8E",
      "execution_count": 32,
      "outputs": [
        {
          "output_type": "stream",
          "name": "stdout",
          "text": [
            "Topic ID:0\n",
            "wa\n",
            "time\n",
            "get\n",
            "back\n",
            "service\n",
            "------------------\n",
            "Topic ID:1\n",
            "wa\n",
            "food\n",
            "good\n",
            "time\n",
            "service\n",
            "------------------\n",
            "Topic ID:2\n",
            "food\n",
            "place\n",
            "good\n",
            "best\n",
            "always\n",
            "------------------\n",
            "Topic ID:3\n",
            "wa\n",
            "great\n",
            "food\n",
            "place\n",
            "good\n",
            "------------------\n",
            "Topic ID:4\n",
            "great\n",
            "place\n",
            "wa\n",
            "coffee\n",
            "good\n",
            "------------------\n",
            "Topic ID:5\n",
            "wa\n",
            "food\n",
            "u\n",
            "drink\n",
            "bar\n",
            "------------------\n",
            "Topic ID:6\n",
            "wa\n",
            "car\n",
            "great\n",
            "-\n",
            "time\n",
            "------------------\n",
            "Topic ID:7\n",
            "wa\n",
            "place\n",
            "like\n",
            "*\n",
            "get\n",
            "------------------\n",
            "Topic ID:8\n",
            "-\n",
            "wa\n",
            "cheese\n",
            "good\n",
            "sandwich\n",
            "------------------\n",
            "Topic ID:9\n",
            "wa\n",
            "good\n",
            "pizza\n",
            "ordered\n",
            "sauce\n",
            "------------------\n"
          ]
        }
      ]
    },
    {
      "cell_type": "code",
      "source": [
        "# Take topic vectors\n",
        "topicIndices = lda_model.describeTopics(maxTermsPerTopic = 20)\n",
        "\n",
        "# Print the final topics\n",
        "for topic in topicIndices.collect():\n",
        "  print(\"Topic ID:\" + str(topic[\"topic\"]))\n",
        "  for term in topic[\"termIndices\"]:\n",
        "    print(vocab_list[term])\n",
        "  print(\"------------------\")"
      ],
      "metadata": {
        "colab": {
          "base_uri": "https://localhost:8080/"
        },
        "id": "swn_NKVmiZkX",
        "outputId": "5cd55043-3dee-4d86-f26c-0812f7992f08"
      },
      "id": "swn_NKVmiZkX",
      "execution_count": 58,
      "outputs": [
        {
          "output_type": "stream",
          "name": "stdout",
          "text": [
            "Topic ID:0\n",
            "wa\n",
            "time\n",
            "get\n",
            "back\n",
            "service\n",
            "one\n",
            "told\n",
            "said\n",
            "customer\n",
            "never\n",
            "day\n",
            "go\n",
            "even\n",
            "called\n",
            "like\n",
            "place\n",
            "u\n",
            "call\n",
            "went\n",
            "-\n",
            "------------------\n",
            "Topic ID:1\n",
            "wa\n",
            "food\n",
            "good\n",
            "time\n",
            "service\n",
            "breakfast\n",
            "place\n",
            "u\n",
            "back\n",
            "ordered\n",
            "came\n",
            "got\n",
            "really\n",
            "-\n",
            "one\n",
            "like\n",
            "great\n",
            "egg\n",
            "order\n",
            "restaurant\n",
            "------------------\n",
            "Topic ID:2\n",
            "food\n",
            "place\n",
            "good\n",
            "best\n",
            "always\n",
            "get\n",
            "go\n",
            "great\n",
            "love\n",
            "time\n",
            "one\n",
            "like\n",
            "price\n",
            "service\n",
            "ha\n",
            "pizza\n",
            "restaurant\n",
            "make\n",
            "wa\n",
            "friendly\n",
            "------------------\n",
            "Topic ID:3\n",
            "wa\n",
            "great\n",
            "food\n",
            "place\n",
            "good\n",
            "service\n",
            "delicious\n",
            "amazing\n",
            "restaurant\n",
            "definitely\n",
            "time\n",
            "back\n",
            "chicken\n",
            "friendly\n",
            "recommend\n",
            "really\n",
            "also\n",
            "best\n",
            "menu\n",
            "fresh\n",
            "------------------\n",
            "Topic ID:4\n",
            "great\n",
            "place\n",
            "wa\n",
            "coffee\n",
            "good\n",
            "nice\n",
            "love\n",
            "like\n",
            "get\n",
            "time\n",
            "one\n",
            "room\n",
            "staff\n",
            "beer\n",
            "friendly\n",
            "also\n",
            "food\n",
            "bar\n",
            "really\n",
            "go\n",
            "------------------\n",
            "Topic ID:5\n",
            "wa\n",
            "food\n",
            "u\n",
            "drink\n",
            "bar\n",
            "table\n",
            "time\n",
            "great\n",
            "place\n",
            "back\n",
            "service\n",
            "one\n",
            "get\n",
            "minute\n",
            "good\n",
            "order\n",
            "night\n",
            "came\n",
            "go\n",
            "server\n",
            "------------------\n",
            "Topic ID:6\n",
            "wa\n",
            "car\n",
            "great\n",
            "-\n",
            "time\n",
            "store\n",
            "service\n",
            "work\n",
            "get\n",
            "one\n",
            "ha\n",
            "year\n",
            "new\n",
            "recommend\n",
            "like\n",
            "price\n",
            "also\n",
            "need\n",
            "experience\n",
            "day\n",
            "------------------\n",
            "Topic ID:7\n",
            "wa\n",
            "place\n",
            "like\n",
            "*\n",
            "get\n",
            "time\n",
            "one\n",
            "good\n",
            "cake\n",
            "-\n",
            "got\n",
            "tour\n",
            "really\n",
            "back\n",
            "go\n",
            "great\n",
            "massage\n",
            "order\n",
            "chocolate\n",
            "also\n",
            "------------------\n",
            "Topic ID:8\n",
            "-\n",
            "wa\n",
            "cheese\n",
            "good\n",
            "sandwich\n",
            "taco\n",
            "burger\n",
            "/\n",
            "fry\n",
            "like\n",
            "chicken\n",
            "one\n",
            "also\n",
            "place\n",
            "great\n",
            "food\n",
            "time\n",
            "back\n",
            "ordered\n",
            "meat\n",
            "------------------\n",
            "Topic ID:9\n",
            "wa\n",
            "good\n",
            "pizza\n",
            "ordered\n",
            "sauce\n",
            "place\n",
            "like\n",
            "salad\n",
            "-\n",
            "food\n",
            "chicken\n",
            "delicious\n",
            "got\n",
            "cheese\n",
            "great\n",
            "time\n",
            "also\n",
            "one\n",
            "restaurant\n",
            "back\n",
            "------------------\n"
          ]
        }
      ]
    },
    {
      "cell_type": "code",
      "source": [],
      "metadata": {
        "id": "X-w4csq1ibaw"
      },
      "id": "X-w4csq1ibaw",
      "execution_count": null,
      "outputs": []
    }
  ],
  "metadata": {
    "kernelspec": {
      "display_name": "Python 3",
      "name": "python3"
    },
    "language_info": {
      "codemirror_mode": {
        "name": "ipython",
        "version": 3
      },
      "file_extension": ".py",
      "mimetype": "text/x-python",
      "name": "python",
      "nbconvert_exporter": "python",
      "pygments_lexer": "ipython3",
      "version": "3.13.2"
    },
    "colab": {
      "provenance": [],
      "machine_shape": "hm",
      "include_colab_link": true
    }
  },
  "nbformat": 4,
  "nbformat_minor": 5
}