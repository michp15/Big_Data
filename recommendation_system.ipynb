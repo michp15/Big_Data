{
  "metadata": {
    "kernelspec": {
      "language": "python",
      "display_name": "Python 3",
      "name": "python3"
    },
    "language_info": {
      "name": "python",
      "version": "3.11.11",
      "mimetype": "text/x-python",
      "codemirror_mode": {
        "name": "ipython",
        "version": 3
      },
      "pygments_lexer": "ipython3",
      "nbconvert_exporter": "python",
      "file_extension": ".py"
    },
    "kaggle": {
      "accelerator": "none",
      "dataSources": [
        {
          "sourceId": 3316532,
          "sourceType": "datasetVersion",
          "datasetId": 10100
        }
      ],
      "dockerImageVersionId": 31040,
      "isInternetEnabled": true,
      "language": "python",
      "sourceType": "notebook",
      "isGpuEnabled": false
    },
    "colab": {
      "provenance": [],
      "include_colab_link": true
    }
  },
  "nbformat_minor": 0,
  "nbformat": 4,
  "cells": [
    {
      "cell_type": "markdown",
      "metadata": {
        "id": "view-in-github",
        "colab_type": "text"
      },
      "source": [
        "<a href=\"https://colab.research.google.com/github/michp15/Big_Data/blob/main/recommendation_system.ipynb\" target=\"_parent\"><img src=\"https://colab.research.google.com/assets/colab-badge.svg\" alt=\"Open In Colab\"/></a>"
      ]
    },
    {
      "cell_type": "markdown",
      "source": [
        "# Recommendation System"
      ],
      "metadata": {
        "id": "Iqu65VIckzmM"
      }
    },
    {
      "cell_type": "markdown",
      "source": [
        "## 1. Project Setup & Environment"
      ],
      "metadata": {
        "id": "j0mrMizbkzmO"
      }
    },
    {
      "cell_type": "code",
      "source": [
        "# Install & configure dependencies\n",
        "!pip install pyspark\n",
        "!pip install graphframes"
      ],
      "metadata": {
        "_uuid": "8f2839f25d086af736a60e9eeb907d3b93b6e0e5",
        "_cell_guid": "b1076dfc-b9ad-4769-8c92-a6c4dae69d19",
        "trusted": true,
        "execution": {
          "iopub.status.busy": "2025-05-13T13:35:55.900058Z",
          "iopub.execute_input": "2025-05-13T13:35:55.900441Z",
          "iopub.status.idle": "2025-05-13T13:36:03.653439Z",
          "shell.execute_reply.started": "2025-05-13T13:35:55.900407Z",
          "shell.execute_reply": "2025-05-13T13:36:03.651935Z"
        },
        "id": "ONsvqNNUkzmP",
        "outputId": "17464a6d-486f-4691-cd1e-65feae98a75a"
      },
      "outputs": [
        {
          "name": "stdout",
          "text": "Requirement already satisfied: pyspark in /usr/local/lib/python3.11/dist-packages (3.5.5)\nRequirement already satisfied: py4j==0.10.9.7 in /usr/local/lib/python3.11/dist-packages (from pyspark) (0.10.9.7)\nRequirement already satisfied: graphframes in /usr/local/lib/python3.11/dist-packages (0.6)\nRequirement already satisfied: numpy in /usr/local/lib/python3.11/dist-packages (from graphframes) (1.26.4)\nRequirement already satisfied: nose in /usr/local/lib/python3.11/dist-packages (from graphframes) (1.3.7)\nRequirement already satisfied: mkl_fft in /usr/local/lib/python3.11/dist-packages (from numpy->graphframes) (1.3.8)\nRequirement already satisfied: mkl_random in /usr/local/lib/python3.11/dist-packages (from numpy->graphframes) (1.2.4)\nRequirement already satisfied: mkl_umath in /usr/local/lib/python3.11/dist-packages (from numpy->graphframes) (0.1.1)\nRequirement already satisfied: mkl in /usr/local/lib/python3.11/dist-packages (from numpy->graphframes) (2025.1.0)\nRequirement already satisfied: tbb4py in /usr/local/lib/python3.11/dist-packages (from numpy->graphframes) (2022.1.0)\nRequirement already satisfied: mkl-service in /usr/local/lib/python3.11/dist-packages (from numpy->graphframes) (2.4.1)\nRequirement already satisfied: intel-openmp<2026,>=2024 in /usr/local/lib/python3.11/dist-packages (from mkl->numpy->graphframes) (2024.2.0)\nRequirement already satisfied: tbb==2022.* in /usr/local/lib/python3.11/dist-packages (from mkl->numpy->graphframes) (2022.1.0)\nRequirement already satisfied: tcmlib==1.* in /usr/local/lib/python3.11/dist-packages (from tbb==2022.*->mkl->numpy->graphframes) (1.3.0)\nRequirement already satisfied: intel-cmplr-lib-rt in /usr/local/lib/python3.11/dist-packages (from mkl_umath->numpy->graphframes) (2024.2.0)\nRequirement already satisfied: intel-cmplr-lib-ur==2024.2.0 in /usr/local/lib/python3.11/dist-packages (from intel-openmp<2026,>=2024->mkl->numpy->graphframes) (2024.2.0)\n",
          "output_type": "stream"
        }
      ],
      "execution_count": null
    },
    {
      "cell_type": "code",
      "source": [
        "# spark functionality\n",
        "from pyspark.sql import SparkSession\n",
        "from pyspark.sql.functions import col, sum, avg, count, lit, year, month, split, explode, size, regexp_replace, rand\n",
        "from pyspark.sql.functions import when, least, greatest, min, max\n",
        "from pyspark.ml.recommendation import ALS # collaborative filtering\n",
        "from pyspark.ml.feature import StringIndexer # incoding strings\n",
        "from pyspark.ml.evaluation import RegressionEvaluator # for evaluation\n",
        "from pyspark.ml.tuning import ParamGridBuilder, TrainValidationSplit # hyperparameter tuning\n",
        "\n",
        "# for visualizations\n",
        "import pandas as pd\n",
        "import matplotlib.pyplot as plt\n",
        "import seaborn as sns"
      ],
      "metadata": {
        "trusted": true,
        "execution": {
          "iopub.status.busy": "2025-05-13T15:00:04.370033Z",
          "iopub.execute_input": "2025-05-13T15:00:04.370951Z",
          "iopub.status.idle": "2025-05-13T15:00:04.378510Z",
          "shell.execute_reply.started": "2025-05-13T15:00:04.370914Z",
          "shell.execute_reply": "2025-05-13T15:00:04.376750Z"
        },
        "id": "UyoV2WeMkzmQ"
      },
      "outputs": [],
      "execution_count": null
    },
    {
      "cell_type": "code",
      "source": [
        "# initialize SparkSession with GraphFrames support\n",
        "spark = SparkSession.builder \\\n",
        "    .appName(\"YelpEDA_GraphAnalysis\") \\\n",
        "    .config(\"spark.jars.packages\", \"graphframes:graphframes:0.8.2-spark3.1-s_2.12\") \\\n",
        "    .getOrCreate()\n",
        "\n",
        "# verify the session\n",
        "spark"
      ],
      "metadata": {
        "trusted": true,
        "execution": {
          "iopub.status.busy": "2025-05-13T13:26:34.622428Z",
          "iopub.execute_input": "2025-05-13T13:26:34.623458Z",
          "iopub.status.idle": "2025-05-13T13:26:46.080451Z",
          "shell.execute_reply.started": "2025-05-13T13:26:34.623426Z",
          "shell.execute_reply": "2025-05-13T13:26:46.079332Z"
        },
        "id": "23f9XR8WkzmR",
        "outputId": "b9e38d6f-55b8-41b9-a04e-17928a7283f3"
      },
      "outputs": [
        {
          "name": "stdout",
          "text": ":: loading settings :: url = jar:file:/usr/local/lib/python3.11/dist-packages/pyspark/jars/ivy-2.5.1.jar!/org/apache/ivy/core/settings/ivysettings.xml\n",
          "output_type": "stream"
        },
        {
          "name": "stderr",
          "text": "Ivy Default Cache set to: /root/.ivy2/cache\nThe jars for the packages stored in: /root/.ivy2/jars\ngraphframes#graphframes added as a dependency\n:: resolving dependencies :: org.apache.spark#spark-submit-parent-28acae5a-c0ad-48b0-be8d-e5dff6d0be7c;1.0\n\tconfs: [default]\n\tfound graphframes#graphframes;0.8.2-spark3.1-s_2.12 in spark-packages\n\tfound org.slf4j#slf4j-api;1.7.16 in central\ndownloading https://repos.spark-packages.org/graphframes/graphframes/0.8.2-spark3.1-s_2.12/graphframes-0.8.2-spark3.1-s_2.12.jar ...\n\t[SUCCESSFUL ] graphframes#graphframes;0.8.2-spark3.1-s_2.12!graphframes.jar (68ms)\ndownloading https://repo1.maven.org/maven2/org/slf4j/slf4j-api/1.7.16/slf4j-api-1.7.16.jar ...\n\t[SUCCESSFUL ] org.slf4j#slf4j-api;1.7.16!slf4j-api.jar (42ms)\n:: resolution report :: resolve 1391ms :: artifacts dl 116ms\n\t:: modules in use:\n\tgraphframes#graphframes;0.8.2-spark3.1-s_2.12 from spark-packages in [default]\n\torg.slf4j#slf4j-api;1.7.16 from central in [default]\n\t---------------------------------------------------------------------\n\t|                  |            modules            ||   artifacts   |\n\t|       conf       | number| search|dwnlded|evicted|| number|dwnlded|\n\t---------------------------------------------------------------------\n\t|      default     |   2   |   2   |   2   |   0   ||   2   |   2   |\n\t---------------------------------------------------------------------\n:: retrieving :: org.apache.spark#spark-submit-parent-28acae5a-c0ad-48b0-be8d-e5dff6d0be7c\n\tconfs: [default]\n\t2 artifacts copied, 0 already retrieved (281kB/10ms)\n25/05/13 13:26:41 WARN NativeCodeLoader: Unable to load native-hadoop library for your platform... using builtin-java classes where applicable\nSetting default log level to \"WARN\".\nTo adjust logging level use sc.setLogLevel(newLevel). For SparkR, use setLogLevel(newLevel).\n",
          "output_type": "stream"
        },
        {
          "execution_count": 3,
          "output_type": "execute_result",
          "data": {
            "text/plain": "<pyspark.sql.session.SparkSession at 0x7adb87eea910>",
            "text/html": "\n            <div>\n                <p><b>SparkSession - in-memory</b></p>\n                \n        <div>\n            <p><b>SparkContext</b></p>\n\n            <p><a href=\"http://2b21dd8d7e1e:4040\">Spark UI</a></p>\n\n            <dl>\n              <dt>Version</dt>\n                <dd><code>v3.5.5</code></dd>\n              <dt>Master</dt>\n                <dd><code>local[*]</code></dd>\n              <dt>AppName</dt>\n                <dd><code>YelpEDA_GraphAnalysis</code></dd>\n            </dl>\n        </div>\n        \n            </div>\n        "
          },
          "metadata": {}
        }
      ],
      "execution_count": null
    },
    {
      "cell_type": "markdown",
      "source": [
        "## 2. Data Ingestion"
      ],
      "metadata": {
        "id": "dpfCI1p6kzmS"
      }
    },
    {
      "cell_type": "code",
      "source": [
        "# loading only columns we need\n",
        "reviews_df = (spark.read.json(\"/kaggle/input/yelp-dataset/yelp_academic_dataset_review.json\")\n",
        "                 .select(\"user_id\", \"business_id\", \"stars\", \"date\"))\n",
        "\n",
        "reviews_df.show()"
      ],
      "metadata": {
        "trusted": true,
        "execution": {
          "iopub.status.busy": "2025-05-13T13:28:04.889081Z",
          "iopub.execute_input": "2025-05-13T13:28:04.889374Z",
          "iopub.status.idle": "2025-05-13T13:28:23.840345Z",
          "shell.execute_reply.started": "2025-05-13T13:28:04.889354Z",
          "shell.execute_reply": "2025-05-13T13:28:23.838511Z"
        },
        "id": "dEM13-zBkzmS",
        "outputId": "5a98856f-9082-4414-bc71-1f1c591669de"
      },
      "outputs": [
        {
          "name": "stderr",
          "text": "                                                                                                    \r",
          "output_type": "stream"
        },
        {
          "name": "stdout",
          "text": "+--------------------+--------------------+-----+-------------------+\n|             user_id|         business_id|stars|               date|\n+--------------------+--------------------+-----+-------------------+\n|mh_-eMZ6K5RLWhZyI...|XQfwVwDr-v0ZS3_Cb...|  3.0|2018-07-07 22:09:11|\n|OyoGAe7OKpv6SyGZT...|7ATYjTIgM3jUlt4UM...|  5.0|2012-01-03 15:28:18|\n|8g_iMtfSiwikVnbP2...|YjUWPpI6HXG530lwP...|  3.0|2014-02-05 20:30:30|\n|_7bHUi9Uuf5__HHc_...|kxX2SOes4o-D3ZQBk...|  5.0|2015-01-04 00:01:03|\n|bcjbaE6dDog4jkNY9...|e4Vwtrqf-wpJfwesg...|  4.0|2017-01-14 20:54:15|\n|eUta8W_HdHMXPzLBB...|04UD14gamNjLY0IDY...|  1.0|2015-09-23 23:10:31|\n|r3zeYsv1XFBRA4dJp...|gmjsEdUsKpj9Xxu6p...|  5.0|2015-01-03 23:21:18|\n|yfFzsLmaWF2d4Sr0U...|LHSTtnW3YHCeUkRDG...|  5.0|2015-08-07 02:29:16|\n|wSTuiTk-sKNdcFypr...|B5XSoSG3SfvQGtKEG...|  3.0|2016-03-30 22:46:33|\n|59MxRhNVhU9MYndMk...|gebiRewfieSdtt17P...|  3.0|2016-07-25 07:31:06|\n|1WHRWwQmZOZDAhp2Q...|uMvVYRgGNXf5boolA...|  5.0|2015-06-21 14:48:06|\n|ZbqSHbgCjzVAqaa7N...|EQ-TZ2eeD_E0BHuvo...|  4.0|2015-08-19 14:31:45|\n|9OAtfnWag-ajVxRbU...|lj-E32x9_FA7GmUrB...|  4.0|2014-06-27 22:44:01|\n|smOvOajNG0lS4Pq7d...|RZtGWDLCAtuipwaZ-...|  4.0|2009-10-14 19:57:14|\n|4Uh27DgGzsp6PqrH9...|otQS34_MymijPTdNB...|  4.0|2011-10-27 17:12:05|\n|1C2lxzUo1Hyye4RFI...|BVndHaLihEYbr76Z0...|  5.0|2014-10-11 16:22:06|\n|Dd1jQj7S-BFGqRbAp...|YtSqYv1Q_pOltsVPS...|  5.0|2013-06-24 11:21:25|\n|j2wlzrntrbKwyOcOi...|rBdG_23USc7DletfZ...|  4.0|2014-08-10 19:41:43|\n|NDZvyYHTUWWu-kqgQ...|CLEWowfkj-wKYJlQD...|  5.0|2016-03-07 00:02:18|\n|IQsF3Rc6IgCzjVV9D...|eFvzHawVJofxSnD7T...|  5.0|2014-11-12 15:30:27|\n+--------------------+--------------------+-----+-------------------+\nonly showing top 20 rows\n\n",
          "output_type": "stream"
        }
      ],
      "execution_count": null
    },
    {
      "cell_type": "code",
      "source": [
        "print(\"The number of rows: \", reviews_df.count())"
      ],
      "metadata": {
        "trusted": true,
        "execution": {
          "iopub.status.busy": "2025-05-13T01:11:46.859754Z",
          "iopub.execute_input": "2025-05-13T01:11:46.860157Z",
          "iopub.status.idle": "2025-05-13T01:12:02.323166Z",
          "shell.execute_reply.started": "2025-05-13T01:11:46.860128Z",
          "shell.execute_reply": "2025-05-13T01:12:02.321069Z"
        },
        "id": "TaYcKvQHkzmS",
        "outputId": "5d18e29a-b98c-4d3e-ca6a-cdaaf0691f11"
      },
      "outputs": [
        {
          "name": "stderr",
          "text": "[Stage 4:=========================================================================>   (38 + 2) / 40]\r",
          "output_type": "stream"
        },
        {
          "name": "stdout",
          "text": "The number of rows:  6990280\n",
          "output_type": "stream"
        },
        {
          "name": "stderr",
          "text": "                                                                                                    \r",
          "output_type": "stream"
        }
      ],
      "execution_count": null
    },
    {
      "cell_type": "code",
      "source": [
        "# we need business df to filter out closed businesses\n",
        "business_df = (spark.read.json(\"/kaggle/input/yelp-dataset/yelp_academic_dataset_business.json\")\n",
        "                 .select(\"business_id\", \"name\", \"categories\", \"is_open\"))\n",
        "\n",
        "business_df.show()"
      ],
      "metadata": {
        "trusted": true,
        "execution": {
          "iopub.status.busy": "2025-05-13T13:28:44.720593Z",
          "iopub.execute_input": "2025-05-13T13:28:44.720986Z",
          "iopub.status.idle": "2025-05-13T13:28:46.809384Z",
          "shell.execute_reply.started": "2025-05-13T13:28:44.720960Z",
          "shell.execute_reply": "2025-05-13T13:28:46.808449Z"
        },
        "id": "bevyVFEpkzmT",
        "outputId": "5db9dc7b-af30-4903-e3e3-c50f76119909"
      },
      "outputs": [
        {
          "name": "stderr",
          "text": "                                                                                                    \r",
          "output_type": "stream"
        },
        {
          "name": "stdout",
          "text": "+--------------------+--------------------+--------------------+-------+\n|         business_id|                name|          categories|is_open|\n+--------------------+--------------------+--------------------+-------+\n|Pns2l4eNsfO8kk83d...|Abby Rappoport, L...|Doctors, Traditio...|      0|\n|mpf3x-BjTdTEA3yCZ...|       The UPS Store|Shipping Centers,...|      1|\n|tUFrWirKiKi_TAnsV...|              Target|Department Stores...|      0|\n|MTSW4McQd7CbVtyjq...|  St Honore Pastries|Restaurants, Food...|      1|\n|mWMc6_wTdE0EUBKIG...|Perkiomen Valley ...|Brewpubs, Breweri...|      1|\n|CF33F8-E6oudUQ46H...|      Sonic Drive-In|Burgers, Fast Foo...|      1|\n|n_0UpQx1hsNbnPUSl...|     Famous Footwear|Sporting Goods, F...|      1|\n|qkRM_2X51Yqxk3btl...|      Temple Beth-El|Synagogues, Relig...|      1|\n|k0hlBqXX-Bt0vf1op...|Tsevi's Pub And G...|Pubs, Restaurants...|      0|\n|bBDDEgkFA1Otx9Lfe...|      Sonic Drive-In|Ice Cream & Froze...|      1|\n|UJsufbvfyfONHeWdv...|           Marshalls|Department Stores...|      1|\n|eEOYSgkmpB90uNA7l...|Vietnamese Food T...|Vietnamese, Food,...|      1|\n|il_Ro8jwPlHresjw9...|             Denny's|American (Traditi...|      1|\n|jaxMSoInw8Poo3XeM...|        Adams Dental|General Dentistry...|      1|\n|0bPLkL0QhhPO5kt1_...|Zio's Italian Market|Food, Delis, Ital...|      0|\n|MUTTqe8uqyMdBl186...|            Tuna Bar|Sushi Bars, Resta...|      1|\n|rBmpy_Y1UbBx8ggHl...|Arizona Truck Out...|Automotive, Auto ...|      1|\n|M0XSSHqrASOnhgbWD...|      Herb Import Co|Vape Shops, Tobac...|      1|\n|8wGISYjYkE2tSqn3c...|    Nifty Car Rental|Automotive, Car R...|      1|\n|ROeacJQwBeh05Rqg7...|                 BAP| Korean, Restaurants|      1|\n+--------------------+--------------------+--------------------+-------+\nonly showing top 20 rows\n\n",
          "output_type": "stream"
        }
      ],
      "execution_count": null
    },
    {
      "cell_type": "markdown",
      "source": [
        "## 3. Preprocessing"
      ],
      "metadata": {
        "id": "e3Bows5CkzmT"
      }
    },
    {
      "cell_type": "code",
      "source": [
        "# filter closed businesses\n",
        "\n",
        "# keep businesses that are currently open\n",
        "open_biz = business_df.filter(col(\"is_open\") == 1).select(\"business_id\")\n",
        "\n",
        "# drop reviews that point to closed places by joining with `open_biz`\n",
        "reviews_df = reviews_df.join(open_biz, \"business_id\")\n",
        "\n",
        "print(\"The number of businesses after filtering: \", reviews_df.count())"
      ],
      "metadata": {
        "trusted": true,
        "execution": {
          "iopub.status.busy": "2025-05-13T13:29:01.698375Z",
          "iopub.execute_input": "2025-05-13T13:29:01.698718Z",
          "iopub.status.idle": "2025-05-13T13:29:20.085308Z",
          "shell.execute_reply.started": "2025-05-13T13:29:01.698693Z",
          "shell.execute_reply": "2025-05-13T13:29:20.082576Z"
        },
        "id": "ehTOCxAukzmU",
        "outputId": "73d88652-9400-48a5-8937-36d364dfa5b4"
      },
      "outputs": [
        {
          "name": "stderr",
          "text": "[Stage 9:===========================================================================> (39 + 1) / 40]\r",
          "output_type": "stream"
        },
        {
          "name": "stdout",
          "text": "The number of businesses after filtering:  5791234\n",
          "output_type": "stream"
        },
        {
          "name": "stderr",
          "text": "                                                                                                    \r",
          "output_type": "stream"
        }
      ],
      "execution_count": null
    },
    {
      "cell_type": "markdown",
      "source": [
        "Decrease from 6990280 -> 5791234"
      ],
      "metadata": {
        "id": "t06kmudBkzmU"
      }
    },
    {
      "cell_type": "code",
      "source": [
        "# filter very sparse users and businesses to reduce matrix size\n",
        "\n",
        "min_user_ratings = 10 # at least 10 ratings from the user\n",
        "min_biz_ratings = 20 # at least 20 ratings for the business\n",
        "\n",
        "active_users = (reviews_df.groupBy(\"user_id\").count()\n",
        "                         .filter(col(\"count\") >= min_user_ratings))\n",
        "\n",
        "popular_biz  = (reviews_df.groupBy(\"business_id\").count()\n",
        "                         .filter(col(\"count\") >= min_biz_ratings))\n",
        "\n",
        "reviews_df = (reviews_df.join(active_users, \"user_id\")\n",
        "                  .join(popular_biz, \"business_id\"))\n",
        "\n",
        "print(\"The number of reviews after removing non-actives: \", reviews_df.count())"
      ],
      "metadata": {
        "trusted": true,
        "execution": {
          "iopub.status.busy": "2025-05-13T13:29:31.927615Z",
          "iopub.execute_input": "2025-05-13T13:29:31.927978Z",
          "iopub.status.idle": "2025-05-13T13:30:59.613139Z",
          "shell.execute_reply.started": "2025-05-13T13:29:31.927953Z",
          "shell.execute_reply": "2025-05-13T13:30:59.606216Z"
        },
        "id": "NWqOFzP7kzmU",
        "outputId": "8d7db596-367f-4761-b7f5-df96b2353017"
      },
      "outputs": [
        {
          "name": "stderr",
          "text": "[Stage 23:>                                                                             (0 + 4) / 4]\r",
          "output_type": "stream"
        },
        {
          "name": "stdout",
          "text": "The number of businesses after removing non-actives:  2219427\n",
          "output_type": "stream"
        },
        {
          "name": "stderr",
          "text": "                                                                                                    \r",
          "output_type": "stream"
        }
      ],
      "execution_count": null
    },
    {
      "cell_type": "markdown",
      "source": [
        "Now we have **2219427** reviews"
      ],
      "metadata": {
        "id": "pUPunjmekzmV"
      }
    },
    {
      "cell_type": "code",
      "source": [
        "# map string IDs to integer indices (required by ALS with collaborative filtering)\n",
        "\n",
        "user_indexer = StringIndexer(inputCol=\"user_id\", outputCol=\"uid\").fit(reviews_df) # save indexed column as uid\n",
        "user_indexed = user_indexer.transform(reviews_df)\n",
        "\n",
        "biz_indexer = StringIndexer(inputCol=\"business_id\", outputCol=\"bid\").fit(reviews_df) # save indexed column as bid\n",
        "data = biz_indexer.transform(user_indexed)\n",
        "\n",
        "data.show()"
      ],
      "metadata": {
        "trusted": true,
        "execution": {
          "iopub.status.busy": "2025-05-13T13:31:04.341306Z",
          "iopub.execute_input": "2025-05-13T13:31:04.341744Z",
          "iopub.status.idle": "2025-05-13T13:34:57.307959Z",
          "shell.execute_reply.started": "2025-05-13T13:31:04.341705Z",
          "shell.execute_reply": "2025-05-13T13:34:57.306494Z"
        },
        "id": "ZtLKizpJkzmV",
        "outputId": "207622ca-ba50-4d33-db13-29afce791885"
      },
      "outputs": [
        {
          "name": "stderr",
          "text": "25/05/13 13:34:56 WARN DAGScheduler: Broadcasting large task binary with size 7.5 MiB   (7 + 1) / 8]\n[Stage 77:>                                                                             (0 + 1) / 1]\r",
          "output_type": "stream"
        },
        {
          "name": "stdout",
          "text": "+--------------------+--------------------+-----+-------------------+-----+-----+-------+-------+\n|         business_id|             user_id|stars|               date|count|count|    uid|    bid|\n+--------------------+--------------------+-----+-------------------+-----+-----+-------+-------+\n|---kPU91CF4Lq2-Wl...|6SoUQtbIltsun0IIG...|  4.0|2021-11-28 16:40:02|   20|   24|30418.0|45749.0|\n|---kPU91CF4Lq2-Wl...|qrCkKrEwQ-q9m1iWS...|  5.0|2020-03-18 01:34:18|   59|   24| 6617.0|45749.0|\n|---kPU91CF4Lq2-Wl...|i48cHEyRBl5g9_npY...|  4.0|2020-06-04 12:27:25|  172|   24| 1427.0|45749.0|\n|---kPU91CF4Lq2-Wl...|Q-ia5eY9smWBTwYOZ...|  5.0|2020-10-02 23:01:22|   15|   24|65789.0|45749.0|\n|---kPU91CF4Lq2-Wl...|V8oYXtc0hMuYzG5Hf...|  3.0|2021-03-06 01:39:34|   12|   24|59056.0|45749.0|\n|---kPU91CF4Lq2-Wl...|TIx1jZXl57mY-JnS3...|  5.0|2021-10-19 01:16:48|   98|   24| 2926.0|45749.0|\n|--9osgUCSDUWUkoTL...|NXnWmsyvBx8hjmCTF...|  5.0|2019-01-06 01:26:39|  174|   30| 1062.0|40783.0|\n|--9osgUCSDUWUkoTL...|vcsKTnTWI7iq_peGE...|  5.0|2018-05-22 04:04:48|   30|   30|18808.0|40783.0|\n|--9osgUCSDUWUkoTL...|wYnXoa1Vff_jMk9PI...|  5.0|2019-02-24 05:42:24|   23|   30|27987.0|40783.0|\n|--9osgUCSDUWUkoTL...|9cr05MO9-zeRwDCSm...|  3.0|2015-07-08 15:42:14|   10|   30|82025.0|40783.0|\n|--9osgUCSDUWUkoTL...|96PEBHbQokIaQZHF_...|  5.0|2019-08-30 01:32:34|   33|   30|19026.0|40783.0|\n|--9osgUCSDUWUkoTL...|N8nlG4XpbAcB74jEW...|  5.0|2022-01-07 16:50:23|   76|   30| 4140.0|40783.0|\n|--9osgUCSDUWUkoTL...|9Bwu2Yl9GABBntKrV...|  5.0|2018-02-24 06:16:05|   55|   30| 7272.0|40783.0|\n|--9osgUCSDUWUkoTL...|qQ4Ht8TbyC9E77NBz...|  4.0|2018-04-22 20:01:33|   23|   30|27807.0|40783.0|\n|--9osgUCSDUWUkoTL...|DdPEm9nl_5zxrzGNa...|  5.0|2021-01-05 19:53:36|   93|   30| 4128.0|40783.0|\n|--epgcb7xHGuJ-4PU...|LD4vNEjKsnkStcVl9...|  1.0|2018-03-27 16:52:44|   12|   38|74281.0|24037.0|\n|--epgcb7xHGuJ-4PU...|7re6dowFy3CO6y3Pb...|  1.0|2021-12-05 15:13:25|   56|   38|10569.0|24037.0|\n|--epgcb7xHGuJ-4PU...|wUTjHpPAs6EWFZtMf...|  5.0|2014-06-28 11:33:26|  179|   38|  883.0|24037.0|\n|--epgcb7xHGuJ-4PU...|qdHRpSbLkkNmL_4xH...|  5.0|2016-08-27 23:46:21|   25|   38|40843.0|24037.0|\n|--epgcb7xHGuJ-4PU...|6woTWCjHDMEjQclni...|  5.0|2013-01-15 05:53:08|  105|   38| 2579.0|24037.0|\n+--------------------+--------------------+-----+-------------------+-----+-----+-------+-------+\nonly showing top 20 rows\n\n",
          "output_type": "stream"
        },
        {
          "name": "stderr",
          "text": "                                                                                                    \r",
          "output_type": "stream"
        }
      ],
      "execution_count": null
    },
    {
      "cell_type": "markdown",
      "source": [
        "## 3. Splitting Data"
      ],
      "metadata": {
        "id": "kBMlqk0dkzmW"
      }
    },
    {
      "cell_type": "code",
      "source": [
        "train, test = data.randomSplit([0.8, 0.2], seed=42)"
      ],
      "metadata": {
        "trusted": true,
        "execution": {
          "iopub.status.busy": "2025-05-13T13:37:05.596278Z",
          "iopub.execute_input": "2025-05-13T13:37:05.596644Z",
          "iopub.status.idle": "2025-05-13T13:37:05.637486Z",
          "shell.execute_reply.started": "2025-05-13T13:37:05.596614Z",
          "shell.execute_reply": "2025-05-13T13:37:05.636311Z"
        },
        "id": "wKEomUg6kzmW"
      },
      "outputs": [],
      "execution_count": null
    },
    {
      "cell_type": "markdown",
      "source": [
        "### 4. Collaborative Filtering with ALS"
      ],
      "metadata": {
        "id": "YYeABZ_hkzmW"
      }
    },
    {
      "cell_type": "markdown",
      "source": [
        "### 4.1 Training Model"
      ],
      "metadata": {
        "id": "43ljMPBxkzmX"
      }
    },
    {
      "cell_type": "code",
      "source": [
        "als_default = ALS(\n",
        "    rank=10, # num of latent factors (default=10)\n",
        "    regParam=0.1, # regularization parameter to avoid overfitting (default=0.1)\n",
        "    maxIter=10, # num of ALS iterations (default=10)\n",
        "    userCol=\"uid\", # user id\n",
        "    itemCol=\"bid\", # business id\n",
        "    ratingCol=\"stars\", # based on the stars\n",
        "    implicitPrefs=False, # treat stars as explicit feedback, not implicit\n",
        "    coldStartStrategy=\"drop\"  # avoids NaNs in predictions\n",
        ")\n",
        "\n",
        "# fit the model to the data to learn it\n",
        "model_default = als_default.fit(train)\n",
        "\n",
        "# evaluate the model\n",
        "preds_def = model_default.transform(test)\n",
        "evaluator = RegressionEvaluator(\n",
        "    metricName=\"rmse\", # root-mean-square error metric\n",
        "    labelCol=\"stars\", # true rating column\n",
        "    predictionCol=\"prediction\" # predicted rating column\n",
        ")\n",
        "rmse_def = evaluator.evaluate(preds_def)\n",
        "print(f\"Default ALS RMSE = {rmse_def:.4f}\")"
      ],
      "metadata": {
        "trusted": true,
        "execution": {
          "iopub.status.busy": "2025-05-13T02:46:47.941226Z",
          "iopub.execute_input": "2025-05-13T02:46:47.941568Z",
          "iopub.status.idle": "2025-05-13T02:52:09.420505Z",
          "shell.execute_reply.started": "2025-05-13T02:46:47.941545Z",
          "shell.execute_reply": "2025-05-13T02:52:09.419601Z"
        },
        "scrolled": true,
        "id": "84PwKrlKkzmX",
        "outputId": "e1376288-a112-42ff-ef06-ad9b26cc5f8a"
      },
      "outputs": [
        {
          "name": "stderr",
          "text": "25/05/13 02:49:23 WARN DAGScheduler: Broadcasting large task binary with size 7.5 MiB   (7 + 1) / 8]\n25/05/13 02:49:26 WARN DAGScheduler: Broadcasting large task binary with size 7.5 MiB               \n25/05/13 02:49:34 WARN DAGScheduler: Broadcasting large task binary with size 7.5 MiB   (4 + 1) / 5]\n25/05/13 02:49:36 WARN DAGScheduler: Broadcasting large task binary with size 7.5 MiB   (4 + 1) / 5]\n25/05/13 02:49:42 WARN DAGScheduler: Broadcasting large task binary with size 7.5 MiB               \n25/05/13 02:49:44 WARN DAGScheduler: Broadcasting large task binary with size 7.5 MiB   (4 + 1) / 5]\n25/05/13 02:49:46 WARN DAGScheduler: Broadcasting large task binary with size 7.5 MiB               \n25/05/13 02:49:48 WARN DAGScheduler: Broadcasting large task binary with size 7.5 MiB  (8 + 2) / 10]\n25/05/13 02:49:50 WARN DAGScheduler: Broadcasting large task binary with size 7.5 MiB  (8 + 2) / 10]\n25/05/13 02:49:52 WARN DAGScheduler: Broadcasting large task binary with size 7.5 MiB  (8 + 2) / 10]\n25/05/13 02:49:54 WARN DAGScheduler: Broadcasting large task binary with size 7.5 MiB  (8 + 2) / 10]\n25/05/13 02:49:57 WARN DAGScheduler: Broadcasting large task binary with size 7.5 MiB  (8 + 2) / 10]\n25/05/13 02:49:59 WARN DAGScheduler: Broadcasting large task binary with size 7.5 MiB  (8 + 2) / 10]\n25/05/13 02:50:01 WARN DAGScheduler: Broadcasting large task binary with size 7.5 MiB  (8 + 2) / 10]\n25/05/13 02:50:03 WARN DAGScheduler: Broadcasting large task binary with size 7.5 MiB  (9 + 1) / 10]\n25/05/13 02:50:06 WARN DAGScheduler: Broadcasting large task binary with size 7.5 MiB  (9 + 1) / 10]\n25/05/13 02:50:08 WARN DAGScheduler: Broadcasting large task binary with size 7.5 MiB  (8 + 2) / 10]\n25/05/13 02:50:10 WARN DAGScheduler: Broadcasting large task binary with size 7.5 MiB  (8 + 2) / 10]\n25/05/13 02:50:12 WARN DAGScheduler: Broadcasting large task binary with size 7.5 MiB  (8 + 2) / 10]\n25/05/13 02:50:14 WARN DAGScheduler: Broadcasting large task binary with size 7.5 MiB  (9 + 1) / 10]\n25/05/13 02:50:17 WARN DAGScheduler: Broadcasting large task binary with size 7.5 MiB  (9 + 1) / 10]\n25/05/13 02:50:19 WARN DAGScheduler: Broadcasting large task binary with size 7.5 MiB  (8 + 2) / 10]\n25/05/13 02:50:21 WARN DAGScheduler: Broadcasting large task binary with size 7.5 MiB  (8 + 2) / 10]\n25/05/13 02:50:23 WARN DAGScheduler: Broadcasting large task binary with size 7.5 MiB  (8 + 2) / 10]\n25/05/13 02:50:25 WARN DAGScheduler: Broadcasting large task binary with size 7.5 MiB  (9 + 1) / 10]\n25/05/13 02:50:27 WARN DAGScheduler: Broadcasting large task binary with size 7.5 MiB  (8 + 2) / 10]\n25/05/13 02:50:29 WARN DAGScheduler: Broadcasting large task binary with size 7.5 MiB  (8 + 2) / 10]\n25/05/13 02:50:31 WARN DAGScheduler: Broadcasting large task binary with size 7.5 MiB               \n25/05/13 02:50:34 WARN DAGScheduler: Broadcasting large task binary with size 7.5 MiB               \n25/05/13 02:50:34 WARN DAGScheduler: Broadcasting large task binary with size 7.5 MiB\n25/05/13 02:52:01 WARN DAGScheduler: Broadcasting large task binary with size 7.6 MiB   (6 + 2) / 8]\n[Stage 208:==============================>                                              (2 + 3) / 5]\r",
          "output_type": "stream"
        },
        {
          "name": "stdout",
          "text": "Default ALS RMSE = 1.2767\n",
          "output_type": "stream"
        },
        {
          "name": "stderr",
          "text": "                                                                                                    \r",
          "output_type": "stream"
        }
      ],
      "execution_count": null
    },
    {
      "cell_type": "markdown",
      "source": [
        "### 4.2 Hyperparameter Tuning"
      ],
      "metadata": {
        "id": "uIoJfviYkzmX"
      }
    },
    {
      "cell_type": "code",
      "source": [
        "from time import time\n",
        "\n",
        "param_grid = [\n",
        "    (rank, reg, iters)\n",
        "    for rank in [20, 50, 100]\n",
        "    for reg  in [0.05, 0.1, 0.5]\n",
        "    for iters in [5, 10]\n",
        "]\n",
        "\n",
        "best_rmse = float(\"inf\")\n",
        "best_model = None\n",
        "\n",
        "train_sub, val_sub = train.randomSplit([0.9, 0.1], seed=42)\n",
        "\n",
        "for rank, reg, iters in param_grid:\n",
        "    print(f\"\\nTraining rank={rank}, regParam={reg}, maxIter={iters} ...\")\n",
        "    start = time()\n",
        "\n",
        "\n",
        "    als = ALS(\n",
        "        userCol=\"uid\", itemCol=\"bid\", ratingCol=\"stars\",\n",
        "        rank=rank, regParam=reg, maxIter=iters,\n",
        "        nonnegative=True, implicitPrefs=False,\n",
        "        coldStartStrategy=\"drop\"\n",
        "    )\n",
        "\n",
        "    model = als.fit(train_sub)\n",
        "    rmse  = evaluator.evaluate(model.transform(val_sub))\n",
        "    duration = time() - start\n",
        "\n",
        "    print(f\"Finished in {duration:.1f}s, RMSE={rmse:.4f}\")\n",
        "\n",
        "    if rmse < best_rmse:\n",
        "        best_rmse, best_model = rmse, model\n",
        "\n",
        "print(f\"\\n Best RMSE={best_rmse:.4f}\")"
      ],
      "metadata": {
        "trusted": true,
        "execution": {
          "iopub.status.busy": "2025-05-13T03:00:06.397515Z",
          "iopub.execute_input": "2025-05-13T03:00:06.400613Z",
          "iopub.status.idle": "2025-05-13T06:34:52.197828Z",
          "shell.execute_reply.started": "2025-05-13T03:00:06.400562Z",
          "shell.execute_reply": "2025-05-13T06:34:52.195081Z"
        },
        "scrolled": true,
        "id": "6FspGSTNkzmY",
        "outputId": "ccfb87f5-92ed-4701-a663-4326237eb856"
      },
      "outputs": [
        {
          "name": "stderr",
          "text": "[Stage 391:==============================>                                             (4 + 4) / 10]\r",
          "output_type": "stream"
        },
        {
          "name": "stdout",
          "text": "\nTraining rank=20, regParam=0.05, maxIter=5 ...\n",
          "output_type": "stream"
        },
        {
          "name": "stderr",
          "text": "25/05/13 03:00:10 WARN DAGScheduler: Broadcasting large task binary with size 7.5 MiB  (0 + 4) / 40]\n25/05/13 03:00:18 WARN DAGScheduler: Broadcasting large task binary with size 7.5 MiB (0 + 0) / 40]\n25/05/13 03:00:26 WARN DAGScheduler: Broadcasting large task binary with size 7.5 MiB (0 + 0) / 40]\n25/05/13 03:00:33 WARN DAGScheduler: Broadcasting large task binary with size 7.5 MiB (0 + 0) / 40]\n25/05/13 03:00:42 WARN DAGScheduler: Broadcasting large task binary with size 7.5 MiB (0 + 0) / 40]\n25/05/13 03:00:49 WARN DAGScheduler: Broadcasting large task binary with size 7.5 MiB (0 + 0) / 40]\n25/05/13 03:00:58 WARN DAGScheduler: Broadcasting large task binary with size 7.5 MiB (0 + 0) / 40]\n25/05/13 03:01:05 WARN DAGScheduler: Broadcasting large task binary with size 7.5 MiB (0 + 0) / 40]\n25/05/13 03:01:14 WARN DAGScheduler: Broadcasting large task binary with size 7.5 MiB (0 + 0) / 40]\n25/05/13 03:01:20 WARN DAGScheduler: Broadcasting large task binary with size 7.5 MiB (0 + 0) / 40]\n25/05/13 03:01:29 WARN DAGScheduler: Broadcasting large task binary with size 7.5 MiB  (0 + 0) / 40]\n25/05/13 03:01:34 WARN DAGScheduler: Broadcasting large task binary with size 7.5 MiB (0 + 0) / 40]\n25/05/13 03:01:43 WARN DAGScheduler: Broadcasting large task binary with size 7.5 MiB               \n25/05/13 03:04:00 WARN DAGScheduler: Broadcasting large task binary with size 7.5 MiB   (7 + 1) / 8]\n25/05/13 03:04:07 WARN DAGScheduler: Broadcasting large task binary with size 7.5 MiB               \n25/05/13 03:04:19 WARN DAGScheduler: Broadcasting large task binary with size 7.5 MiB   (4 + 1) / 5]\n25/05/13 03:04:21 WARN DAGScheduler: Broadcasting large task binary with size 7.5 MiB   (4 + 1) / 5]\n25/05/13 03:04:24 WARN DAGScheduler: Broadcasting large task binary with size 7.5 MiB               \n25/05/13 03:04:24 WARN DAGScheduler: Broadcasting large task binary with size 7.5 MiB   (4 + 1) / 5]\n25/05/13 03:04:26 WARN DAGScheduler: Broadcasting large task binary with size 7.5 MiB               \n25/05/13 03:04:28 WARN DAGScheduler: Broadcasting large task binary with size 7.5 MiB  (9 + 1) / 10]\n25/05/13 03:04:31 WARN DAGScheduler: Broadcasting large task binary with size 7.5 MiB  (9 + 1) / 10]\n25/05/13 03:04:39 WARN DAGScheduler: Broadcasting large task binary with size 7.5 MiB  (8 + 2) / 10]\n25/05/13 03:04:43 WARN DAGScheduler: Broadcasting large task binary with size 7.5 MiB  (8 + 2) / 10]\n25/05/13 03:04:49 WARN DAGScheduler: Broadcasting large task binary with size 7.5 MiB  (9 + 1) / 10]\n25/05/13 03:04:53 WARN DAGScheduler: Broadcasting large task binary with size 7.5 MiB  (8 + 2) / 10]\n25/05/13 03:04:59 WARN DAGScheduler: Broadcasting large task binary with size 7.5 MiB  (8 + 2) / 10]\n25/05/13 03:05:03 WARN DAGScheduler: Broadcasting large task binary with size 7.5 MiB  (8 + 2) / 10]\n25/05/13 03:05:09 WARN DAGScheduler: Broadcasting large task binary with size 7.5 MiB  (8 + 2) / 10]\n25/05/13 03:05:13 WARN DAGScheduler: Broadcasting large task binary with size 7.5 MiB  (8 + 2) / 10]\n25/05/13 03:05:19 WARN DAGScheduler: Broadcasting large task binary with size 7.5 MiB               \n25/05/13 03:05:23 WARN DAGScheduler: Broadcasting large task binary with size 7.5 MiB               \n25/05/13 03:05:23 WARN DAGScheduler: Broadcasting large task binary with size 7.5 MiB\n25/05/13 03:06:49 WARN DAGScheduler: Broadcasting large task binary with size 7.5 MiB   (7 + 1) / 8]\n25/05/13 03:06:57 WARN DAGScheduler: Broadcasting large task binary with size 7.6 MiB   (3 + 2) / 5]\n                                                                                                    \r",
          "output_type": "stream"
        },
        {
          "name": "stdout",
          "text": "Finished in 411.7s, RMSE=1.2537\n\nTraining rank=20, regParam=0.05, maxIter=10 ...\n",
          "output_type": "stream"
        },
        {
          "name": "stderr",
          "text": "25/05/13 03:08:19 WARN DAGScheduler: Broadcasting large task binary with size 7.5 MiB   (7 + 1) / 8]\n25/05/13 03:08:21 WARN DAGScheduler: Broadcasting large task binary with size 7.5 MiB               \n25/05/13 03:08:28 WARN DAGScheduler: Broadcasting large task binary with size 7.5 MiB   (3 + 2) / 5]\n25/05/13 03:08:30 WARN DAGScheduler: Broadcasting large task binary with size 7.5 MiB   (2 + 3) / 5]\n25/05/13 03:08:32 WARN DAGScheduler: Broadcasting large task binary with size 7.5 MiB               \n25/05/13 03:08:33 WARN DAGScheduler: Broadcasting large task binary with size 7.5 MiB   (4 + 1) / 5]\n25/05/13 03:08:35 WARN DAGScheduler: Broadcasting large task binary with size 7.5 MiB               \n25/05/13 03:08:36 WARN DAGScheduler: Broadcasting large task binary with size 7.5 MiB  (9 + 1) / 10]\n25/05/13 03:08:39 WARN DAGScheduler: Broadcasting large task binary with size 7.5 MiB  (9 + 1) / 10]\n25/05/13 03:08:47 WARN DAGScheduler: Broadcasting large task binary with size 7.5 MiB  (9 + 1) / 10]\n25/05/13 03:08:52 WARN DAGScheduler: Broadcasting large task binary with size 7.5 MiB  (9 + 1) / 10]\n25/05/13 03:08:58 WARN DAGScheduler: Broadcasting large task binary with size 7.5 MiB  (8 + 2) / 10]\n25/05/13 03:09:02 WARN DAGScheduler: Broadcasting large task binary with size 7.5 MiB  (9 + 1) / 10]\n25/05/13 03:09:08 WARN DAGScheduler: Broadcasting large task binary with size 7.5 MiB  (8 + 2) / 10]\n25/05/13 03:09:12 WARN DAGScheduler: Broadcasting large task binary with size 7.5 MiB  (9 + 1) / 10]\n25/05/13 03:09:17 WARN DAGScheduler: Broadcasting large task binary with size 7.5 MiB  (8 + 2) / 10]\n25/05/13 03:09:21 WARN DAGScheduler: Broadcasting large task binary with size 7.5 MiB  (9 + 1) / 10]\n25/05/13 03:09:28 WARN DAGScheduler: Broadcasting large task binary with size 7.5 MiB  (8 + 2) / 10]\n25/05/13 03:09:31 WARN DAGScheduler: Broadcasting large task binary with size 7.5 MiB  (9 + 1) / 10]\n25/05/13 03:09:37 WARN DAGScheduler: Broadcasting large task binary with size 7.5 MiB  (8 + 2) / 10]\n25/05/13 03:09:41 WARN DAGScheduler: Broadcasting large task binary with size 7.5 MiB  (9 + 1) / 10]\n25/05/13 03:09:46 WARN DAGScheduler: Broadcasting large task binary with size 7.5 MiB  (8 + 2) / 10]\n25/05/13 03:09:50 WARN DAGScheduler: Broadcasting large task binary with size 7.5 MiB  (9 + 1) / 10]\n25/05/13 03:09:56 WARN DAGScheduler: Broadcasting large task binary with size 7.5 MiB  (9 + 1) / 10]\n25/05/13 03:10:00 WARN DAGScheduler: Broadcasting large task binary with size 7.5 MiB  (9 + 1) / 10]\n25/05/13 03:10:06 WARN DAGScheduler: Broadcasting large task binary with size 7.5 MiB  (9 + 1) / 10]\n25/05/13 03:10:09 WARN DAGScheduler: Broadcasting large task binary with size 7.5 MiB  (8 + 2) / 10]\n25/05/13 03:10:16 WARN DAGScheduler: Broadcasting large task binary with size 7.5 MiB               \n25/05/13 03:10:20 WARN DAGScheduler: Broadcasting large task binary with size 7.5 MiB               \n25/05/13 03:10:20 WARN DAGScheduler: Broadcasting large task binary with size 7.5 MiB\n25/05/13 03:11:48 WARN DAGScheduler: Broadcasting large task binary with size 7.5 MiB   (7 + 1) / 8]\n25/05/13 03:11:55 WARN DAGScheduler: Broadcasting large task binary with size 7.6 MiB   (3 + 2) / 5]\n                                                                                                    \r",
          "output_type": "stream"
        },
        {
          "name": "stdout",
          "text": "Finished in 298.8s, RMSE=1.2478\n\nTraining rank=20, regParam=0.1, maxIter=5 ...\n",
          "output_type": "stream"
        },
        {
          "name": "stderr",
          "text": "25/05/13 03:13:22 WARN DAGScheduler: Broadcasting large task binary with size 7.5 MiB   (6 + 2) / 8]\n25/05/13 03:13:24 WARN DAGScheduler: Broadcasting large task binary with size 7.5 MiB               \n25/05/13 03:13:31 WARN DAGScheduler: Broadcasting large task binary with size 7.5 MiB   (4 + 1) / 5]\n25/05/13 03:13:33 WARN DAGScheduler: Broadcasting large task binary with size 7.5 MiB   (3 + 2) / 5]\n25/05/13 03:13:35 WARN DAGScheduler: Broadcasting large task binary with size 7.5 MiB               \n25/05/13 03:13:36 WARN DAGScheduler: Broadcasting large task binary with size 7.5 MiB   (2 + 3) / 5]\n25/05/13 03:13:38 WARN DAGScheduler: Broadcasting large task binary with size 7.5 MiB               \n25/05/13 03:13:39 WARN DAGScheduler: Broadcasting large task binary with size 7.5 MiB  (6 + 4) / 10]\n25/05/13 03:13:41 WARN DAGScheduler: Broadcasting large task binary with size 7.5 MiB  (8 + 2) / 10]\n25/05/13 03:13:48 WARN DAGScheduler: Broadcasting large task binary with size 7.5 MiB  (9 + 1) / 10]\n25/05/13 03:13:52 WARN DAGScheduler: Broadcasting large task binary with size 7.5 MiB  (8 + 2) / 10]\n25/05/13 03:13:56 WARN DAGScheduler: Broadcasting large task binary with size 7.5 MiB  (9 + 1) / 10]\n25/05/13 03:14:00 WARN DAGScheduler: Broadcasting large task binary with size 7.5 MiB  (9 + 1) / 10]\n25/05/13 03:14:05 WARN DAGScheduler: Broadcasting large task binary with size 7.5 MiB  (9 + 1) / 10]\n25/05/13 03:14:09 WARN DAGScheduler: Broadcasting large task binary with size 7.5 MiB  (8 + 2) / 10]\n25/05/13 03:14:13 WARN DAGScheduler: Broadcasting large task binary with size 7.5 MiB  (9 + 1) / 10]\n25/05/13 03:14:17 WARN DAGScheduler: Broadcasting large task binary with size 7.5 MiB  (8 + 2) / 10]\n25/05/13 03:14:24 WARN DAGScheduler: Broadcasting large task binary with size 7.5 MiB               \n25/05/13 03:14:28 WARN DAGScheduler: Broadcasting large task binary with size 7.5 MiB               \n25/05/13 03:14:29 WARN DAGScheduler: Broadcasting large task binary with size 7.5 MiB\n25/05/13 03:16:07 WARN DAGScheduler: Broadcasting large task binary with size 7.5 MiB   (7 + 1) / 8]\n25/05/13 03:16:14 WARN DAGScheduler: Broadcasting large task binary with size 7.6 MiB   (3 + 2) / 5]\n                                                                                                    \r",
          "output_type": "stream"
        },
        {
          "name": "stdout",
          "text": "Finished in 259.0s, RMSE=1.2055\n\nTraining rank=20, regParam=0.1, maxIter=10 ...\n",
          "output_type": "stream"
        },
        {
          "name": "stderr",
          "text": "25/05/13 03:17:39 WARN DAGScheduler: Broadcasting large task binary with size 7.5 MiB   (7 + 1) / 8]\n25/05/13 03:17:41 WARN DAGScheduler: Broadcasting large task binary with size 7.5 MiB               \n25/05/13 03:17:48 WARN DAGScheduler: Broadcasting large task binary with size 7.5 MiB   (4 + 1) / 5]\n25/05/13 03:17:49 WARN DAGScheduler: Broadcasting large task binary with size 7.5 MiB   (2 + 3) / 5]\n25/05/13 03:17:51 WARN DAGScheduler: Broadcasting large task binary with size 7.5 MiB               \n25/05/13 03:17:52 WARN DAGScheduler: Broadcasting large task binary with size 7.5 MiB   (4 + 1) / 5]\n25/05/13 03:17:54 WARN DAGScheduler: Broadcasting large task binary with size 7.5 MiB               \n25/05/13 03:17:55 WARN DAGScheduler: Broadcasting large task binary with size 7.5 MiB  (8 + 2) / 10]\n25/05/13 03:17:58 WARN DAGScheduler: Broadcasting large task binary with size 7.5 MiB  (9 + 1) / 10]\n25/05/13 03:18:04 WARN DAGScheduler: Broadcasting large task binary with size 7.5 MiB  (8 + 2) / 10]\n25/05/13 03:18:07 WARN DAGScheduler: Broadcasting large task binary with size 7.5 MiB  (8 + 2) / 10]\n25/05/13 03:18:13 WARN DAGScheduler: Broadcasting large task binary with size 7.5 MiB  (9 + 1) / 10]\n25/05/13 03:18:17 WARN DAGScheduler: Broadcasting large task binary with size 7.5 MiB  (9 + 1) / 10]\n25/05/13 03:18:21 WARN DAGScheduler: Broadcasting large task binary with size 7.5 MiB  (8 + 2) / 10]\n25/05/13 03:18:25 WARN DAGScheduler: Broadcasting large task binary with size 7.5 MiB  (9 + 1) / 10]\n25/05/13 03:18:30 WARN DAGScheduler: Broadcasting large task binary with size 7.5 MiB  (8 + 2) / 10]\n25/05/13 03:18:33 WARN DAGScheduler: Broadcasting large task binary with size 7.5 MiB  (8 + 2) / 10]\n25/05/13 03:18:38 WARN DAGScheduler: Broadcasting large task binary with size 7.5 MiB  (8 + 2) / 10]\n25/05/13 03:18:42 WARN DAGScheduler: Broadcasting large task binary with size 7.5 MiB  (9 + 1) / 10]\n25/05/13 03:18:47 WARN DAGScheduler: Broadcasting large task binary with size 7.5 MiB  (8 + 2) / 10]\n25/05/13 03:18:51 WARN DAGScheduler: Broadcasting large task binary with size 7.5 MiB  (9 + 1) / 10]\n25/05/13 03:18:56 WARN DAGScheduler: Broadcasting large task binary with size 7.5 MiB  (9 + 1) / 10]\n25/05/13 03:19:00 WARN DAGScheduler: Broadcasting large task binary with size 7.5 MiB  (8 + 2) / 10]\n25/05/13 03:19:05 WARN DAGScheduler: Broadcasting large task binary with size 7.5 MiB  (9 + 1) / 10]\n25/05/13 03:19:09 WARN DAGScheduler: Broadcasting large task binary with size 7.5 MiB  (9 + 1) / 10]\n25/05/13 03:19:14 WARN DAGScheduler: Broadcasting large task binary with size 7.5 MiB  (8 + 2) / 10]\n25/05/13 03:19:18 WARN DAGScheduler: Broadcasting large task binary with size 7.5 MiB  (8 + 2) / 10]\n25/05/13 03:19:23 WARN DAGScheduler: Broadcasting large task binary with size 7.5 MiB               \n25/05/13 03:19:27 WARN DAGScheduler: Broadcasting large task binary with size 7.5 MiB               \n25/05/13 03:19:27 WARN DAGScheduler: Broadcasting large task binary with size 7.5 MiB  (0 + 0) / 10]\n25/05/13 03:20:58 WARN DAGScheduler: Broadcasting large task binary with size 7.5 MiB   (5 + 3) / 8]\n25/05/13 03:21:05 WARN DAGScheduler: Broadcasting large task binary with size 7.6 MiB   (3 + 2) / 5]\n                                                                                                    \r",
          "output_type": "stream"
        },
        {
          "name": "stdout",
          "text": "Finished in 290.4s, RMSE=1.2007\n\nTraining rank=20, regParam=0.5, maxIter=5 ...\n",
          "output_type": "stream"
        },
        {
          "name": "stderr",
          "text": "25/05/13 03:22:27 WARN DAGScheduler: Broadcasting large task binary with size 7.5 MiB   (7 + 1) / 8]\n25/05/13 03:22:30 WARN DAGScheduler: Broadcasting large task binary with size 7.5 MiB               \n25/05/13 03:22:37 WARN DAGScheduler: Broadcasting large task binary with size 7.5 MiB   (3 + 2) / 5]\n25/05/13 03:22:38 WARN DAGScheduler: Broadcasting large task binary with size 7.5 MiB   (4 + 1) / 5]\n25/05/13 03:22:40 WARN DAGScheduler: Broadcasting large task binary with size 7.5 MiB               \n25/05/13 03:22:41 WARN DAGScheduler: Broadcasting large task binary with size 7.5 MiB   (4 + 1) / 5]\n25/05/13 03:22:43 WARN DAGScheduler: Broadcasting large task binary with size 7.5 MiB               \n25/05/13 03:22:44 WARN DAGScheduler: Broadcasting large task binary with size 7.5 MiB  (8 + 2) / 10]\n25/05/13 03:22:47 WARN DAGScheduler: Broadcasting large task binary with size 7.5 MiB  (8 + 2) / 10]\n25/05/13 03:22:50 WARN DAGScheduler: Broadcasting large task binary with size 7.5 MiB  (9 + 1) / 10]\n25/05/13 03:22:53 WARN DAGScheduler: Broadcasting large task binary with size 7.5 MiB  (9 + 1) / 10]\n25/05/13 03:22:57 WARN DAGScheduler: Broadcasting large task binary with size 7.5 MiB  (9 + 1) / 10]\n25/05/13 03:22:59 WARN DAGScheduler: Broadcasting large task binary with size 7.5 MiB  (8 + 2) / 10]\n25/05/13 03:23:03 WARN DAGScheduler: Broadcasting large task binary with size 7.5 MiB  (8 + 2) / 10]\n25/05/13 03:23:06 WARN DAGScheduler: Broadcasting large task binary with size 7.5 MiB  (9 + 1) / 10]\n25/05/13 03:23:09 WARN DAGScheduler: Broadcasting large task binary with size 7.5 MiB  (8 + 2) / 10]\n25/05/13 03:23:12 WARN DAGScheduler: Broadcasting large task binary with size 7.5 MiB  (8 + 2) / 10]\n25/05/13 03:23:15 WARN DAGScheduler: Broadcasting large task binary with size 7.5 MiB               \n25/05/13 03:23:18 WARN DAGScheduler: Broadcasting large task binary with size 7.5 MiB               \n25/05/13 03:23:18 WARN DAGScheduler: Broadcasting large task binary with size 7.5 MiB\n25/05/13 03:24:49 WARN DAGScheduler: Broadcasting large task binary with size 7.5 MiB   (7 + 1) / 8]\n25/05/13 03:24:58 WARN DAGScheduler: Broadcasting large task binary with size 7.6 MiB   (4 + 1) / 5]\n                                                                                                    \r",
          "output_type": "stream"
        },
        {
          "name": "stdout",
          "text": "Finished in 232.5s, RMSE=1.2154\n\nTraining rank=20, regParam=0.5, maxIter=10 ...\n",
          "output_type": "stream"
        },
        {
          "name": "stderr",
          "text": "25/05/13 03:26:35 WARN DAGScheduler: Broadcasting large task binary with size 7.5 MiB   (5 + 3) / 8]\n25/05/13 03:26:37 WARN DAGScheduler: Broadcasting large task binary with size 7.5 MiB               \n25/05/13 03:26:44 WARN DAGScheduler: Broadcasting large task binary with size 7.5 MiB   (3 + 2) / 5]\n25/05/13 03:26:45 WARN DAGScheduler: Broadcasting large task binary with size 7.5 MiB   (4 + 1) / 5]\n25/05/13 03:26:47 WARN DAGScheduler: Broadcasting large task binary with size 7.5 MiB               \n25/05/13 03:26:48 WARN DAGScheduler: Broadcasting large task binary with size 7.5 MiB   (4 + 1) / 5]\n25/05/13 03:26:50 WARN DAGScheduler: Broadcasting large task binary with size 7.5 MiB               \n25/05/13 03:26:52 WARN DAGScheduler: Broadcasting large task binary with size 7.5 MiB  (8 + 2) / 10]\n25/05/13 03:26:55 WARN DAGScheduler: Broadcasting large task binary with size 7.5 MiB  (8 + 2) / 10]\n25/05/13 03:26:58 WARN DAGScheduler: Broadcasting large task binary with size 7.5 MiB  (8 + 2) / 10]\n25/05/13 03:27:01 WARN DAGScheduler: Broadcasting large task binary with size 7.5 MiB  (8 + 2) / 10]\n25/05/13 03:27:05 WARN DAGScheduler: Broadcasting large task binary with size 7.5 MiB  (9 + 1) / 10]\n25/05/13 03:27:08 WARN DAGScheduler: Broadcasting large task binary with size 7.5 MiB  (9 + 1) / 10]\n25/05/13 03:27:11 WARN DAGScheduler: Broadcasting large task binary with size 7.5 MiB  (9 + 1) / 10]\n25/05/13 03:27:14 WARN DAGScheduler: Broadcasting large task binary with size 7.5 MiB  (8 + 2) / 10]\n25/05/13 03:27:17 WARN DAGScheduler: Broadcasting large task binary with size 7.5 MiB  (9 + 1) / 10]\n25/05/13 03:27:20 WARN DAGScheduler: Broadcasting large task binary with size 7.5 MiB  (9 + 1) / 10]\n25/05/13 03:27:23 WARN DAGScheduler: Broadcasting large task binary with size 7.5 MiB  (8 + 2) / 10]\n25/05/13 03:27:26 WARN DAGScheduler: Broadcasting large task binary with size 7.5 MiB  (9 + 1) / 10]\n25/05/13 03:27:29 WARN DAGScheduler: Broadcasting large task binary with size 7.5 MiB  (8 + 2) / 10]\n25/05/13 03:27:32 WARN DAGScheduler: Broadcasting large task binary with size 7.5 MiB  (9 + 1) / 10]\n25/05/13 03:27:35 WARN DAGScheduler: Broadcasting large task binary with size 7.5 MiB  (8 + 2) / 10]\n25/05/13 03:27:38 WARN DAGScheduler: Broadcasting large task binary with size 7.5 MiB  (9 + 1) / 10]\n25/05/13 03:27:42 WARN DAGScheduler: Broadcasting large task binary with size 7.5 MiB  (8 + 2) / 10]\n25/05/13 03:27:44 WARN DAGScheduler: Broadcasting large task binary with size 7.5 MiB  (9 + 1) / 10]\n25/05/13 03:27:48 WARN DAGScheduler: Broadcasting large task binary with size 7.5 MiB  (8 + 2) / 10]\n25/05/13 03:27:51 WARN DAGScheduler: Broadcasting large task binary with size 7.5 MiB  (8 + 2) / 10]\n25/05/13 03:27:54 WARN DAGScheduler: Broadcasting large task binary with size 7.5 MiB               \n25/05/13 03:27:57 WARN DAGScheduler: Broadcasting large task binary with size 7.5 MiB               \n25/05/13 03:27:58 WARN DAGScheduler: Broadcasting large task binary with size 7.5 MiB  (0 + 0) / 10]\n25/05/13 03:29:27 WARN DAGScheduler: Broadcasting large task binary with size 7.5 MiB   (7 + 1) / 8]\n25/05/13 03:29:34 WARN DAGScheduler: Broadcasting large task binary with size 7.6 MiB   (4 + 1) / 5]\n                                                                                                    \r",
          "output_type": "stream"
        },
        {
          "name": "stdout",
          "text": "Finished in 276.9s, RMSE=1.2086\n\nTraining rank=50, regParam=0.05, maxIter=5 ...\n",
          "output_type": "stream"
        },
        {
          "name": "stderr",
          "text": "25/05/13 03:30:58 WARN DAGScheduler: Broadcasting large task binary with size 7.5 MiB   (7 + 1) / 8]\n25/05/13 03:31:01 WARN DAGScheduler: Broadcasting large task binary with size 7.5 MiB               \n25/05/13 03:31:08 WARN DAGScheduler: Broadcasting large task binary with size 7.5 MiB   (4 + 1) / 5]\n25/05/13 03:31:09 WARN DAGScheduler: Broadcasting large task binary with size 7.5 MiB   (3 + 2) / 5]\n25/05/13 03:31:11 WARN DAGScheduler: Broadcasting large task binary with size 7.5 MiB               \n25/05/13 03:31:12 WARN DAGScheduler: Broadcasting large task binary with size 7.5 MiB   (2 + 3) / 5]\n25/05/13 03:31:14 WARN DAGScheduler: Broadcasting large task binary with size 7.5 MiB               \n25/05/13 03:31:16 WARN DAGScheduler: Broadcasting large task binary with size 7.5 MiB  (8 + 2) / 10]\n25/05/13 03:31:21 WARN DAGScheduler: Broadcasting large task binary with size 7.5 MiB  (9 + 1) / 10]\n25/05/13 03:31:35 WARN DAGScheduler: Broadcasting large task binary with size 7.5 MiB  (9 + 1) / 10]\n25/05/13 03:31:41 WARN DAGScheduler: Broadcasting large task binary with size 7.5 MiB  (9 + 1) / 10]\n25/05/13 03:31:53 WARN DAGScheduler: Broadcasting large task binary with size 7.5 MiB  (9 + 1) / 10]\n25/05/13 03:31:58 WARN DAGScheduler: Broadcasting large task binary with size 7.5 MiB  (8 + 2) / 10]\n25/05/13 03:32:09 WARN DAGScheduler: Broadcasting large task binary with size 7.5 MiB  (9 + 1) / 10]\n25/05/13 03:32:14 WARN DAGScheduler: Broadcasting large task binary with size 7.5 MiB  (9 + 1) / 10]\n25/05/13 03:32:25 WARN DAGScheduler: Broadcasting large task binary with size 7.5 MiB  (9 + 1) / 10]\n25/05/13 03:32:31 WARN DAGScheduler: Broadcasting large task binary with size 7.5 MiB  (9 + 1) / 10]\n25/05/13 03:32:41 WARN DAGScheduler: Broadcasting large task binary with size 7.5 MiB               \n25/05/13 03:32:47 WARN DAGScheduler: Broadcasting large task binary with size 7.5 MiB               \n25/05/13 03:32:47 WARN DAGScheduler: Broadcasting large task binary with size 7.5 MiB\n25/05/13 03:34:17 WARN DAGScheduler: Broadcasting large task binary with size 7.5 MiB   (7 + 1) / 8]\n25/05/13 03:34:24 WARN DAGScheduler: Broadcasting large task binary with size 7.6 MiB   (3 + 2) / 5]\n25/05/13 03:34:26 WARN DAGScheduler: Broadcasting large task binary with size 7.6 MiB   (0 + 4) / 4]\n                                                                                                    \r",
          "output_type": "stream"
        },
        {
          "name": "stdout",
          "text": "Finished in 293.5s, RMSE=1.2148\n\nTraining rank=50, regParam=0.05, maxIter=10 ...\n",
          "output_type": "stream"
        },
        {
          "name": "stderr",
          "text": "25/05/13 03:36:11 WARN DAGScheduler: Broadcasting large task binary with size 7.5 MiB   (7 + 1) / 8]\n25/05/13 03:36:14 WARN DAGScheduler: Broadcasting large task binary with size 7.5 MiB               \n25/05/13 03:36:22 WARN DAGScheduler: Broadcasting large task binary with size 7.5 MiB   (4 + 1) / 5]\n25/05/13 03:36:23 WARN DAGScheduler: Broadcasting large task binary with size 7.5 MiB   (4 + 1) / 5]\n25/05/13 03:36:25 WARN DAGScheduler: Broadcasting large task binary with size 7.5 MiB               \n25/05/13 03:36:26 WARN DAGScheduler: Broadcasting large task binary with size 7.5 MiB   (4 + 1) / 5]\n25/05/13 03:36:28 WARN DAGScheduler: Broadcasting large task binary with size 7.5 MiB               \n25/05/13 03:36:30 WARN DAGScheduler: Broadcasting large task binary with size 7.5 MiB  (8 + 2) / 10]\n25/05/13 03:36:35 WARN DAGScheduler: Broadcasting large task binary with size 7.5 MiB  (9 + 1) / 10]\n25/05/13 03:36:50 WARN DAGScheduler: Broadcasting large task binary with size 7.5 MiB  (8 + 2) / 10]\n25/05/13 03:36:56 WARN DAGScheduler: Broadcasting large task binary with size 7.5 MiB  (9 + 1) / 10]\n25/05/13 03:37:07 WARN DAGScheduler: Broadcasting large task binary with size 7.5 MiB  (8 + 2) / 10]\n25/05/13 03:37:14 WARN DAGScheduler: Broadcasting large task binary with size 7.5 MiB  (9 + 1) / 10]\n25/05/13 03:37:25 WARN DAGScheduler: Broadcasting large task binary with size 7.5 MiB  (9 + 1) / 10]\n25/05/13 03:37:31 WARN DAGScheduler: Broadcasting large task binary with size 7.5 MiB  (8 + 2) / 10]\n25/05/13 03:37:42 WARN DAGScheduler: Broadcasting large task binary with size 7.5 MiB  (8 + 2) / 10]\n25/05/13 03:37:47 WARN DAGScheduler: Broadcasting large task binary with size 7.5 MiB  (8 + 2) / 10]\n25/05/13 03:37:58 WARN DAGScheduler: Broadcasting large task binary with size 7.5 MiB  (9 + 1) / 10]\n25/05/13 03:38:04 WARN DAGScheduler: Broadcasting large task binary with size 7.5 MiB  (9 + 1) / 10]\n25/05/13 03:38:14 WARN DAGScheduler: Broadcasting large task binary with size 7.5 MiB  (8 + 2) / 10]\n25/05/13 03:38:20 WARN DAGScheduler: Broadcasting large task binary with size 7.5 MiB  (9 + 1) / 10]\n25/05/13 03:38:31 WARN DAGScheduler: Broadcasting large task binary with size 7.5 MiB  (8 + 2) / 10]\n25/05/13 03:38:36 WARN DAGScheduler: Broadcasting large task binary with size 7.5 MiB  (9 + 1) / 10]\n25/05/13 03:38:46 WARN DAGScheduler: Broadcasting large task binary with size 7.5 MiB  (8 + 2) / 10]\n25/05/13 03:38:52 WARN DAGScheduler: Broadcasting large task binary with size 7.5 MiB  (9 + 1) / 10]\n25/05/13 03:39:02 WARN DAGScheduler: Broadcasting large task binary with size 7.5 MiB  (9 + 1) / 10]\n25/05/13 03:39:09 WARN DAGScheduler: Broadcasting large task binary with size 7.5 MiB  (9 + 1) / 10]\n25/05/13 03:39:18 WARN DAGScheduler: Broadcasting large task binary with size 7.5 MiB               \n25/05/13 03:39:25 WARN DAGScheduler: Broadcasting large task binary with size 7.5 MiB               \n25/05/13 03:39:25 WARN DAGScheduler: Broadcasting large task binary with size 7.5 MiB\n25/05/13 03:40:53 WARN DAGScheduler: Broadcasting large task binary with size 7.5 MiB   (6 + 2) / 8]\n25/05/13 03:41:01 WARN DAGScheduler: Broadcasting large task binary with size 7.6 MiB   (4 + 1) / 5]\n25/05/13 03:41:02 WARN DAGScheduler: Broadcasting large task binary with size 7.6 MiB   (3 + 1) / 4]\n                                                                                                    \r",
          "output_type": "stream"
        },
        {
          "name": "stdout",
          "text": "Finished in 395.5s, RMSE=1.1961\n\nTraining rank=50, regParam=0.1, maxIter=5 ...\n",
          "output_type": "stream"
        },
        {
          "name": "stderr",
          "text": "25/05/13 03:42:29 WARN DAGScheduler: Broadcasting large task binary with size 7.5 MiB   (7 + 1) / 8]\n25/05/13 03:42:31 WARN DAGScheduler: Broadcasting large task binary with size 7.5 MiB               \n25/05/13 03:42:38 WARN DAGScheduler: Broadcasting large task binary with size 7.5 MiB   (4 + 1) / 5]\n25/05/13 03:42:39 WARN DAGScheduler: Broadcasting large task binary with size 7.5 MiB   (4 + 1) / 5]\n25/05/13 03:42:41 WARN DAGScheduler: Broadcasting large task binary with size 7.5 MiB               \n25/05/13 03:42:42 WARN DAGScheduler: Broadcasting large task binary with size 7.5 MiB   (4 + 1) / 5]\n25/05/13 03:42:44 WARN DAGScheduler: Broadcasting large task binary with size 7.5 MiB               \n25/05/13 03:42:46 WARN DAGScheduler: Broadcasting large task binary with size 7.5 MiB  (7 + 3) / 10]\n25/05/13 03:42:50 WARN DAGScheduler: Broadcasting large task binary with size 7.5 MiB  (8 + 2) / 10]\n25/05/13 03:43:00 WARN DAGScheduler: Broadcasting large task binary with size 7.5 MiB  (9 + 1) / 10]\n25/05/13 03:43:06 WARN DAGScheduler: Broadcasting large task binary with size 7.5 MiB  (9 + 1) / 10]\n25/05/13 03:43:14 WARN DAGScheduler: Broadcasting large task binary with size 7.5 MiB  (9 + 1) / 10]\n25/05/13 03:43:20 WARN DAGScheduler: Broadcasting large task binary with size 7.5 MiB  (8 + 2) / 10]\n25/05/13 03:43:28 WARN DAGScheduler: Broadcasting large task binary with size 7.5 MiB  (8 + 2) / 10]\n25/05/13 03:43:34 WARN DAGScheduler: Broadcasting large task binary with size 7.5 MiB  (8 + 2) / 10]\n25/05/13 03:43:41 WARN DAGScheduler: Broadcasting large task binary with size 7.5 MiB  (9 + 1) / 10]\n25/05/13 03:43:47 WARN DAGScheduler: Broadcasting large task binary with size 7.5 MiB  (8 + 2) / 10]\n25/05/13 03:43:55 WARN DAGScheduler: Broadcasting large task binary with size 7.5 MiB               \n25/05/13 03:44:01 WARN DAGScheduler: Broadcasting large task binary with size 7.5 MiB               \n25/05/13 03:44:01 WARN DAGScheduler: Broadcasting large task binary with size 7.5 MiB  (0 + 0) / 10]\n25/05/13 03:45:29 WARN DAGScheduler: Broadcasting large task binary with size 7.5 MiB   (7 + 1) / 8]\n25/05/13 03:45:38 WARN DAGScheduler: Broadcasting large task binary with size 7.6 MiB   (4 + 1) / 5]\n25/05/13 03:45:39 WARN DAGScheduler: Broadcasting large task binary with size 7.6 MiB   (0 + 4) / 4]\n                                                                                                    \r",
          "output_type": "stream"
        },
        {
          "name": "stdout",
          "text": "Finished in 277.3s, RMSE=1.1835\n\nTraining rank=50, regParam=0.1, maxIter=10 ...\n",
          "output_type": "stream"
        },
        {
          "name": "stderr",
          "text": "25/05/13 03:47:27 WARN DAGScheduler: Broadcasting large task binary with size 7.5 MiB   (7 + 1) / 8]\n25/05/13 03:47:29 WARN DAGScheduler: Broadcasting large task binary with size 7.5 MiB               \n25/05/13 03:47:36 WARN DAGScheduler: Broadcasting large task binary with size 7.5 MiB   (3 + 2) / 5]\n25/05/13 03:47:37 WARN DAGScheduler: Broadcasting large task binary with size 7.5 MiB   (4 + 1) / 5]\n25/05/13 03:47:39 WARN DAGScheduler: Broadcasting large task binary with size 7.5 MiB               \n25/05/13 03:47:40 WARN DAGScheduler: Broadcasting large task binary with size 7.5 MiB   (4 + 1) / 5]\n25/05/13 03:47:42 WARN DAGScheduler: Broadcasting large task binary with size 7.5 MiB               \n25/05/13 03:47:44 WARN DAGScheduler: Broadcasting large task binary with size 7.5 MiB  (8 + 2) / 10]\n25/05/13 03:47:48 WARN DAGScheduler: Broadcasting large task binary with size 7.5 MiB  (8 + 2) / 10]\n25/05/13 03:47:59 WARN DAGScheduler: Broadcasting large task binary with size 7.5 MiB  (8 + 2) / 10]\n25/05/13 03:48:05 WARN DAGScheduler: Broadcasting large task binary with size 7.5 MiB  (9 + 1) / 10]\n25/05/13 03:48:13 WARN DAGScheduler: Broadcasting large task binary with size 7.5 MiB  (9 + 1) / 10]\n25/05/13 03:48:19 WARN DAGScheduler: Broadcasting large task binary with size 7.5 MiB  (9 + 1) / 10]\n25/05/13 03:48:27 WARN DAGScheduler: Broadcasting large task binary with size 7.5 MiB  (9 + 1) / 10]\n25/05/13 03:48:33 WARN DAGScheduler: Broadcasting large task binary with size 7.5 MiB  (9 + 1) / 10]\n25/05/13 03:48:40 WARN DAGScheduler: Broadcasting large task binary with size 7.5 MiB  (9 + 1) / 10]\n25/05/13 03:48:47 WARN DAGScheduler: Broadcasting large task binary with size 7.5 MiB  (8 + 2) / 10]\n25/05/13 03:48:55 WARN DAGScheduler: Broadcasting large task binary with size 7.5 MiB  (9 + 1) / 10]\n25/05/13 03:49:00 WARN DAGScheduler: Broadcasting large task binary with size 7.5 MiB  (8 + 2) / 10]\n25/05/13 03:49:08 WARN DAGScheduler: Broadcasting large task binary with size 7.5 MiB  (9 + 1) / 10]\n25/05/13 03:49:14 WARN DAGScheduler: Broadcasting large task binary with size 7.5 MiB  (8 + 2) / 10]\n25/05/13 03:49:21 WARN DAGScheduler: Broadcasting large task binary with size 7.5 MiB  (9 + 1) / 10]\n25/05/13 03:49:28 WARN DAGScheduler: Broadcasting large task binary with size 7.5 MiB  (9 + 1) / 10]\n25/05/13 03:49:35 WARN DAGScheduler: Broadcasting large task binary with size 7.5 MiB  (9 + 1) / 10]\n25/05/13 03:49:41 WARN DAGScheduler: Broadcasting large task binary with size 7.5 MiB  (9 + 1) / 10]\n25/05/13 03:49:49 WARN DAGScheduler: Broadcasting large task binary with size 7.5 MiB  (9 + 1) / 10]\n25/05/13 03:49:55 WARN DAGScheduler: Broadcasting large task binary with size 7.5 MiB  (9 + 1) / 10]\n25/05/13 03:50:03 WARN DAGScheduler: Broadcasting large task binary with size 7.5 MiB               \n25/05/13 03:50:09 WARN DAGScheduler: Broadcasting large task binary with size 7.5 MiB               \n25/05/13 03:50:10 WARN DAGScheduler: Broadcasting large task binary with size 7.5 MiB\n25/05/13 03:51:40 WARN DAGScheduler: Broadcasting large task binary with size 7.5 MiB   (7 + 1) / 8]\n25/05/13 03:51:47 WARN DAGScheduler: Broadcasting large task binary with size 7.6 MiB   (4 + 1) / 5]\n25/05/13 03:51:49 WARN DAGScheduler: Broadcasting large task binary with size 7.6 MiB   (1 + 3) / 4]\n                                                                                                    \r",
          "output_type": "stream"
        },
        {
          "name": "stdout",
          "text": "Finished in 369.4s, RMSE=1.1750\n\nTraining rank=50, regParam=0.5, maxIter=5 ...\n",
          "output_type": "stream"
        },
        {
          "name": "stderr",
          "text": "25/05/13 03:53:15 WARN DAGScheduler: Broadcasting large task binary with size 7.5 MiB   (6 + 2) / 8]\n25/05/13 03:53:17 WARN DAGScheduler: Broadcasting large task binary with size 7.5 MiB               \n25/05/13 03:53:24 WARN DAGScheduler: Broadcasting large task binary with size 7.5 MiB   (3 + 2) / 5]\n25/05/13 03:53:26 WARN DAGScheduler: Broadcasting large task binary with size 7.5 MiB   (4 + 1) / 5]\n25/05/13 03:53:28 WARN DAGScheduler: Broadcasting large task binary with size 7.5 MiB               \n25/05/13 03:53:29 WARN DAGScheduler: Broadcasting large task binary with size 7.5 MiB   (4 + 1) / 5]\n25/05/13 03:53:31 WARN DAGScheduler: Broadcasting large task binary with size 7.5 MiB               \n25/05/13 03:53:33 WARN DAGScheduler: Broadcasting large task binary with size 7.5 MiB  (7 + 3) / 10]\n25/05/13 03:53:37 WARN DAGScheduler: Broadcasting large task binary with size 7.5 MiB  (9 + 1) / 10]\n25/05/13 03:53:42 WARN DAGScheduler: Broadcasting large task binary with size 7.5 MiB  (9 + 1) / 10]\n25/05/13 03:53:46 WARN DAGScheduler: Broadcasting large task binary with size 7.5 MiB  (8 + 2) / 10]\n25/05/13 03:53:52 WARN DAGScheduler: Broadcasting large task binary with size 7.5 MiB  (9 + 1) / 10]\n25/05/13 03:53:56 WARN DAGScheduler: Broadcasting large task binary with size 7.5 MiB  (8 + 2) / 10]\n25/05/13 03:54:00 WARN DAGScheduler: Broadcasting large task binary with size 7.5 MiB  (8 + 2) / 10]\n25/05/13 03:54:05 WARN DAGScheduler: Broadcasting large task binary with size 7.5 MiB  (8 + 2) / 10]\n25/05/13 03:54:09 WARN DAGScheduler: Broadcasting large task binary with size 7.5 MiB  (8 + 2) / 10]\n25/05/13 03:54:14 WARN DAGScheduler: Broadcasting large task binary with size 7.5 MiB  (8 + 2) / 10]\n25/05/13 03:54:19 WARN DAGScheduler: Broadcasting large task binary with size 7.5 MiB               \n25/05/13 03:54:23 WARN DAGScheduler: Broadcasting large task binary with size 7.5 MiB               \n25/05/13 03:54:23 WARN DAGScheduler: Broadcasting large task binary with size 7.5 MiB\n25/05/13 03:55:52 WARN DAGScheduler: Broadcasting large task binary with size 7.5 MiB   (7 + 1) / 8]\n25/05/13 03:56:01 WARN DAGScheduler: Broadcasting large task binary with size 7.6 MiB   (3 + 2) / 5]\n25/05/13 03:56:02 WARN DAGScheduler: Broadcasting large task binary with size 7.6 MiB   (1 + 3) / 4]\n                                                                                                    \r",
          "output_type": "stream"
        },
        {
          "name": "stdout",
          "text": "Finished in 253.7s, RMSE=1.2167\n\nTraining rank=50, regParam=0.5, maxIter=10 ...\n",
          "output_type": "stream"
        },
        {
          "name": "stderr",
          "text": "25/05/13 03:57:45 WARN DAGScheduler: Broadcasting large task binary with size 7.5 MiB   (6 + 2) / 8]\n25/05/13 03:57:47 WARN DAGScheduler: Broadcasting large task binary with size 7.5 MiB               \n25/05/13 03:57:55 WARN DAGScheduler: Broadcasting large task binary with size 7.5 MiB   (1 + 4) / 5]\n25/05/13 03:57:56 WARN DAGScheduler: Broadcasting large task binary with size 7.5 MiB   (4 + 1) / 5]\n25/05/13 03:57:58 WARN DAGScheduler: Broadcasting large task binary with size 7.5 MiB               \n25/05/13 03:57:59 WARN DAGScheduler: Broadcasting large task binary with size 7.5 MiB   (4 + 1) / 5]\n25/05/13 03:58:01 WARN DAGScheduler: Broadcasting large task binary with size 7.5 MiB               \n25/05/13 03:58:03 WARN DAGScheduler: Broadcasting large task binary with size 7.5 MiB  (8 + 2) / 10]\n25/05/13 03:58:06 WARN DAGScheduler: Broadcasting large task binary with size 7.5 MiB  (8 + 2) / 10]\n25/05/13 03:58:12 WARN DAGScheduler: Broadcasting large task binary with size 7.5 MiB  (9 + 1) / 10]\n25/05/13 03:58:16 WARN DAGScheduler: Broadcasting large task binary with size 7.5 MiB  (8 + 2) / 10]\n25/05/13 03:58:21 WARN DAGScheduler: Broadcasting large task binary with size 7.5 MiB  (9 + 1) / 10]\n25/05/13 03:58:25 WARN DAGScheduler: Broadcasting large task binary with size 7.5 MiB  (8 + 2) / 10]\n25/05/13 03:58:29 WARN DAGScheduler: Broadcasting large task binary with size 7.5 MiB  (9 + 1) / 10]\n25/05/13 03:58:33 WARN DAGScheduler: Broadcasting large task binary with size 7.5 MiB  (8 + 2) / 10]\n25/05/13 03:58:38 WARN DAGScheduler: Broadcasting large task binary with size 7.5 MiB  (8 + 2) / 10]\n25/05/13 03:58:43 WARN DAGScheduler: Broadcasting large task binary with size 7.5 MiB  (8 + 2) / 10]\n25/05/13 03:58:47 WARN DAGScheduler: Broadcasting large task binary with size 7.5 MiB  (8 + 2) / 10]\n25/05/13 03:58:52 WARN DAGScheduler: Broadcasting large task binary with size 7.5 MiB  (8 + 2) / 10]\n25/05/13 03:58:57 WARN DAGScheduler: Broadcasting large task binary with size 7.5 MiB  (8 + 2) / 10]\n25/05/13 03:59:01 WARN DAGScheduler: Broadcasting large task binary with size 7.5 MiB  (8 + 2) / 10]\n25/05/13 03:59:06 WARN DAGScheduler: Broadcasting large task binary with size 7.5 MiB  (9 + 1) / 10]\n25/05/13 03:59:10 WARN DAGScheduler: Broadcasting large task binary with size 7.5 MiB  (9 + 1) / 10]\n25/05/13 03:59:15 WARN DAGScheduler: Broadcasting large task binary with size 7.5 MiB  (8 + 2) / 10]\n25/05/13 03:59:19 WARN DAGScheduler: Broadcasting large task binary with size 7.5 MiB  (8 + 2) / 10]\n25/05/13 03:59:24 WARN DAGScheduler: Broadcasting large task binary with size 7.5 MiB  (8 + 2) / 10]\n25/05/13 03:59:28 WARN DAGScheduler: Broadcasting large task binary with size 7.5 MiB  (8 + 2) / 10]\n25/05/13 03:59:32 WARN DAGScheduler: Broadcasting large task binary with size 7.5 MiB               \n25/05/13 03:59:36 WARN DAGScheduler: Broadcasting large task binary with size 7.5 MiB               \n25/05/13 03:59:37 WARN DAGScheduler: Broadcasting large task binary with size 7.5 MiB\n25/05/13 04:01:07 WARN DAGScheduler: Broadcasting large task binary with size 7.5 MiB   (7 + 1) / 8]\n25/05/13 04:01:15 WARN DAGScheduler: Broadcasting large task binary with size 7.6 MiB   (4 + 1) / 5]\n25/05/13 04:01:16 WARN DAGScheduler: Broadcasting large task binary with size 7.6 MiB   (1 + 3) / 4]\n                                                                                                    \r",
          "output_type": "stream"
        },
        {
          "name": "stdout",
          "text": "Finished in 315.3s, RMSE=1.2086\n\nTraining rank=100, regParam=0.05, maxIter=5 ...\n",
          "output_type": "stream"
        },
        {
          "name": "stderr",
          "text": "25/05/13 04:02:46 WARN DAGScheduler: Broadcasting large task binary with size 7.5 MiB   (6 + 2) / 8]\n25/05/13 04:02:48 WARN DAGScheduler: Broadcasting large task binary with size 7.5 MiB               \n25/05/13 04:02:56 WARN DAGScheduler: Broadcasting large task binary with size 7.5 MiB   (2 + 3) / 5]\n25/05/13 04:02:57 WARN DAGScheduler: Broadcasting large task binary with size 7.5 MiB   (4 + 1) / 5]\n25/05/13 04:02:59 WARN DAGScheduler: Broadcasting large task binary with size 7.5 MiB               \n25/05/13 04:03:00 WARN DAGScheduler: Broadcasting large task binary with size 7.5 MiB   (4 + 1) / 5]\n25/05/13 04:03:01 WARN DAGScheduler: Broadcasting large task binary with size 7.5 MiB               \n25/05/13 04:03:04 WARN DAGScheduler: Broadcasting large task binary with size 7.5 MiB  (8 + 2) / 10]\n25/05/13 04:03:49 WARN DAGScheduler: Broadcasting large task binary with size 7.5 MiB  (9 + 1) / 10]\n25/05/13 04:07:57 WARN DAGScheduler: Broadcasting large task binary with size 7.5 MiB  (9 + 1) / 10]\n25/05/13 04:09:10 WARN DAGScheduler: Broadcasting large task binary with size 7.5 MiB  (9 + 1) / 10]\n25/05/13 04:12:13 WARN DAGScheduler: Broadcasting large task binary with size 7.5 MiB  (9 + 1) / 10]\n25/05/13 04:13:20 WARN DAGScheduler: Broadcasting large task binary with size 7.5 MiB  (9 + 1) / 10]\n25/05/13 04:16:15 WARN DAGScheduler: Broadcasting large task binary with size 7.5 MiB  (9 + 1) / 10]\n25/05/13 04:17:22 WARN DAGScheduler: Broadcasting large task binary with size 7.5 MiB  (9 + 1) / 10]\n25/05/13 04:20:23 WARN DAGScheduler: Broadcasting large task binary with size 7.5 MiB  (9 + 1) / 10]\n25/05/13 04:21:30 WARN DAGScheduler: Broadcasting large task binary with size 7.5 MiB  (9 + 1) / 10]\n25/05/13 04:24:11 WARN DAGScheduler: Broadcasting large task binary with size 7.5 MiB               \n25/05/13 04:25:17 WARN DAGScheduler: Broadcasting large task binary with size 7.5 MiB               \n25/05/13 04:25:18 WARN DAGScheduler: Broadcasting large task binary with size 7.5 MiB  (0 + 0) / 10]\n25/05/13 04:26:52 WARN DAGScheduler: Broadcasting large task binary with size 7.5 MiB   (6 + 2) / 8]\n25/05/13 04:27:00 WARN DAGScheduler: Broadcasting large task binary with size 7.6 MiB   (2 + 3) / 5]\n25/05/13 04:27:03 WARN DAGScheduler: Broadcasting large task binary with size 7.6 MiB   (1 + 3) / 4]\n                                                                                                    \r",
          "output_type": "stream"
        },
        {
          "name": "stdout",
          "text": "Finished in 1548.8s, RMSE=1.1978\n\nTraining rank=100, regParam=0.05, maxIter=10 ...\n",
          "output_type": "stream"
        },
        {
          "name": "stderr",
          "text": "25/05/13 04:28:50 WARN DAGScheduler: Broadcasting large task binary with size 7.5 MiB   (7 + 1) / 8]\n25/05/13 04:28:52 WARN DAGScheduler: Broadcasting large task binary with size 7.5 MiB               \n25/05/13 04:29:00 WARN DAGScheduler: Broadcasting large task binary with size 7.5 MiB   (4 + 1) / 5]\n25/05/13 04:29:01 WARN DAGScheduler: Broadcasting large task binary with size 7.5 MiB   (4 + 1) / 5]\n25/05/13 04:29:03 WARN DAGScheduler: Broadcasting large task binary with size 7.5 MiB               \n25/05/13 04:29:04 WARN DAGScheduler: Broadcasting large task binary with size 7.5 MiB   (4 + 1) / 5]\n25/05/13 04:29:06 WARN DAGScheduler: Broadcasting large task binary with size 7.5 MiB               \n25/05/13 04:29:08 WARN DAGScheduler: Broadcasting large task binary with size 7.5 MiB  (8 + 2) / 10]\n25/05/13 04:29:54 WARN DAGScheduler: Broadcasting large task binary with size 7.5 MiB  (8 + 2) / 10]\n25/05/13 04:33:48 WARN DAGScheduler: Broadcasting large task binary with size 7.5 MiB  (9 + 1) / 10]\n25/05/13 04:34:57 WARN DAGScheduler: Broadcasting large task binary with size 7.5 MiB  (8 + 2) / 10]\n25/05/13 04:37:54 WARN DAGScheduler: Broadcasting large task binary with size 7.5 MiB  (9 + 1) / 10]\n25/05/13 04:39:01 WARN DAGScheduler: Broadcasting large task binary with size 7.5 MiB  (9 + 1) / 10]\n25/05/13 04:42:02 WARN DAGScheduler: Broadcasting large task binary with size 7.5 MiB  (9 + 1) / 10]\n25/05/13 04:43:06 WARN DAGScheduler: Broadcasting large task binary with size 7.5 MiB  (9 + 1) / 10]\n25/05/13 04:45:46 WARN DAGScheduler: Broadcasting large task binary with size 7.5 MiB  (8 + 2) / 10]\n25/05/13 04:46:50 WARN DAGScheduler: Broadcasting large task binary with size 7.5 MiB  (9 + 1) / 10]\n25/05/13 04:49:27 WARN DAGScheduler: Broadcasting large task binary with size 7.5 MiB  (9 + 1) / 10]\n25/05/13 04:50:34 WARN DAGScheduler: Broadcasting large task binary with size 7.5 MiB  (9 + 1) / 10]\n25/05/13 04:53:18 WARN DAGScheduler: Broadcasting large task binary with size 7.5 MiB  (9 + 1) / 10]\n25/05/13 04:54:25 WARN DAGScheduler: Broadcasting large task binary with size 7.5 MiB  (9 + 1) / 10]\n25/05/13 04:56:54 WARN DAGScheduler: Broadcasting large task binary with size 7.5 MiB  (9 + 1) / 10]\n25/05/13 04:58:01 WARN DAGScheduler: Broadcasting large task binary with size 7.5 MiB  (9 + 1) / 10]\n25/05/13 05:00:31 WARN DAGScheduler: Broadcasting large task binary with size 7.5 MiB  (9 + 1) / 10]\n25/05/13 05:01:40 WARN DAGScheduler: Broadcasting large task binary with size 7.5 MiB  (9 + 1) / 10]\n25/05/13 05:04:05 WARN DAGScheduler: Broadcasting large task binary with size 7.5 MiB  (9 + 1) / 10]\n25/05/13 05:05:12 WARN DAGScheduler: Broadcasting large task binary with size 7.5 MiB  (9 + 1) / 10]\n25/05/13 05:07:35 WARN DAGScheduler: Broadcasting large task binary with size 7.5 MiB               \n25/05/13 05:08:55 WARN DAGScheduler: Broadcasting large task binary with size 7.5 MiB               \n25/05/13 05:08:56 WARN DAGScheduler: Broadcasting large task binary with size 7.5 MiB\n25/05/13 05:10:33 WARN DAGScheduler: Broadcasting large task binary with size 7.5 MiB   (7 + 1) / 8]\n25/05/13 05:10:40 WARN DAGScheduler: Broadcasting large task binary with size 7.6 MiB   (4 + 1) / 5]\n25/05/13 05:10:42 WARN DAGScheduler: Broadcasting large task binary with size 7.6 MiB   (2 + 2) / 4]\n                                                                                                    \r",
          "output_type": "stream"
        },
        {
          "name": "stdout",
          "text": "Finished in 2619.7s, RMSE=1.1781\n\nTraining rank=100, regParam=0.1, maxIter=5 ...\n",
          "output_type": "stream"
        },
        {
          "name": "stderr",
          "text": "25/05/13 05:12:16 WARN DAGScheduler: Broadcasting large task binary with size 7.5 MiB   (6 + 2) / 8]\n25/05/13 05:12:18 WARN DAGScheduler: Broadcasting large task binary with size 7.5 MiB               \n25/05/13 05:12:26 WARN DAGScheduler: Broadcasting large task binary with size 7.5 MiB   (3 + 2) / 5]\n25/05/13 05:12:27 WARN DAGScheduler: Broadcasting large task binary with size 7.5 MiB   (4 + 1) / 5]\n25/05/13 05:12:29 WARN DAGScheduler: Broadcasting large task binary with size 7.5 MiB               \n25/05/13 05:12:30 WARN DAGScheduler: Broadcasting large task binary with size 7.5 MiB   (3 + 2) / 5]\n25/05/13 05:12:32 WARN DAGScheduler: Broadcasting large task binary with size 7.5 MiB               \n25/05/13 05:12:34 WARN DAGScheduler: Broadcasting large task binary with size 7.5 MiB=(10 + 0) / 10]\n25/05/13 05:13:15 WARN DAGScheduler: Broadcasting large task binary with size 7.5 MiB  (9 + 1) / 10]\n25/05/13 05:15:51 WARN DAGScheduler: Broadcasting large task binary with size 7.5 MiB  (9 + 1) / 10]\n25/05/13 05:17:03 WARN DAGScheduler: Broadcasting large task binary with size 7.5 MiB  (9 + 1) / 10]\n25/05/13 05:18:50 WARN DAGScheduler: Broadcasting large task binary with size 7.5 MiB  (9 + 1) / 10]\n25/05/13 05:19:58 WARN DAGScheduler: Broadcasting large task binary with size 7.5 MiB  (8 + 2) / 10]\n25/05/13 05:21:53 WARN DAGScheduler: Broadcasting large task binary with size 7.5 MiB  (9 + 1) / 10]\n25/05/13 05:23:01 WARN DAGScheduler: Broadcasting large task binary with size 7.5 MiB  (9 + 1) / 10]\n25/05/13 05:24:44 WARN DAGScheduler: Broadcasting large task binary with size 7.5 MiB  (9 + 1) / 10]\n25/05/13 05:25:54 WARN DAGScheduler: Broadcasting large task binary with size 7.5 MiB  (9 + 1) / 10]\n25/05/13 05:27:33 WARN DAGScheduler: Broadcasting large task binary with size 7.5 MiB               \n25/05/13 05:28:42 WARN DAGScheduler: Broadcasting large task binary with size 7.5 MiB               \n25/05/13 05:28:42 WARN DAGScheduler: Broadcasting large task binary with size 7.5 MiB  (0 + 0) / 10]\n25/05/13 05:30:14 WARN DAGScheduler: Broadcasting large task binary with size 7.5 MiB   (6 + 2) / 8]\n25/05/13 05:30:22 WARN DAGScheduler: Broadcasting large task binary with size 7.6 MiB   (4 + 1) / 5]\n25/05/13 05:30:24 WARN DAGScheduler: Broadcasting large task binary with size 7.6 MiB   (1 + 3) / 4]\n                                                                                                    \r",
          "output_type": "stream"
        },
        {
          "name": "stdout",
          "text": "Finished in 1182.0s, RMSE=1.1743\n\nTraining rank=100, regParam=0.1, maxIter=10 ...\n",
          "output_type": "stream"
        },
        {
          "name": "stderr",
          "text": "25/05/13 05:32:09 WARN DAGScheduler: Broadcasting large task binary with size 7.5 MiB   (6 + 2) / 8]\n25/05/13 05:32:11 WARN DAGScheduler: Broadcasting large task binary with size 7.5 MiB               \n25/05/13 05:32:18 WARN DAGScheduler: Broadcasting large task binary with size 7.5 MiB   (3 + 2) / 5]\n25/05/13 05:32:19 WARN DAGScheduler: Broadcasting large task binary with size 7.5 MiB   (4 + 1) / 5]\n25/05/13 05:32:21 WARN DAGScheduler: Broadcasting large task binary with size 7.5 MiB               \n25/05/13 05:32:22 WARN DAGScheduler: Broadcasting large task binary with size 7.5 MiB   (4 + 1) / 5]\n25/05/13 05:32:24 WARN DAGScheduler: Broadcasting large task binary with size 7.5 MiB               \n25/05/13 05:32:26 WARN DAGScheduler: Broadcasting large task binary with size 7.5 MiB  (8 + 2) / 10]\n25/05/13 05:33:06 WARN DAGScheduler: Broadcasting large task binary with size 7.5 MiB  (9 + 1) / 10]\n25/05/13 05:35:39 WARN DAGScheduler: Broadcasting large task binary with size 7.5 MiB  (9 + 1) / 10]\n25/05/13 05:36:48 WARN DAGScheduler: Broadcasting large task binary with size 7.5 MiB  (9 + 1) / 10]\n25/05/13 05:38:46 WARN DAGScheduler: Broadcasting large task binary with size 7.5 MiB  (9 + 1) / 10]\n25/05/13 05:39:58 WARN DAGScheduler: Broadcasting large task binary with size 7.5 MiB  (9 + 1) / 10]\n25/05/13 05:41:59 WARN DAGScheduler: Broadcasting large task binary with size 7.5 MiB  (9 + 1) / 10]\n25/05/13 05:43:09 WARN DAGScheduler: Broadcasting large task binary with size 7.5 MiB  (9 + 1) / 10]\n25/05/13 05:44:52 WARN DAGScheduler: Broadcasting large task binary with size 7.5 MiB  (8 + 2) / 10]\n25/05/13 05:46:00 WARN DAGScheduler: Broadcasting large task binary with size 7.5 MiB  (8 + 2) / 10]\n25/05/13 05:47:40 WARN DAGScheduler: Broadcasting large task binary with size 7.5 MiB  (9 + 1) / 10]\n25/05/13 05:48:52 WARN DAGScheduler: Broadcasting large task binary with size 7.5 MiB  (8 + 2) / 10]\n25/05/13 05:50:35 WARN DAGScheduler: Broadcasting large task binary with size 7.5 MiB  (9 + 1) / 10]\n25/05/13 05:51:43 WARN DAGScheduler: Broadcasting large task binary with size 7.5 MiB  (9 + 1) / 10]\n25/05/13 05:53:23 WARN DAGScheduler: Broadcasting large task binary with size 7.5 MiB  (8 + 2) / 10]\n25/05/13 05:54:30 WARN DAGScheduler: Broadcasting large task binary with size 7.5 MiB  (9 + 1) / 10]\n25/05/13 05:56:11 WARN DAGScheduler: Broadcasting large task binary with size 7.5 MiB  (9 + 1) / 10]\n25/05/13 05:57:34 WARN DAGScheduler: Broadcasting large task binary with size 7.5 MiB  (9 + 1) / 10]\n25/05/13 05:59:11 WARN DAGScheduler: Broadcasting large task binary with size 7.5 MiB  (8 + 2) / 10]\n25/05/13 06:00:19 WARN DAGScheduler: Broadcasting large task binary with size 7.5 MiB  (9 + 1) / 10]\n25/05/13 06:02:00 WARN DAGScheduler: Broadcasting large task binary with size 7.5 MiB               \n25/05/13 06:03:10 WARN DAGScheduler: Broadcasting large task binary with size 7.5 MiB               \n25/05/13 06:03:10 WARN DAGScheduler: Broadcasting large task binary with size 7.5 MiB\n25/05/13 06:04:46 WARN DAGScheduler: Broadcasting large task binary with size 7.5 MiB   (6 + 2) / 8]\n25/05/13 06:04:54 WARN DAGScheduler: Broadcasting large task binary with size 7.6 MiB   (4 + 1) / 5]\n25/05/13 06:04:57 WARN DAGScheduler: Broadcasting large task binary with size 7.6 MiB   (0 + 4) / 4]\n                                                                                                    \r",
          "output_type": "stream"
        },
        {
          "name": "stdout",
          "text": "Finished in 2072.6s, RMSE=1.1656\n\nTraining rank=100, regParam=0.5, maxIter=5 ...\n",
          "output_type": "stream"
        },
        {
          "name": "stderr",
          "text": "25/05/13 06:06:30 WARN DAGScheduler: Broadcasting large task binary with size 7.5 MiB   (7 + 1) / 8]\n25/05/13 06:06:32 WARN DAGScheduler: Broadcasting large task binary with size 7.5 MiB               \n25/05/13 06:06:39 WARN DAGScheduler: Broadcasting large task binary with size 7.5 MiB   (2 + 3) / 5]\n25/05/13 06:06:41 WARN DAGScheduler: Broadcasting large task binary with size 7.5 MiB   (2 + 3) / 5]\n25/05/13 06:06:43 WARN DAGScheduler: Broadcasting large task binary with size 7.5 MiB               \n25/05/13 06:06:44 WARN DAGScheduler: Broadcasting large task binary with size 7.5 MiB   (4 + 1) / 5]\n25/05/13 06:06:46 WARN DAGScheduler: Broadcasting large task binary with size 7.5 MiB               \n25/05/13 06:06:48 WARN DAGScheduler: Broadcasting large task binary with size 7.5 MiB  (8 + 2) / 10]\n25/05/13 06:07:38 WARN DAGScheduler: Broadcasting large task binary with size 7.5 MiB  (9 + 1) / 10]\n25/05/13 06:08:26 WARN DAGScheduler: Broadcasting large task binary with size 7.5 MiB  (8 + 2) / 10]\n25/05/13 06:09:07 WARN DAGScheduler: Broadcasting large task binary with size 7.5 MiB  (9 + 1) / 10]\n25/05/13 06:09:54 WARN DAGScheduler: Broadcasting large task binary with size 7.5 MiB  (9 + 1) / 10]\n25/05/13 06:10:31 WARN DAGScheduler: Broadcasting large task binary with size 7.5 MiB  (9 + 1) / 10]\n25/05/13 06:11:16 WARN DAGScheduler: Broadcasting large task binary with size 7.5 MiB  (9 + 1) / 10]\n25/05/13 06:11:53 WARN DAGScheduler: Broadcasting large task binary with size 7.5 MiB  (9 + 1) / 10]\n25/05/13 06:12:38 WARN DAGScheduler: Broadcasting large task binary with size 7.5 MiB  (9 + 1) / 10]\n25/05/13 06:13:14 WARN DAGScheduler: Broadcasting large task binary with size 7.5 MiB  (9 + 1) / 10]\n25/05/13 06:13:58 WARN DAGScheduler: Broadcasting large task binary with size 7.5 MiB               \n25/05/13 06:14:32 WARN DAGScheduler: Broadcasting large task binary with size 7.5 MiB               \n25/05/13 06:14:32 WARN DAGScheduler: Broadcasting large task binary with size 7.5 MiB  (0 + 0) / 10]\n25/05/13 06:16:00 WARN DAGScheduler: Broadcasting large task binary with size 7.5 MiB   (7 + 1) / 8]\n25/05/13 06:16:09 WARN DAGScheduler: Broadcasting large task binary with size 7.6 MiB   (2 + 3) / 5]\n25/05/13 06:16:11 WARN DAGScheduler: Broadcasting large task binary with size 7.6 MiB   (0 + 4) / 4]\n                                                                                                    \r",
          "output_type": "stream"
        },
        {
          "name": "stdout",
          "text": "Finished in 673.8s, RMSE=1.2173\n\nTraining rank=100, regParam=0.5, maxIter=10 ...\n",
          "output_type": "stream"
        },
        {
          "name": "stderr",
          "text": "25/05/13 06:17:49 WARN DAGScheduler: Broadcasting large task binary with size 7.5 MiB   (7 + 1) / 8]\n25/05/13 06:17:54 WARN DAGScheduler: Broadcasting large task binary with size 7.5 MiB               \n25/05/13 06:18:04 WARN DAGScheduler: Broadcasting large task binary with size 7.5 MiB   (1 + 4) / 5]\n25/05/13 06:18:05 WARN DAGScheduler: Broadcasting large task binary with size 7.5 MiB   (4 + 1) / 5]\n25/05/13 06:18:07 WARN DAGScheduler: Broadcasting large task binary with size 7.5 MiB               \n25/05/13 06:18:08 WARN DAGScheduler: Broadcasting large task binary with size 7.5 MiB   (4 + 1) / 5]\n25/05/13 06:18:10 WARN DAGScheduler: Broadcasting large task binary with size 7.5 MiB               \n25/05/13 06:18:12 WARN DAGScheduler: Broadcasting large task binary with size 7.5 MiB  (8 + 2) / 10]\n25/05/13 06:18:49 WARN DAGScheduler: Broadcasting large task binary with size 7.5 MiB  (8 + 2) / 10]\n25/05/13 06:19:39 WARN DAGScheduler: Broadcasting large task binary with size 7.5 MiB  (9 + 1) / 10]\n25/05/13 06:20:23 WARN DAGScheduler: Broadcasting large task binary with size 7.5 MiB  (9 + 1) / 10]\n25/05/13 06:21:14 WARN DAGScheduler: Broadcasting large task binary with size 7.5 MiB  (8 + 2) / 10]\n25/05/13 06:21:53 WARN DAGScheduler: Broadcasting large task binary with size 7.5 MiB  (9 + 1) / 10]\n25/05/13 06:22:42 WARN DAGScheduler: Broadcasting large task binary with size 7.5 MiB  (9 + 1) / 10]\n25/05/13 06:23:18 WARN DAGScheduler: Broadcasting large task binary with size 7.5 MiB  (9 + 1) / 10]\n25/05/13 06:24:04 WARN DAGScheduler: Broadcasting large task binary with size 7.5 MiB  (9 + 1) / 10]\n25/05/13 06:24:40 WARN DAGScheduler: Broadcasting large task binary with size 7.5 MiB  (9 + 1) / 10]\n25/05/13 06:25:26 WARN DAGScheduler: Broadcasting large task binary with size 7.5 MiB  (8 + 2) / 10]\n25/05/13 06:26:04 WARN DAGScheduler: Broadcasting large task binary with size 7.5 MiB  (9 + 1) / 10]\n25/05/13 06:26:52 WARN DAGScheduler: Broadcasting large task binary with size 7.5 MiB  (8 + 2) / 10]\n25/05/13 06:27:28 WARN DAGScheduler: Broadcasting large task binary with size 7.5 MiB  (9 + 1) / 10]\n25/05/13 06:28:31 WARN DAGScheduler: Broadcasting large task binary with size 7.5 MiB  (9 + 1) / 10]\n25/05/13 06:29:05 WARN DAGScheduler: Broadcasting large task binary with size 7.5 MiB  (9 + 1) / 10]\n25/05/13 06:29:49 WARN DAGScheduler: Broadcasting large task binary with size 7.5 MiB  (8 + 2) / 10]\n25/05/13 06:30:25 WARN DAGScheduler: Broadcasting large task binary with size 7.5 MiB  (9 + 1) / 10]\n25/05/13 06:31:11 WARN DAGScheduler: Broadcasting large task binary with size 7.5 MiB  (9 + 1) / 10]\n25/05/13 06:31:45 WARN DAGScheduler: Broadcasting large task binary with size 7.5 MiB  (8 + 2) / 10]\n25/05/13 06:32:29 WARN DAGScheduler: Broadcasting large task binary with size 7.5 MiB               \n25/05/13 06:33:03 WARN DAGScheduler: Broadcasting large task binary with size 7.5 MiB               \n25/05/13 06:33:03 WARN DAGScheduler: Broadcasting large task binary with size 7.5 MiB\n25/05/13 06:34:37 WARN DAGScheduler: Broadcasting large task binary with size 7.5 MiB   (7 + 1) / 8]\n25/05/13 06:34:44 WARN DAGScheduler: Broadcasting large task binary with size 7.6 MiB   (2 + 3) / 5]\n25/05/13 06:34:46 WARN DAGScheduler: Broadcasting large task binary with size 7.6 MiB   (2 + 2) / 4]\n[Stage 3395:============================================================>               (4 + 1) / 5]\r",
          "output_type": "stream"
        },
        {
          "name": "stdout",
          "text": "Finished in 1114.9s, RMSE=1.2087\n\n Best RMSE=1.1656\n",
          "output_type": "stream"
        },
        {
          "name": "stderr",
          "text": "                                                                                                    \r",
          "output_type": "stream"
        }
      ],
      "execution_count": null
    },
    {
      "cell_type": "code",
      "source": [
        "# extract the best model and its params\n",
        "print(\">>> Best rank:\", best_model._java_obj.parent().getRank())\n",
        "print(\">>> Best regParam:\", best_model._java_obj.parent().getRegParam())\n",
        "print(\">>> Best maxIter:\", best_model._java_obj.parent().getMaxIter())"
      ],
      "metadata": {
        "trusted": true,
        "execution": {
          "iopub.status.busy": "2025-05-13T06:34:52.205194Z",
          "iopub.execute_input": "2025-05-13T06:34:52.206141Z",
          "iopub.status.idle": "2025-05-13T06:34:52.219471Z",
          "shell.execute_reply.started": "2025-05-13T06:34:52.206083Z",
          "shell.execute_reply": "2025-05-13T06:34:52.218400Z"
        },
        "id": "GfF3ktxVkzmY",
        "outputId": "2ed5549c-7ffd-446f-aac8-eabb18214796"
      },
      "outputs": [
        {
          "name": "stdout",
          "text": ">>> Best rank: 100\n>>> Best regParam: 0.1\n>>> Best maxIter: 10\n",
          "output_type": "stream"
        }
      ],
      "execution_count": null
    },
    {
      "cell_type": "markdown",
      "source": [
        "### 4.3 Model Evaluation"
      ],
      "metadata": {
        "id": "rFy1BvT0kzmZ"
      }
    },
    {
      "cell_type": "code",
      "source": [
        "als_best = ALS(\n",
        "    rank=100, # num of latent factors (default=10)\n",
        "    regParam=0.1, # regularization parameter to avoid overfitting (default=0.1)\n",
        "    maxIter=10, # num of ALS iterations (default=10)\n",
        "    userCol=\"uid\", # user id\n",
        "    itemCol=\"bid\", # business id\n",
        "    ratingCol=\"stars\", # based on the stars\n",
        "    implicitPrefs=False, # treat stars as explicit feedback, not implicit\n",
        "    coldStartStrategy=\"drop\"  # avoids NaNs in predictions\n",
        ")\n",
        "\n",
        "# fit the model to the data to learn it\n",
        "best_model = als_best.fit(train)"
      ],
      "metadata": {
        "trusted": true,
        "execution": {
          "iopub.status.busy": "2025-05-13T13:37:22.095290Z",
          "iopub.execute_input": "2025-05-13T13:37:22.095770Z",
          "iopub.status.idle": "2025-05-13T13:54:54.861593Z",
          "shell.execute_reply.started": "2025-05-13T13:37:22.095737Z",
          "shell.execute_reply": "2025-05-13T13:54:54.860270Z"
        },
        "id": "yCDXi3sMkzmZ",
        "outputId": "fcbddaa4-2bba-49d0-e404-89dc183f782f"
      },
      "outputs": [
        {
          "name": "stderr",
          "text": "25/05/13 13:40:06 WARN DAGScheduler: Broadcasting large task binary with size 7.5 MiB   (6 + 2) / 8]\n25/05/13 13:40:09 WARN DAGScheduler: Broadcasting large task binary with size 7.5 MiB               \n25/05/13 13:40:16 WARN DAGScheduler: Broadcasting large task binary with size 7.5 MiB===(5 + 0) / 5]\n25/05/13 13:40:19 WARN DAGScheduler: Broadcasting large task binary with size 7.5 MiB   (4 + 1) / 5]\n25/05/13 13:40:24 WARN DAGScheduler: Broadcasting large task binary with size 7.5 MiB               \n25/05/13 13:40:26 WARN DAGScheduler: Broadcasting large task binary with size 7.5 MiB   (4 + 1) / 5]\n25/05/13 13:40:29 WARN DAGScheduler: Broadcasting large task binary with size 7.5 MiB               \n25/05/13 13:40:31 WARN DAGScheduler: Broadcasting large task binary with size 7.5 MiB  (8 + 2) / 10]\n25/05/13 13:41:09 WARN DAGScheduler: Broadcasting large task binary with size 7.5 MiB  (9 + 1) / 10]\n25/05/13 13:42:02 WARN DAGScheduler: Broadcasting large task binary with size 7.5 MiB  (9 + 1) / 10]\n25/05/13 13:42:37 WARN DAGScheduler: Broadcasting large task binary with size 7.5 MiB  (9 + 1) / 10]\n25/05/13 13:43:21 WARN DAGScheduler: Broadcasting large task binary with size 7.5 MiB  (8 + 2) / 10]\n25/05/13 13:43:56 WARN DAGScheduler: Broadcasting large task binary with size 7.5 MiB  (9 + 1) / 10]\n25/05/13 13:44:40 WARN DAGScheduler: Broadcasting large task binary with size 7.5 MiB  (9 + 1) / 10]\n25/05/13 13:45:17 WARN DAGScheduler: Broadcasting large task binary with size 7.5 MiB  (8 + 2) / 10]\n25/05/13 13:46:01 WARN DAGScheduler: Broadcasting large task binary with size 7.5 MiB  (8 + 2) / 10]\n25/05/13 13:46:34 WARN DAGScheduler: Broadcasting large task binary with size 7.5 MiB  (9 + 1) / 10]\n25/05/13 13:47:20 WARN DAGScheduler: Broadcasting large task binary with size 7.5 MiB  (9 + 1) / 10]\n25/05/13 13:47:55 WARN DAGScheduler: Broadcasting large task binary with size 7.5 MiB  (9 + 1) / 10]\n25/05/13 13:48:40 WARN DAGScheduler: Broadcasting large task binary with size 7.5 MiB  (9 + 1) / 10]\n25/05/13 13:49:16 WARN DAGScheduler: Broadcasting large task binary with size 7.5 MiB  (9 + 1) / 10]\n25/05/13 13:49:59 WARN DAGScheduler: Broadcasting large task binary with size 7.5 MiB  (8 + 2) / 10]\n25/05/13 13:50:36 WARN DAGScheduler: Broadcasting large task binary with size 7.5 MiB  (9 + 1) / 10]\n25/05/13 13:51:22 WARN DAGScheduler: Broadcasting large task binary with size 7.5 MiB  (9 + 1) / 10]\n25/05/13 13:52:13 WARN DAGScheduler: Broadcasting large task binary with size 7.5 MiB  (8 + 2) / 10]\n25/05/13 13:52:59 WARN DAGScheduler: Broadcasting large task binary with size 7.5 MiB  (9 + 1) / 10]\n25/05/13 13:53:36 WARN DAGScheduler: Broadcasting large task binary with size 7.5 MiB  (9 + 1) / 10]\n25/05/13 13:54:19 WARN DAGScheduler: Broadcasting large task binary with size 7.5 MiB               \n                                                                                                    \r",
          "output_type": "stream"
        }
      ],
      "execution_count": null
    },
    {
      "cell_type": "code",
      "source": [
        "evaluator = RegressionEvaluator(\n",
        "    metricName=\"rmse\", # root-mean-square error metric\n",
        "    labelCol=\"stars\", # true rating column\n",
        "    predictionCol=\"prediction\" # predicted rating column\n",
        ")"
      ],
      "metadata": {
        "trusted": true,
        "execution": {
          "iopub.status.busy": "2025-05-13T13:57:16.049124Z",
          "iopub.execute_input": "2025-05-13T13:57:16.049500Z",
          "iopub.status.idle": "2025-05-13T13:57:16.072195Z",
          "shell.execute_reply.started": "2025-05-13T13:57:16.049475Z",
          "shell.execute_reply": "2025-05-13T13:57:16.071074Z"
        },
        "id": "Bk0M4DENkzmZ"
      },
      "outputs": [],
      "execution_count": null
    },
    {
      "cell_type": "code",
      "source": [
        "# evaluate the best model on the held-out test set\n",
        "preds_test = best_model.transform(test)\n",
        "test_rmse = evaluator.evaluate(preds_test)\n",
        "print(f\"Test RMSE of best model = {test_rmse:.4f}\")"
      ],
      "metadata": {
        "trusted": true,
        "execution": {
          "iopub.status.busy": "2025-05-13T13:57:18.011439Z",
          "iopub.execute_input": "2025-05-13T13:57:18.012368Z",
          "iopub.status.idle": "2025-05-13T13:59:16.863231Z",
          "shell.execute_reply.started": "2025-05-13T13:57:18.012335Z",
          "shell.execute_reply": "2025-05-13T13:59:16.862314Z"
        },
        "id": "WjXKHEf2kzma",
        "outputId": "298cd47a-7f34-48e6-8601-9b51b3d1b111"
      },
      "outputs": [
        {
          "name": "stderr",
          "text": "25/05/13 13:57:18 WARN DAGScheduler: Broadcasting large task binary with size 7.5 MiB\n25/05/13 13:57:19 WARN DAGScheduler: Broadcasting large task binary with size 7.5 MiB  (0 + 0) / 10]\n25/05/13 13:58:51 WARN DAGScheduler: Broadcasting large task binary with size 7.5 MiB   (7 + 1) / 8]\n25/05/13 13:58:59 WARN DAGScheduler: Broadcasting large task binary with size 7.6 MiB   (4 + 1) / 5]\n25/05/13 13:59:01 WARN DAGScheduler: Broadcasting large task binary with size 7.6 MiB   (1 + 3) / 4]\n[Stage 276:==============================================>                              (3 + 2) / 5]\r",
          "output_type": "stream"
        },
        {
          "name": "stdout",
          "text": "Test RMSE of best model = 1.1902\n",
          "output_type": "stream"
        },
        {
          "name": "stderr",
          "text": "                                                                                                    \r",
          "output_type": "stream"
        }
      ],
      "execution_count": null
    },
    {
      "cell_type": "markdown",
      "source": [
        "### 4.4 Save Model"
      ],
      "metadata": {
        "id": "zZQgcvaxkzma"
      }
    },
    {
      "cell_type": "code",
      "source": [
        "# save the best model to disk\n",
        "best_model.write().overwrite().save(\"als_best_model\")\n",
        "print(\"Best ALS model saved to 'als_best_model'\")"
      ],
      "metadata": {
        "trusted": true,
        "execution": {
          "iopub.status.busy": "2025-05-13T13:59:59.718221Z",
          "iopub.execute_input": "2025-05-13T13:59:59.718592Z",
          "iopub.status.idle": "2025-05-13T14:00:10.035495Z",
          "shell.execute_reply.started": "2025-05-13T13:59:59.718565Z",
          "shell.execute_reply": "2025-05-13T14:00:10.034358Z"
        },
        "id": "UVpScAlBkzma",
        "outputId": "83ee9c94-49fd-4c71-b135-17922c82a591"
      },
      "outputs": [
        {
          "name": "stderr",
          "text": "25/05/13 14:00:00 WARN DAGScheduler: Broadcasting large task binary with size 7.7 MiB\n25/05/13 14:00:07 WARN DAGScheduler: Broadcasting large task binary with size 7.7 MiB               \n[Stage 332:============================================================>               (8 + 2) / 10]\r",
          "output_type": "stream"
        },
        {
          "name": "stdout",
          "text": "Best ALS model saved to 'als_best_model'\n",
          "output_type": "stream"
        },
        {
          "name": "stderr",
          "text": "                                                                                                    \r",
          "output_type": "stream"
        }
      ],
      "execution_count": null
    },
    {
      "cell_type": "code",
      "source": [
        "!zip -r model.zip als_best_model"
      ],
      "metadata": {
        "trusted": true,
        "execution": {
          "iopub.status.busy": "2025-05-13T14:00:21.132492Z",
          "iopub.execute_input": "2025-05-13T14:00:21.132815Z",
          "iopub.status.idle": "2025-05-13T14:00:24.943993Z",
          "shell.execute_reply.started": "2025-05-13T14:00:21.132794Z",
          "shell.execute_reply": "2025-05-13T14:00:24.942625Z"
        },
        "id": "HyC91GMWkzma",
        "outputId": "e15532d2-d4c0-408f-fd28-2647cfe7d12d"
      },
      "outputs": [
        {
          "name": "stdout",
          "text": "  adding: als_best_model/ (stored 0%)\n  adding: als_best_model/metadata/ (stored 0%)\n  adding: als_best_model/metadata/part-00000 (deflated 38%)\n  adding: als_best_model/metadata/.part-00000.crc (stored 0%)\n  adding: als_best_model/metadata/_SUCCESS (stored 0%)\n  adding: als_best_model/metadata/._SUCCESS.crc (stored 0%)\n  adding: als_best_model/itemFactors/ (stored 0%)\n  adding: als_best_model/itemFactors/.part-00002-0a650b85-cab2-491d-abd0-c74cfb35adf2-c000.snappy.parquet.crc (stored 0%)\n  adding: als_best_model/itemFactors/.part-00005-0a650b85-cab2-491d-abd0-c74cfb35adf2-c000.snappy.parquet.crc (stored 0%)\n  adding: als_best_model/itemFactors/.part-00001-0a650b85-cab2-491d-abd0-c74cfb35adf2-c000.snappy.parquet.crc (stored 0%)\n  adding: als_best_model/itemFactors/.part-00006-0a650b85-cab2-491d-abd0-c74cfb35adf2-c000.snappy.parquet.crc (stored 0%)\n  adding: als_best_model/itemFactors/part-00001-0a650b85-cab2-491d-abd0-c74cfb35adf2-c000.snappy.parquet (deflated 8%)\n  adding: als_best_model/itemFactors/.part-00008-0a650b85-cab2-491d-abd0-c74cfb35adf2-c000.snappy.parquet.crc (stored 0%)\n  adding: als_best_model/itemFactors/part-00004-0a650b85-cab2-491d-abd0-c74cfb35adf2-c000.snappy.parquet (deflated 8%)\n  adding: als_best_model/itemFactors/part-00003-0a650b85-cab2-491d-abd0-c74cfb35adf2-c000.snappy.parquet (deflated 8%)\n  adding: als_best_model/itemFactors/part-00009-0a650b85-cab2-491d-abd0-c74cfb35adf2-c000.snappy.parquet (deflated 8%)\n  adding: als_best_model/itemFactors/.part-00004-0a650b85-cab2-491d-abd0-c74cfb35adf2-c000.snappy.parquet.crc (stored 0%)\n  adding: als_best_model/itemFactors/_SUCCESS (stored 0%)\n  adding: als_best_model/itemFactors/part-00002-0a650b85-cab2-491d-abd0-c74cfb35adf2-c000.snappy.parquet (deflated 8%)\n  adding: als_best_model/itemFactors/.part-00007-0a650b85-cab2-491d-abd0-c74cfb35adf2-c000.snappy.parquet.crc (stored 0%)\n  adding: als_best_model/itemFactors/.part-00009-0a650b85-cab2-491d-abd0-c74cfb35adf2-c000.snappy.parquet.crc (stored 0%)\n  adding: als_best_model/itemFactors/part-00008-0a650b85-cab2-491d-abd0-c74cfb35adf2-c000.snappy.parquet (deflated 8%)\n  adding: als_best_model/itemFactors/.part-00003-0a650b85-cab2-491d-abd0-c74cfb35adf2-c000.snappy.parquet.crc (stored 0%)\n  adding: als_best_model/itemFactors/part-00007-0a650b85-cab2-491d-abd0-c74cfb35adf2-c000.snappy.parquet (deflated 8%)\n  adding: als_best_model/itemFactors/part-00006-0a650b85-cab2-491d-abd0-c74cfb35adf2-c000.snappy.parquet (deflated 8%)\n  adding: als_best_model/itemFactors/part-00000-0a650b85-cab2-491d-abd0-c74cfb35adf2-c000.snappy.parquet (deflated 8%)\n  adding: als_best_model/itemFactors/.part-00000-0a650b85-cab2-491d-abd0-c74cfb35adf2-c000.snappy.parquet.crc (stored 0%)\n  adding: als_best_model/itemFactors/._SUCCESS.crc (stored 0%)\n  adding: als_best_model/itemFactors/part-00005-0a650b85-cab2-491d-abd0-c74cfb35adf2-c000.snappy.parquet (deflated 8%)\n  adding: als_best_model/userFactors/ (stored 0%)\n  adding: als_best_model/userFactors/part-00008-2fc2f014-0f07-4510-b379-da79d1651128-c000.snappy.parquet (deflated 8%)\n  adding: als_best_model/userFactors/.part-00000-2fc2f014-0f07-4510-b379-da79d1651128-c000.snappy.parquet.crc (stored 0%)\n  adding: als_best_model/userFactors/part-00007-2fc2f014-0f07-4510-b379-da79d1651128-c000.snappy.parquet (deflated 8%)\n  adding: als_best_model/userFactors/.part-00006-2fc2f014-0f07-4510-b379-da79d1651128-c000.snappy.parquet.crc (stored 0%)\n  adding: als_best_model/userFactors/part-00003-2fc2f014-0f07-4510-b379-da79d1651128-c000.snappy.parquet (deflated 8%)\n  adding: als_best_model/userFactors/.part-00004-2fc2f014-0f07-4510-b379-da79d1651128-c000.snappy.parquet.crc (stored 0%)\n  adding: als_best_model/userFactors/part-00000-2fc2f014-0f07-4510-b379-da79d1651128-c000.snappy.parquet (deflated 8%)\n  adding: als_best_model/userFactors/part-00005-2fc2f014-0f07-4510-b379-da79d1651128-c000.snappy.parquet (deflated 8%)\n  adding: als_best_model/userFactors/part-00009-2fc2f014-0f07-4510-b379-da79d1651128-c000.snappy.parquet (deflated 8%)\n  adding: als_best_model/userFactors/.part-00009-2fc2f014-0f07-4510-b379-da79d1651128-c000.snappy.parquet.crc (stored 0%)\n  adding: als_best_model/userFactors/_SUCCESS (stored 0%)\n  adding: als_best_model/userFactors/.part-00003-2fc2f014-0f07-4510-b379-da79d1651128-c000.snappy.parquet.crc (stored 0%)\n  adding: als_best_model/userFactors/.part-00008-2fc2f014-0f07-4510-b379-da79d1651128-c000.snappy.parquet.crc (stored 0%)\n  adding: als_best_model/userFactors/.part-00002-2fc2f014-0f07-4510-b379-da79d1651128-c000.snappy.parquet.crc (stored 0%)\n  adding: als_best_model/userFactors/part-00006-2fc2f014-0f07-4510-b379-da79d1651128-c000.snappy.parquet (deflated 8%)\n  adding: als_best_model/userFactors/.part-00001-2fc2f014-0f07-4510-b379-da79d1651128-c000.snappy.parquet.crc (stored 0%)\n  adding: als_best_model/userFactors/.part-00007-2fc2f014-0f07-4510-b379-da79d1651128-c000.snappy.parquet.crc (stored 0%)\n  adding: als_best_model/userFactors/part-00004-2fc2f014-0f07-4510-b379-da79d1651128-c000.snappy.parquet (deflated 8%)\n  adding: als_best_model/userFactors/part-00002-2fc2f014-0f07-4510-b379-da79d1651128-c000.snappy.parquet (deflated 8%)\n  adding: als_best_model/userFactors/.part-00005-2fc2f014-0f07-4510-b379-da79d1651128-c000.snappy.parquet.crc (stored 0%)\n  adding: als_best_model/userFactors/._SUCCESS.crc (stored 0%)\n  adding: als_best_model/userFactors/part-00001-2fc2f014-0f07-4510-b379-da79d1651128-c000.snappy.parquet (deflated 8%)\n",
          "output_type": "stream"
        }
      ],
      "execution_count": null
    },
    {
      "cell_type": "markdown",
      "source": [
        "### 4.5 Model Usage"
      ],
      "metadata": {
        "id": "U7GvHIudkzmb"
      }
    },
    {
      "cell_type": "markdown",
      "source": [
        "#### 4.5.1 Business Recommendation for users"
      ],
      "metadata": {
        "id": "fowNsXPhkzmb"
      }
    },
    {
      "cell_type": "code",
      "source": [
        "data.show()"
      ],
      "metadata": {
        "trusted": true,
        "execution": {
          "iopub.status.busy": "2025-05-13T14:04:41.123098Z",
          "iopub.execute_input": "2025-05-13T14:04:41.123431Z",
          "iopub.status.idle": "2025-05-13T14:06:08.748657Z",
          "shell.execute_reply.started": "2025-05-13T14:04:41.123410Z",
          "shell.execute_reply": "2025-05-13T14:06:08.745925Z"
        },
        "id": "r0PTjal_kzmc",
        "outputId": "9983363c-0d38-4527-f3c6-b66e61454d2c"
      },
      "outputs": [
        {
          "name": "stderr",
          "text": "25/05/13 14:06:07 WARN DAGScheduler: Broadcasting large task binary with size 7.5 MiB   (6 + 2) / 8]\n[Stage 356:>                                                                            (0 + 1) / 1]\r",
          "output_type": "stream"
        },
        {
          "name": "stdout",
          "text": "+--------------------+--------------------+-----+-------------------+-----+-----+-------+-------+\n|         business_id|             user_id|stars|               date|count|count|    uid|    bid|\n+--------------------+--------------------+-----+-------------------+-----+-----+-------+-------+\n|---kPU91CF4Lq2-Wl...|6SoUQtbIltsun0IIG...|  4.0|2021-11-28 16:40:02|   20|   24|30418.0|45749.0|\n|---kPU91CF4Lq2-Wl...|qrCkKrEwQ-q9m1iWS...|  5.0|2020-03-18 01:34:18|   59|   24| 6617.0|45749.0|\n|---kPU91CF4Lq2-Wl...|i48cHEyRBl5g9_npY...|  4.0|2020-06-04 12:27:25|  172|   24| 1427.0|45749.0|\n|---kPU91CF4Lq2-Wl...|Q-ia5eY9smWBTwYOZ...|  5.0|2020-10-02 23:01:22|   15|   24|65789.0|45749.0|\n|---kPU91CF4Lq2-Wl...|V8oYXtc0hMuYzG5Hf...|  3.0|2021-03-06 01:39:34|   12|   24|59056.0|45749.0|\n|---kPU91CF4Lq2-Wl...|TIx1jZXl57mY-JnS3...|  5.0|2021-10-19 01:16:48|   98|   24| 2926.0|45749.0|\n|--9osgUCSDUWUkoTL...|NXnWmsyvBx8hjmCTF...|  5.0|2019-01-06 01:26:39|  174|   30| 1062.0|40783.0|\n|--9osgUCSDUWUkoTL...|vcsKTnTWI7iq_peGE...|  5.0|2018-05-22 04:04:48|   30|   30|18808.0|40783.0|\n|--9osgUCSDUWUkoTL...|wYnXoa1Vff_jMk9PI...|  5.0|2019-02-24 05:42:24|   23|   30|27987.0|40783.0|\n|--9osgUCSDUWUkoTL...|9cr05MO9-zeRwDCSm...|  3.0|2015-07-08 15:42:14|   10|   30|82025.0|40783.0|\n|--9osgUCSDUWUkoTL...|96PEBHbQokIaQZHF_...|  5.0|2019-08-30 01:32:34|   33|   30|19026.0|40783.0|\n|--9osgUCSDUWUkoTL...|N8nlG4XpbAcB74jEW...|  5.0|2022-01-07 16:50:23|   76|   30| 4140.0|40783.0|\n|--9osgUCSDUWUkoTL...|9Bwu2Yl9GABBntKrV...|  5.0|2018-02-24 06:16:05|   55|   30| 7272.0|40783.0|\n|--9osgUCSDUWUkoTL...|qQ4Ht8TbyC9E77NBz...|  4.0|2018-04-22 20:01:33|   23|   30|27807.0|40783.0|\n|--9osgUCSDUWUkoTL...|DdPEm9nl_5zxrzGNa...|  5.0|2021-01-05 19:53:36|   93|   30| 4128.0|40783.0|\n|--epgcb7xHGuJ-4PU...|LD4vNEjKsnkStcVl9...|  1.0|2018-03-27 16:52:44|   12|   38|74281.0|24037.0|\n|--epgcb7xHGuJ-4PU...|7re6dowFy3CO6y3Pb...|  1.0|2021-12-05 15:13:25|   56|   38|10569.0|24037.0|\n|--epgcb7xHGuJ-4PU...|wUTjHpPAs6EWFZtMf...|  5.0|2014-06-28 11:33:26|  179|   38|  883.0|24037.0|\n|--epgcb7xHGuJ-4PU...|qdHRpSbLkkNmL_4xH...|  5.0|2016-08-27 23:46:21|   25|   38|40843.0|24037.0|\n|--epgcb7xHGuJ-4PU...|6woTWCjHDMEjQclni...|  5.0|2013-01-15 05:53:08|  105|   38| 2579.0|24037.0|\n+--------------------+--------------------+-----+-------------------+-----+-----+-------+-------+\nonly showing top 20 rows\n\n",
          "output_type": "stream"
        },
        {
          "name": "stderr",
          "text": "                                                                                                    \r",
          "output_type": "stream"
        }
      ],
      "execution_count": null
    },
    {
      "cell_type": "code",
      "source": [
        "# demonstrate recommendations for a random user\n",
        "\n",
        "# pick a random original user_id and its uid\n",
        "random_user = data.select(\"user_id\",\"uid\") \\\n",
        "             .distinct() \\\n",
        "             .orderBy(rand()) \\\n",
        "             .limit(1) \\\n",
        "             .collect()[0]\n",
        "\n",
        "random_user_id, random_uid = random_user[\"user_id\"], random_user[\"uid\"]\n",
        "print(f\"Random user: user_id={random_user_id}, uid={random_uid}\")"
      ],
      "metadata": {
        "trusted": true,
        "execution": {
          "iopub.status.busy": "2025-05-13T14:18:35.269615Z",
          "iopub.execute_input": "2025-05-13T14:18:35.270783Z",
          "iopub.status.idle": "2025-05-13T14:20:06.341277Z",
          "shell.execute_reply.started": "2025-05-13T14:18:35.270751Z",
          "shell.execute_reply": "2025-05-13T14:20:06.337770Z"
        },
        "id": "o-TY-7MXkzmc",
        "outputId": "470c6c99-ee9d-49ee-a343-dc1153aceed7"
      },
      "outputs": [
        {
          "name": "stderr",
          "text": "25/05/13 14:20:01 WARN DAGScheduler: Broadcasting large task binary with size 5.0 MiB   (4 + 2) / 6]\n25/05/13 14:20:02 WARN RowBasedKeyValueBatch: Calling spill() on RowBasedKeyValueBatch. Will not spill but return 0.\n25/05/13 14:20:02 WARN RowBasedKeyValueBatch: Calling spill() on RowBasedKeyValueBatch. Will not spill but return 0.\n25/05/13 14:20:03 WARN RowBasedKeyValueBatch: Calling spill() on RowBasedKeyValueBatch. Will not spill but return 0.\n25/05/13 14:20:03 WARN RowBasedKeyValueBatch: Calling spill() on RowBasedKeyValueBatch. Will not spill but return 0.\n25/05/13 14:20:05 WARN DAGScheduler: Broadcasting large task binary with size 4.9 MiB   (4 + 1) / 5]\n",
          "output_type": "stream"
        },
        {
          "name": "stdout",
          "text": "Random user: user_id=RIXIoCTafjr1auUJkV3fLg, uid=6344.0\n",
          "output_type": "stream"
        },
        {
          "name": "stderr",
          "text": "                                                                                                    \r",
          "output_type": "stream"
        }
      ],
      "execution_count": null
    },
    {
      "cell_type": "code",
      "source": [
        "# join to have the business info to display\n",
        "reviews_with_meta = data.join(business_df, on=\"business_id\", how=\"left\")\n",
        "\n",
        "# show top 20 historical ratings\n",
        "print(\"Top 20 ratings:\")\n",
        "hist = (reviews_with_meta.filter(col(\"user_id\")==random_user_id)\n",
        "               .orderBy(col(\"stars\").desc())\n",
        "               .select(\"name\",\"categories\",col(\"stars\").alias(\"rating\"))\n",
        "               .limit(20))\n",
        "hist.show()"
      ],
      "metadata": {
        "trusted": true,
        "execution": {
          "iopub.status.busy": "2025-05-13T14:32:08.652466Z",
          "iopub.execute_input": "2025-05-13T14:32:08.652835Z",
          "iopub.status.idle": "2025-05-13T14:32:56.896629Z",
          "shell.execute_reply.started": "2025-05-13T14:32:08.652811Z",
          "shell.execute_reply": "2025-05-13T14:32:56.894165Z"
        },
        "id": "S_J_NRUBkzmd",
        "outputId": "5e88e0dc-baff-433a-cf65-c80ff032bb25"
      },
      "outputs": [
        {
          "name": "stdout",
          "text": "Top 20 ratings:\n",
          "output_type": "stream"
        },
        {
          "name": "stderr",
          "text": "                                                                                                    \r",
          "output_type": "stream"
        },
        {
          "name": "stdout",
          "text": "+--------------------+--------------------+------+\n|                name|          categories|rating|\n+--------------------+--------------------+------+\n|      El Charro Cafe|Tapas/Small Plate...|   5.0|\n|Century Park Plac...|Venues & Event Sp...|   4.0|\n|          The Parish|Gastropubs, Cajun...|   4.0|\n|    Crave Coffee Bar|Food, Coffee & Te...|   4.0|\n|        La Encantada|Shopping Centers,...|   4.0|\n|        Frost Gelato|Desserts, Coffee ...|   4.0|\n|Ghini's French Caffe|Restaurants, Food...|   4.0|\n|         Time Market|Restaurants, Food...|   4.0|\n|Enterprise Rent-A...|Hotels & Travel, ...|   4.0|\n|         Smashburger|Sandwiches, Burge...|   4.0|\n|Plunketts Office ...|Arts & Crafts, Sh...|   4.0|\n|  Empire Pizza & Pub|Food, Pizza, Nigh...|   4.0|\n|              Macy's|Department Stores...|   4.0|\n|        World Market|Shopping, Home De...|   4.0|\n|     AJ's Fine Foods|Delis, Bakeries, ...|   4.0|\n|        Pottery Barn|Home & Garden, Fu...|   4.0|\n|  Whole Foods Market|Health Markets, F...|   4.0|\n|  Union Public House|Bars, Cocktail Ba...|   4.0|\n|Bookmans Entertai...|Shopping, Videos ...|   4.0|\n|BJ's Restaurant &...|Restaurants, Brew...|   4.0|\n+--------------------+--------------------+------+\n\n",
          "output_type": "stream"
        }
      ],
      "execution_count": null
    },
    {
      "cell_type": "markdown",
      "source": [
        "A random user is chosen, and their top 20 highly-rated businesses are displayed. This helps understand the user's preferences — in this case, mostly restaurants and local services rated 4.0 or 5.0."
      ],
      "metadata": {
        "id": "91AQkuyqlXqb"
      }
    },
    {
      "cell_type": "code",
      "source": [
        "# generate & show top 10 recommendations\n",
        "single = spark.createDataFrame([(random_uid,)], [\"uid\"])\n",
        "\n",
        "# recommend using best model\n",
        "recs = best_model.recommendForUserSubset(single, 10)\n",
        "recs_flat = recs.select(explode(\"recommendations\").alias(\"rec\")) \\\n",
        "                .select(col(\"rec.bid\").alias(\"bid\"),\n",
        "                        col(\"rec.rating\").alias(\"pred_rating\"))\n",
        "\n",
        "# bring back original biz IDs & metadata\n",
        "biz_meta = reviews_with_meta.select(\"bid\", \"business_id\",\"name\",\"categories\").distinct()\n",
        "top10 = recs_flat.join(biz_meta, on=\"bid\") \\\n",
        "                 .select(\"name\",\"categories\",\"pred_rating\")\n",
        "\n",
        "print(\"Top 10 recommendations:\")\n",
        "top10.show()"
      ],
      "metadata": {
        "trusted": true,
        "execution": {
          "iopub.status.busy": "2025-05-13T14:35:14.377533Z",
          "iopub.execute_input": "2025-05-13T14:35:14.377909Z",
          "iopub.status.idle": "2025-05-13T14:36:58.806717Z",
          "shell.execute_reply.started": "2025-05-13T14:35:14.377888Z",
          "shell.execute_reply": "2025-05-13T14:36:58.803634Z"
        },
        "id": "jKLiuEXkkzmd",
        "outputId": "ba370408-647c-4390-a1c5-d37c8b8ce27e"
      },
      "outputs": [
        {
          "name": "stdout",
          "text": "Top 10 recommendations:\n",
          "output_type": "stream"
        },
        {
          "name": "stderr",
          "text": "25/05/13 14:35:15 WARN DAGScheduler: Broadcasting large task binary with size 7.5 MiB\n25/05/13 14:35:18 WARN DAGScheduler: Broadcasting large task binary with size 7.6 MiB (0 + 0) / 40]]\n25/05/13 14:35:28 WARN DAGScheduler: Broadcasting large task binary with size 7.6 MiB (0 + 0) / 40] \n25/05/13 14:36:54 WARN DAGScheduler: Broadcasting large task binary with size 7.7 MiB   (5 + 1) / 6]\n25/05/13 14:36:56 WARN DAGScheduler: Broadcasting large task binary with size 7.7 MiB               \n[Stage 683:===================================================>                         (2 + 1) / 3]\r",
          "output_type": "stream"
        },
        {
          "name": "stdout",
          "text": "+--------------------+--------------------+-----------+\n|                name|          categories|pred_rating|\n+--------------------+--------------------+-----------+\n|        Thai Day Spa|Beauty & Spas, Sk...|  4.6124053|\n|     Sanctity Tattoo|Beauty & Spas, Ta...|  4.5933967|\n|Story's Lock and Key|Automotive, Local...|  4.6610947|\n| Karabu Pet Grooming|Pets, Pet Service...|  4.6053042|\n|Native Seeds/ SEARCH|Shopping, Nurseri...|   4.577125|\n|All Souls Procession|Arts & Entertainm...|  4.6964893|\n|      Istari Studios|Tattoo, Beauty & ...|   4.599941|\n|  La Mariposa Resort|Venues & Event Sp...|   4.755892|\n|Firestone Complet...|Auto Parts & Supp...|   4.579238|\n|   Distinctive Steel|Decks & Railing, ...|   4.569187|\n+--------------------+--------------------+-----------+\n\n",
          "output_type": "stream"
        },
        {
          "name": "stderr",
          "text": "                                                                                                    \r",
          "output_type": "stream"
        }
      ],
      "execution_count": null
    },
    {
      "cell_type": "markdown",
      "source": [
        "Although the user's top historical ratings were mostly for restaurants, the recommendations include categories like spas and tattoos. This is because the ALS model is based on collaborative filtering. It suggests items liked by similar users, not necessarily from the same category. If users with similar preferences also rated these non-restaurant businesses highly, the model assumes the target user might like them too. This behavior reflects user-based patterns rather than content similarity."
      ],
      "metadata": {
        "id": "kwerU1YRldBz"
      }
    },
    {
      "cell_type": "markdown",
      "source": [
        "#### 4.5.2 Users Recommendation for businesses"
      ],
      "metadata": {
        "id": "KzMDiND4kzme"
      }
    },
    {
      "cell_type": "markdown",
      "source": [
        "We randomly select a business from the dataset and retrieve the top 20 user ratings it has received."
      ],
      "metadata": {
        "id": "Fd4kgTiRppmU"
      }
    },
    {
      "cell_type": "code",
      "source": [
        "# pick a random original business_id and its bid\n",
        "random_business = (\n",
        "    data.select(\"business_id\", \"bid\")\n",
        "        .distinct()\n",
        "        .orderBy(rand())\n",
        "        .limit(1)\n",
        "        .collect()[0]\n",
        ")\n",
        "\n",
        "random_business_id, random_bid = random_business[\"business_id\"], random_business[\"bid\"]\n",
        "print(f\"Random business: business_id={random_business_id}, bid={random_bid}\")"
      ],
      "metadata": {
        "trusted": true,
        "execution": {
          "iopub.status.busy": "2025-05-13T14:41:58.641927Z",
          "iopub.execute_input": "2025-05-13T14:41:58.642414Z",
          "iopub.status.idle": "2025-05-13T14:43:26.307196Z",
          "shell.execute_reply.started": "2025-05-13T14:41:58.642386Z",
          "shell.execute_reply": "2025-05-13T14:43:26.306266Z"
        },
        "id": "ppJZuwXrkzme",
        "outputId": "ab100300-1cb1-48af-9286-68d08e365606"
      },
      "outputs": [
        {
          "name": "stderr",
          "text": "25/05/13 14:43:22 WARN DAGScheduler: Broadcasting large task binary with size 2.6 MiB   (4 + 2) / 6]\n[Stage 695:=========================================================>                   (3 + 1) / 4]\r",
          "output_type": "stream"
        },
        {
          "name": "stdout",
          "text": "Random business: business_id=aHmRr6FCTxlJ7eD1bC4RUQ, bid=34796.0\n",
          "output_type": "stream"
        },
        {
          "name": "stderr",
          "text": "                                                                                                    \r",
          "output_type": "stream"
        }
      ],
      "execution_count": null
    },
    {
      "cell_type": "code",
      "source": [
        "print(\"Top 20 ratings by users for this business:\")\n",
        "hist_biz = (\n",
        "    data\n",
        "      .filter(col(\"business_id\") == random_business_id)\n",
        "      .orderBy(col(\"stars\").desc())\n",
        "      .select(\"user_id\", col(\"stars\").alias(\"rating\"))\n",
        "      .limit(20)\n",
        ")\n",
        "hist_biz.show()"
      ],
      "metadata": {
        "trusted": true,
        "execution": {
          "iopub.status.busy": "2025-05-13T14:43:30.010480Z",
          "iopub.execute_input": "2025-05-13T14:43:30.010833Z",
          "iopub.status.idle": "2025-05-13T14:44:24.753768Z",
          "shell.execute_reply.started": "2025-05-13T14:43:30.010809Z",
          "shell.execute_reply": "2025-05-13T14:44:24.752764Z"
        },
        "id": "ZAs2pZ_zkzmf",
        "outputId": "274e5228-ed28-41de-9fcf-76b2d4255a05"
      },
      "outputs": [
        {
          "name": "stdout",
          "text": "Top 20 ratings by users for this business:\n",
          "output_type": "stream"
        },
        {
          "name": "stderr",
          "text": "[Stage 705:>                                                                            (0 + 4) / 5]\r",
          "output_type": "stream"
        },
        {
          "name": "stdout",
          "text": "+--------------------+------+\n|             user_id|rating|\n+--------------------+------+\n|4W49THS3wwMaWCcqq...|   5.0|\n|-n4YtwxACJo8HFe4F...|   5.0|\n|D2IUOetOVfjAkmohD...|   5.0|\n|9TJMq58VJjvr0mDjw...|   5.0|\n|4Pk295jW5RiHkfG9M...|   5.0|\n|V9IcxLPr-2ipzfshm...|   5.0|\n|8MkZ6bpdP7x8Vlm_u...|   5.0|\n|5GqguHZj4OXbsNomb...|   5.0|\n|GZgMcF-eRFWdoNjbJ...|   5.0|\n|Q3Ht1BJCC7z3jvD9J...|   5.0|\n|wMy-6JNoA0_AveVsq...|   5.0|\n|zdmgX3KCWjoG8dYR2...|   1.0|\n|iiJirn6ACeI9VvZBk...|   1.0|\n+--------------------+------+\n\n",
          "output_type": "stream"
        },
        {
          "name": "stderr",
          "text": "                                                                                                    \r",
          "output_type": "stream"
        }
      ],
      "execution_count": null
    },
    {
      "cell_type": "markdown",
      "source": [
        "We display the available ratings given by users for the selected business. Most users gave it a perfect score of 5.0, indicating strong positive feedback. Although we requested the top 20 ratings, fewer users have rated this business."
      ],
      "metadata": {
        "id": "FAyrhtH0p0XF"
      }
    },
    {
      "cell_type": "markdown",
      "source": [
        "Now using the ALS model, we want to identify users who are most likely to rate this business highly, even if they haven't interacted with it before."
      ],
      "metadata": {
        "id": "kzMqrt4bqXi3"
      }
    },
    {
      "cell_type": "code",
      "source": [
        "# generate & show top 10 user recommendations for this business\n",
        "\n",
        "single_biz_df = spark.createDataFrame([(random_bid,)], [\"bid\"])\n",
        "user_recs = best_model.recommendForItemSubset(single_biz_df, 10)\n",
        "\n",
        "# flatten out the struct and get uid + predicted rating\n",
        "recs_flat = (\n",
        "    user_recs\n",
        "      .select(explode(\"recommendations\").alias(\"rec\"))\n",
        "      .select(\n",
        "         col(\"rec.uid\").alias(\"uid\"),\n",
        "         col(\"rec.rating\").alias(\"predicted_rating\")\n",
        "      )\n",
        ")\n",
        "\n",
        "# recover original user_id from uid\n",
        "user_meta = data.select(\"uid\", \"user_id\").distinct()\n",
        "top_users = (\n",
        "    recs_flat\n",
        "      .join(user_meta, on=\"uid\", how=\"left\")\n",
        "      .select(\"user_id\", \"predicted_rating\")\n",
        "      .orderBy(col(\"predicted_rating\").desc())\n",
        ")\n",
        "\n",
        "print(\"Top 10 users likely to rate this business highly:\")\n",
        "top_users.show()"
      ],
      "metadata": {
        "trusted": true,
        "execution": {
          "iopub.status.busy": "2025-05-13T15:29:00.638125Z",
          "iopub.execute_input": "2025-05-13T15:29:00.638513Z",
          "iopub.status.idle": "2025-05-13T15:30:48.700965Z",
          "shell.execute_reply.started": "2025-05-13T15:29:00.638489Z",
          "shell.execute_reply": "2025-05-13T15:30:48.700064Z"
        },
        "id": "LPLAW9zJkzmf",
        "outputId": "fe3b78d2-ab4d-4386-afd2-14bb8867b61a"
      },
      "outputs": [
        {
          "name": "stdout",
          "text": "Top 10 users likely to rate this business highly:\n",
          "output_type": "stream"
        },
        {
          "name": "stderr",
          "text": "25/05/13 15:29:01 WARN DAGScheduler: Broadcasting large task binary with size 7.5 MiB\n25/05/13 15:29:04 WARN DAGScheduler: Broadcasting large task binary with size 7.6 MiB   (2 + 2) / 4]\n25/05/13 15:29:15 WARN DAGScheduler: Broadcasting large task binary with size 7.6 MiB (0 + 0) / 40]]\n25/05/13 15:30:42 WARN DAGScheduler: Broadcasting large task binary with size 5.0 MiB   (5 + 1) / 6]\n25/05/13 15:30:46 WARN DAGScheduler: Broadcasting large task binary with size 4.9 MiB   (4 + 1) / 5]\n25/05/13 15:30:48 WARN DAGScheduler: Broadcasting large task binary with size 7.6 MiB   (2 + 2) / 4]\n",
          "output_type": "stream"
        },
        {
          "name": "stdout",
          "text": "+--------------------+----------------+\n|             user_id|predicted_rating|\n+--------------------+----------------+\n|BbDE6GvqFgE_lJNg_...|       5.9048853|\n|oF-ddAcFcYBpe1iJd...|       5.7885976|\n|cF-bdU7IaLkgrk5ls...|       5.5619354|\n|LqqI8VNFd30jzzUhy...|       5.5513825|\n|rZWjUHMHHizDn1Hmv...|        5.539182|\n|uyv47azu0RDhJLyWU...|       5.5383754|\n|6yZKAnIU1v_JGhZT1...|       5.5318933|\n|onS4xr-XkYCAT_V9q...|       5.5316005|\n|4m6xbOBUwNIvIJyRk...|        5.504732|\n|ne-yv1C8O_ppzaE62...|       5.4860926|\n+--------------------+----------------+\n\n",
          "output_type": "stream"
        },
        {
          "name": "stderr",
          "text": "                                                                                                    \r",
          "output_type": "stream"
        }
      ],
      "execution_count": null
    },
    {
      "cell_type": "markdown",
      "source": [
        "ALS generates raw preference scores as dot-products of user and item latent vectors. Even if training labels are 1-5 stars, ALS solves an unconstrained least-squares problem, so the dot product of the user and item vectors can exceed the original range. In other words, those “predicted_rating” values aren't clipped to [1,5], they're just raw preference scores.\n",
        "\n",
        "So we want to rescale them to see sensible values."
      ],
      "metadata": {
        "id": "LxGCejYpkzmg"
      }
    },
    {
      "cell_type": "code",
      "source": [
        "# identify users who already rated that business\n",
        "rated_uids = (\n",
        "    data\n",
        "      .filter(col(\"bid\") == random_bid)\n",
        "      .select(\"uid\")\n",
        "      .distinct()\n",
        ")\n",
        "\n",
        "# all candidate users = every uid minus those who have rated\n",
        "all_uids = data.select(\"uid\").distinct()\n",
        "candidate_uids = all_uids.join(rated_uids, on=\"uid\", how=\"left_anti\")\n",
        "\n",
        "# build (uid, bid) pairs for candidates only\n",
        "biz_df = spark.createDataFrame([(random_bid,)], [\"bid\"])\n",
        "cross_df = candidate_uids.crossJoin(biz_df)\n",
        "\n",
        "# score every candidate user\n",
        "all_scores = best_model.transform(cross_df) \\\n",
        "    .select(\"uid\", col(\"prediction\").alias(\"raw_score\"))"
      ],
      "metadata": {
        "trusted": true,
        "execution": {
          "iopub.status.busy": "2025-05-13T15:14:59.144115Z",
          "iopub.execute_input": "2025-05-13T15:14:59.144555Z",
          "iopub.status.idle": "2025-05-13T15:14:59.382083Z",
          "shell.execute_reply.started": "2025-05-13T15:14:59.144512Z",
          "shell.execute_reply": "2025-05-13T15:14:59.380905Z"
        },
        "id": "vB3H6KBnkzmg"
      },
      "outputs": [],
      "execution_count": null
    },
    {
      "cell_type": "code",
      "source": [
        "# compute the global raw min and max\n",
        "stats = all_scores.agg(\n",
        "    min(\"raw_score\").alias(\"min_pred\"),\n",
        "    max(\"raw_score\").alias(\"max_pred\")\n",
        ").first()\n",
        "\n",
        "min_pred, max_pred = stats[\"min_pred\"], stats[\"max_pred\"]\n",
        "\n",
        "# apply min-max scaling so that min_pred → 1.0 and max_pred → 5.0\n",
        "preds_rescaled = all_scores.withColumn(\n",
        "    \"prediction_rescaled\",\n",
        "    # (prediction - min)/(max - min) scales to [0,1], then *4+1 → [1,5]\n",
        "    ((col(\"raw_score\") - lit(min_pred)) / (lit(max_pred) - lit(min_pred)) * 4.0) + 1.0\n",
        ")\n",
        "\n",
        "# clip just in case of numerical drift\n",
        "preds_rescaled = preds_rescaled.withColumn(\n",
        "    \"prediction_rescaled\",\n",
        "    least(greatest(col(\"prediction_rescaled\"), lit(1.0)), lit(5.0))\n",
        ").orderBy(col(\"prediction_rescaled\").desc())\n",
        "\n",
        "# attach original user_id to the scored results\n",
        "user_meta = data.select(\"uid\", \"user_id\").distinct()\n",
        "\n",
        "preds_rescaled_named = preds_rescaled.join(user_meta, on=\"uid\", how=\"left\") \\\n",
        "    .select(\"user_id\", \"prediction_rescaled\") \\\n",
        "    .orderBy(col(\"prediction_rescaled\").desc())\n",
        "\n",
        "# Show top 10 recommended new users by rescaled predicted rating\n",
        "preds_rescaled_named.show(10, truncate=False)"
      ],
      "metadata": {
        "trusted": true,
        "execution": {
          "iopub.status.busy": "2025-05-13T15:33:18.124943Z",
          "iopub.execute_input": "2025-05-13T15:33:18.125374Z",
          "iopub.status.idle": "2025-05-13T15:37:00.569953Z",
          "shell.execute_reply.started": "2025-05-13T15:33:18.125346Z",
          "shell.execute_reply": "2025-05-13T15:37:00.567892Z"
        },
        "id": "DvP8pEVgkzmh",
        "outputId": "705e6e79-435b-4f05-d805-783d2aa8852a"
      },
      "outputs": [
        {
          "name": "stderr",
          "text": "25/05/13 15:33:18 WARN DAGScheduler: Broadcasting large task binary with size 7.5 MiB\n25/05/13 15:33:18 WARN DAGScheduler: Broadcasting large task binary with size 7.5 MiB\n25/05/13 15:34:47 WARN DAGScheduler: Broadcasting large task binary with size 4.9 MiB   (5 + 1) / 6]\n25/05/13 15:34:48 WARN DAGScheduler: Broadcasting large task binary with size 7.5 MiB   (0 + 4) / 5]\n25/05/13 15:34:50 WARN RowBasedKeyValueBatch: Calling spill() on RowBasedKeyValueBatch. Will not spill but return 0.\n25/05/13 15:34:50 WARN RowBasedKeyValueBatch: Calling spill() on RowBasedKeyValueBatch. Will not spill but return 0.\n25/05/13 15:34:50 WARN RowBasedKeyValueBatch: Calling spill() on RowBasedKeyValueBatch. Will not spill but return 0.\n25/05/13 15:34:50 WARN RowBasedKeyValueBatch: Calling spill() on RowBasedKeyValueBatch. Will not spill but return 0.\n25/05/13 15:34:52 WARN DAGScheduler: Broadcasting large task binary with size 4.9 MiB   (0 + 4) / 5]\n25/05/13 15:34:56 WARN DAGScheduler: Broadcasting large task binary with size 7.5 MiB   (0 + 2) / 2]\n25/05/13 15:34:57 WARN DAGScheduler: Broadcasting large task binary with size 2.2 MiB               \n25/05/13 15:34:58 WARN DAGScheduler: Broadcasting large task binary with size 7.6 MiB   (2 + 2) / 4]\n25/05/13 15:35:00 WARN DAGScheduler: Broadcasting large task binary with size 7.7 MiB   (2 + 2) / 4]\n25/05/13 15:35:06 WARN DAGScheduler: Broadcasting large task binary with size 7.5 MiB               \n25/05/13 15:35:06 WARN DAGScheduler: Broadcasting large task binary with size 7.5 MiB\n25/05/13 15:36:37 WARN DAGScheduler: Broadcasting large task binary with size 4.9 MiB   (5 + 1) / 6]\n25/05/13 15:36:37 WARN DAGScheduler: Broadcasting large task binary with size 7.5 MiB   (0 + 4) / 5]\n25/05/13 15:36:38 WARN DAGScheduler: Broadcasting large task binary with size 5.0 MiB   (0 + 0) / 5]\n25/05/13 15:36:38 WARN RowBasedKeyValueBatch: Calling spill() on RowBasedKeyValueBatch. Will not spill but return 0.\n25/05/13 15:36:39 WARN RowBasedKeyValueBatch: Calling spill() on RowBasedKeyValueBatch. Will not spill but return 0.\n25/05/13 15:36:39 WARN RowBasedKeyValueBatch: Calling spill() on RowBasedKeyValueBatch. Will not spill but return 0.\n25/05/13 15:36:39 WARN RowBasedKeyValueBatch: Calling spill() on RowBasedKeyValueBatch. Will not spill but return 0.\n25/05/13 15:36:42 WARN DAGScheduler: Broadcasting large task binary with size 4.9 MiB   (0 + 0) / 5]\n25/05/13 15:36:43 WARN RowBasedKeyValueBatch: Calling spill() on RowBasedKeyValueBatch. Will not spill but return 0.\n25/05/13 15:36:43 WARN RowBasedKeyValueBatch: Calling spill() on RowBasedKeyValueBatch. Will not spill but return 0.\n25/05/13 15:36:43 WARN RowBasedKeyValueBatch: Calling spill() on RowBasedKeyValueBatch. Will not spill but return 0.\n25/05/13 15:36:43 WARN RowBasedKeyValueBatch: Calling spill() on RowBasedKeyValueBatch. Will not spill but return 0.\n25/05/13 15:36:47 WARN DAGScheduler: Broadcasting large task binary with size 7.5 MiB   (0 + 0) / 2]\n25/05/13 15:36:47 WARN RowBasedKeyValueBatch: Calling spill() on RowBasedKeyValueBatch. Will not spill but return 0.\n25/05/13 15:36:47 WARN RowBasedKeyValueBatch: Calling spill() on RowBasedKeyValueBatch. Will not spill but return 0.\n25/05/13 15:36:47 WARN RowBasedKeyValueBatch: Calling spill() on RowBasedKeyValueBatch. Will not spill but return 0.\n25/05/13 15:36:47 WARN RowBasedKeyValueBatch: Calling spill() on RowBasedKeyValueBatch. Will not spill but return 0.\n25/05/13 15:36:50 WARN DAGScheduler: Broadcasting large task binary with size 4.9 MiB               \n25/05/13 15:36:51 WARN DAGScheduler: Broadcasting large task binary with size 2.2 MiB               \n25/05/13 15:36:53 WARN DAGScheduler: Broadcasting large task binary with size 7.6 MiB   (3 + 1) / 4]\n25/05/13 15:36:54 WARN DAGScheduler: Broadcasting large task binary with size 7.7 MiB   (0 + 4) / 4]\n[Stage 2280:==================================================>                         (2 + 1) / 3]\r",
          "output_type": "stream"
        },
        {
          "name": "stdout",
          "text": "+----------------------+-------------------+\n|user_id               |prediction_rescaled|\n+----------------------+-------------------+\n|BbDE6GvqFgE_lJNg_WU4fg|5.0                |\n|oF-ddAcFcYBpe1iJd-zp-A|4.933731988565125  |\n|cF-bdU7IaLkgrk5lskj5Yw|4.804565438092041  |\n|LqqI8VNFd30jzzUhyG3e5A|4.79855256025386   |\n|rZWjUHMHHizDn1HmvHUiiQ|4.79159949092435   |\n|uyv47azu0RDhJLyWU-lTtg|4.791139449249547  |\n|6yZKAnIU1v_JGhZT1W3R6Q|4.787445801000523  |\n|onS4xr-XkYCAT_V9qOr24A|4.787278686038913  |\n|4m6xbOBUwNIvIJyRkHUo2w|4.7719676947758    |\n|ne-yv1C8O_ppzaE62kfJmQ|4.76134570477695   |\n+----------------------+-------------------+\nonly showing top 10 rows\n\n",
          "output_type": "stream"
        },
        {
          "name": "stderr",
          "text": "                                                                                                    \r",
          "output_type": "stream"
        }
      ],
      "execution_count": null
    },
    {
      "cell_type": "markdown",
      "source": [
        "After rescaling, we present the top 10 users who are most likely to give this business a high rating. These users are ideal targets for personalized marketing or outreach campaigns."
      ],
      "metadata": {
        "id": "4xz3_Z-Yq60P"
      }
    }
  ]
}